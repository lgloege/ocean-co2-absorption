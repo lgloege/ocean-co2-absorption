{
 "cells": [
  {
   "cell_type": "markdown",
   "metadata": {},
   "source": [
    "# Load libraries"
   ]
  },
  {
   "cell_type": "code",
   "execution_count": null,
   "metadata": {},
   "outputs": [],
   "source": [
    "import os\n",
    "import numpy as np\n",
    "import xarray as xr\n",
    "\n",
    "from plotly import tools\n",
    "from plotly import offline\n",
    "import plotly.graph_objs as go\n",
    "\n",
    "import cufflinks as cf\n",
    "cf.set_config_file(offline=True)"
   ]
  },
  {
   "cell_type": "markdown",
   "metadata": {},
   "source": [
    "# Download $\\textbf{pCO}_2$ testbed - member 001 dataset"
   ]
  },
  {
   "cell_type": "markdown",
   "metadata": {},
   "source": [
    "This contains model output from member 001 of the CESM large ensemble which can be used to evaluate ocean pCO2 interpolation methods. The dataset includes:\n",
    "\n",
    "* pCO2 = ocean partial pressure of carbon dioxide (uatm)\n",
    "* XCO2 = atmospheric carbon dioxide mixing ratio (ppmv)\n",
    "* SST = sea surface temperature (degC)\n",
    "* SSS = sea surface salinity (g/kg)\n",
    "* MLD = mixed layer depth (m)\n",
    "* CHL = chlorophyll concentration (mg/m3)"
   ]
  },
  {
   "cell_type": "code",
   "execution_count": null,
   "metadata": {},
   "outputs": [],
   "source": [
    "# #uncomment to download all data, though it's faster to download directly from figshare website\n",
    "# %%bash\n",
    "# curl https://ndownloader.figshare.com/files/13193369?private_link=a3e9a208108d91d75f72 --output ../data/raw/Chl_2D_mon_CESM001_1x1_198201-201701.nc\n",
    "# curl https://ndownloader.figshare.com/files/13194038?private_link=a3e9a208108d91d75f72 --output ../data/raw/MLD_2D_mon_CESM001_1x1_198201-201701.nc\n",
    "# curl https://ndownloader.figshare.com/files/13194299?private_link=a3e9a208108d91d75f72 --output ../data/raw/pCO2_2D_mon_CESM001_1x1_198201-201701.nc\n",
    "# curl https://ndownloader.figshare.com/files/13194548?private_link=a3e9a208108d91d75f72 --output ../data/raw/SSS_2D_mon_CESM001_1x1_198201-201701.nc\n",
    "# curl https://ndownloader.figshare.com/files/13194665?private_link=a3e9a208108d91d75f72 --output ../data/raw/SST_2D_mon_CESM001_1x1_198201-201701.nc\n",
    "# curl https://ndownloader.figshare.com/files/13195304?private_link=a3e9a208108d91d75f72 --output ../data/raw/XCO2_1D_mon_CESM001_native_198201-201701.nc"
   ]
  },
  {
   "cell_type": "markdown",
   "metadata": {},
   "source": [
    "# Read each feature"
   ]
  },
  {
   "cell_type": "code",
   "execution_count": null,
   "metadata": {},
   "outputs": [],
   "source": [
    "DATA_DIR = '../data/raw'\n",
    "dataset_names = {'pCO2': 'pCO2_2D_mon_CESM001_1x1_198201-201701.nc',\n",
    "                 'XCO2': 'XCO2_1D_mon_CESM001_native_198201-201701.nc',\n",
    "                 'SST': 'SST_2D_mon_CESM001_1x1_198201-201701.nc',\n",
    "                 'SSS': 'SSS_2D_mon_CESM001_1x1_198201-201701.nc',\n",
    "                 'MLD': 'MLD_2D_mon_CESM001_1x1_198201-201701.nc',\n",
    "                 'Chl': 'Chl_2D_mon_CESM001_1x1_198201-201701.nc'}\n",
    "ds = {}\n",
    "for dataset in dataset_names.keys():\n",
    "    filename = os.path.join(DATA_DIR, dataset_names[dataset])\n",
    "    ds[dataset] = xr.open_dataset(filename)"
   ]
  },
  {
   "cell_type": "markdown",
   "metadata": {
    "scrolled": true
   },
   "source": [
    "# Print information of each dataset"
   ]
  },
  {
   "cell_type": "code",
   "execution_count": null,
   "metadata": {},
   "outputs": [],
   "source": [
    "for dataset in ds.keys():\n",
    "    print(\"---------{}---------\".format(dataset))\n",
    "    print(ds[dataset].info())"
   ]
  },
  {
   "cell_type": "markdown",
   "metadata": {},
   "source": [
    "# Convert xarray to dataframe\n",
    "\n",
    "* Select corresponding features from each dataset: for example, `df['pCO2']` has both variables `pCO2_socat` (pCO2 just at SOCAT locations) and `pCO2`, so both of the two features will be converted to dataframe\n",
    "* Only keep grids with finite values\n",
    "* Convert pivot table to flat dataframe"
   ]
  },
  {
   "cell_type": "code",
   "execution_count": null,
   "metadata": {},
   "outputs": [],
   "source": [
    "df = {}\n",
    "df_socat = {}\n",
    "for dataset in ds.keys():\n",
    "    # e.g. pCO2\n",
    "    df[dataset] = ds[dataset][dataset].to_dataframe()\n",
    "    df[dataset] = df[dataset][np.isfinite(df[dataset][dataset])].reset_index()\n",
    "    \n",
    "    # XCO2 is only time dependent, so it has no XCO2_socat feature\n",
    "    if dataset == 'XCO2':\n",
    "        continue\n",
    "        \n",
    "    # e.g. pCO2_socat\n",
    "    df_socat[dataset] = ds[dataset]['{}_socat'.format(dataset)].to_dataframe()\n",
    "    df_socat[dataset] = df_socat[dataset][np.isfinite(df_socat[dataset]['{}_socat'.format(dataset)])].reset_index()\n",
    "    \n",
    "    # e.g. pCO2_socat will have zeros fillings at those non-SOCAT locations, so to only keep data points\n",
    "    # at SOCAT locations, we keep non-zero values\n",
    "    df_socat[dataset] = df_socat[dataset][df_socat[dataset]['{}_socat'.format(dataset)] > 0]"
   ]
  },
  {
   "cell_type": "markdown",
   "metadata": {},
   "source": [
    "Here, it's how it looks after converting to dataframe."
   ]
  },
  {
   "cell_type": "code",
   "execution_count": null,
   "metadata": {},
   "outputs": [],
   "source": [
    "print(df['pCO2'].shape)\n",
    "df['pCO2'].head()"
   ]
  },
  {
   "cell_type": "markdown",
   "metadata": {},
   "source": [
    "It makes sense that socat features has much less available values than non-socat features."
   ]
  },
  {
   "cell_type": "code",
   "execution_count": null,
   "metadata": {},
   "outputs": [],
   "source": [
    "print(df_socat['pCO2'].shape)\n",
    "df_socat['pCO2'].head()"
   ]
  },
  {
   "cell_type": "markdown",
   "metadata": {},
   "source": [
    "# Data visualization"
   ]
  },
  {
   "cell_type": "code",
   "execution_count": null,
   "metadata": {},
   "outputs": [],
   "source": [
    "mapbox_access_token = 'pk.eyJ1IjoiamFja3AiLCJhIjoidGpzN0lXVSJ9.7YK6eRwUNFwd3ODZff6JvA'"
   ]
  },
  {
   "cell_type": "markdown",
   "metadata": {},
   "source": [
    "## XCO2\n",
    "\n",
    "Since `XCO2` is not spatial data, we will visualize it separately.\n",
    "\n",
    "TODO."
   ]
  },
  {
   "cell_type": "code",
   "execution_count": null,
   "metadata": {},
   "outputs": [],
   "source": [
    "df_XCO2 = df.pop('XCO2')"
   ]
  },
  {
   "cell_type": "markdown",
   "metadata": {},
   "source": [
    "## Others"
   ]
  },
  {
   "cell_type": "code",
   "execution_count": null,
   "metadata": {
    "scrolled": true
   },
   "outputs": [],
   "source": [
    "# All data points\n",
    "data = []\n",
    "for name, dataset in df.items():\n",
    "    mean = dataset.groupby(by=['ylat', 'xlon']).mean().reset_index()\n",
    "    trace = dict(\n",
    "        lat=mean.ylat,\n",
    "        lon=mean.xlon,\n",
    "        mode='markers',\n",
    "        marker=dict(\n",
    "            color=mean[name],\n",
    "            opacity=1\n",
    "        ),\n",
    "        text=mean[name],\n",
    "        name=name,\n",
    "        type='scattermapbox',\n",
    "        hoverinfo='text'\n",
    "    )\n",
    "    data.append(trace)\n",
    "\n",
    "# Only SOCAT data\n",
    "data_socat = []\n",
    "for name, dataset in df_socat.items():\n",
    "    mean = dataset.groupby(by=['ylat', 'xlon']).mean().reset_index()\n",
    "    trace = dict(\n",
    "        lat=mean.ylat,\n",
    "        lon=mean.xlon,\n",
    "        mode='markers',\n",
    "        marker=dict(\n",
    "            color=mean['{}_socat'.format(name)],\n",
    "            opacity=1\n",
    "        ),\n",
    "        text=mean['{}_socat'.format(name)],\n",
    "        name='{}_socat'.format(name),\n",
    "        type='scattermapbox',\n",
    "        hoverinfo='text'\n",
    "    )\n",
    "    data_socat.append(trace)"
   ]
  },
  {
   "cell_type": "code",
   "execution_count": null,
   "metadata": {},
   "outputs": [],
   "source": [
    "buttons = []\n",
    "for i in range(len(data)):\n",
    "    trace = data[i]\n",
    "    button = dict(\n",
    "        label=trace['name'],\n",
    "        method='update',\n",
    "        args=[{'visible': [i == j for j in range(len(data))] + [False] * len(data_socat)}]\n",
    "    )\n",
    "    buttons.append(button)\n",
    "\n",
    "for i in range(len(data_socat)):\n",
    "    trace = data_socat[i]\n",
    "    button = dict(\n",
    "        label=trace['name'],\n",
    "        method='update',\n",
    "        args=[{'visible': [False] * len(data) + [i == j for j in range(len(data_socat))]}]\n",
    "    )\n",
    "    buttons.append(button)"
   ]
  },
  {
   "cell_type": "code",
   "execution_count": null,
   "metadata": {},
   "outputs": [],
   "source": [
    "updatemenus = list([\n",
    "    dict(active=-1,\n",
    "         buttons=buttons\n",
    "    )\n",
    "])"
   ]
  },
  {
   "cell_type": "code",
   "execution_count": null,
   "metadata": {},
   "outputs": [],
   "source": [
    "layout = dict(\n",
    "    margin=dict(t=0,b=0,r=0,l=0),\n",
    "    autosize=True,\n",
    "    hovermode='closest',\n",
    "    showlegend=False,\n",
    "    mapbox=dict(\n",
    "        accesstoken=mapbox_access_token,\n",
    "        bearing=0,\n",
    "        center=dict(\n",
    "            lat=38,\n",
    "            lon=-94\n",
    "        ),\n",
    "        pitch=0,\n",
    "        zoom=0,\n",
    "        style='light'\n",
    "    ),\n",
    "    updatemenus=updatemenus\n",
    ")"
   ]
  },
  {
   "cell_type": "code",
   "execution_count": null,
   "metadata": {},
   "outputs": [],
   "source": [
    "fig = dict(data=data+data_socat, layout=layout)\n",
    "offline.iplot(fig, filename='scatter-mode')"
   ]
  },
  {
   "cell_type": "code",
   "execution_count": null,
   "metadata": {},
   "outputs": [],
   "source": [
    "offline.plot(fig, filename=\"mean_pCO2_testbed_member_001_data_visualization.html\", auto_open=False)"
   ]
  }
 ],
 "metadata": {
  "kernelspec": {
   "display_name": "Python 3",
   "language": "python",
   "name": "python3"
  },
  "language_info": {
   "codemirror_mode": {
    "name": "ipython",
    "version": 3
   },
   "file_extension": ".py",
   "mimetype": "text/x-python",
   "name": "python",
   "nbconvert_exporter": "python",
   "pygments_lexer": "ipython3",
   "version": "3.6.5"
  }
 },
 "nbformat": 4,
 "nbformat_minor": 2
}
