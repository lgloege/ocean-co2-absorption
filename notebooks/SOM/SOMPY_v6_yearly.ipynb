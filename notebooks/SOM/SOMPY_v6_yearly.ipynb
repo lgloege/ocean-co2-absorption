{
 "cells": [
  {
   "cell_type": "markdown",
   "metadata": {},
   "source": [
    "# SOM - CESM Member 001\n",
    "## V6 - Monthly/Yearly split\n",
    "\n",
    "#### Template from 'Basic uses of SOMPY library', modified for our use\n",
    "* http://www.vahidmoosavi.com\n",
    "* https://github.com/sevamoo/sompy\n",
    "\n",
    "#### Notebook Features\n",
    "* Import packages required for SOM module SOMPY, and SOMPY itself (note this must be cloned from repo into local dir\n",
    "* Load Data\n",
    "* Clean & organize data into format/interval of interest\n",
    "* Quick visualizations for context\n",
    "* "
   ]
  },
  {
   "cell_type": "code",
   "execution_count": 2,
   "metadata": {
    "scrolled": false
   },
   "outputs": [
    {
     "name": "stderr",
     "output_type": "stream",
     "text": [
      "backend module://ipykernel.pylab.backend_inline version unknown\n"
     ]
    }
   ],
   "source": [
    "import matplotlib\n",
    "#import matplotlib.pyplot as plt\n",
    "import matplotlib.pylab as plt\n",
    "%matplotlib inline\n",
    "\n",
    "import pandas as pd\n",
    "import numpy as np\n",
    "from time import time\n",
    "import sompy\n",
    "\n",
    "from sklearn.preprocessing import StandardScaler\n",
    "\n",
    "import os\n",
    "import xarray as xr\n",
    "\n",
    "import datetime\n",
    "\n",
    "import math\n",
    "import glob\n",
    "\n",
    "from sklearn.externals import joblib\n",
    "import random\n",
    "\n",
    "from sompy.sompy import SOMFactory\n",
    "from sompy.visualization.plot_tools import plot_hex_map\n",
    "import logging\n",
    "\n",
    "import random"
   ]
  },
  {
   "cell_type": "code",
   "execution_count": 4,
   "metadata": {
    "scrolled": false
   },
   "outputs": [
    {
     "data": {
      "text/plain": [
       "'/Users/cg/co2/ocean-co2-absorption/notebooks/SOM'"
      ]
     },
     "execution_count": 4,
     "metadata": {},
     "output_type": "execute_result"
    }
   ],
   "source": [
    "os.getcwd()"
   ]
  },
  {
   "cell_type": "code",
   "execution_count": 5,
   "metadata": {
    "scrolled": false
   },
   "outputs": [],
   "source": [
    "#Windows\n",
    "#DATA_DIR = 'C:\\\\Users\\\\goyetc\\\\ocean-co2-absorption\\\\data'\n",
    "\n",
    "#Mac\n",
    "DATA_DIR = '/Users/cg/co2/'\n",
    "\n",
    "#Define key names and import .nc data\n",
    "dataset_names = {'pCO2': 'pCO2_2D_mon_CESM001_1x1_198201-201701.nc',\n",
    "                 'XCO2': 'XCO2_1D_mon_CESM001_native_198201-201701.nc',\n",
    "                 'SST': 'SST_2D_mon_CESM001_1x1_198201-201701.nc',\n",
    "                 'SSS': 'SSS_2D_mon_CESM001_1x1_198201-201701.nc',\n",
    "                 'MLD': 'MLD_2D_mon_CESM001_1x1_198201-201701.nc',\n",
    "                 'Chl': 'Chl_2D_mon_CESM001_1x1_198201-201701.nc'}\n",
    "ds = {}\n",
    "for dataset in dataset_names.keys():\n",
    "    filename = os.path.join(DATA_DIR, dataset_names[dataset])\n",
    "    ds[dataset] = xr.open_dataset(filename)"
   ]
  },
  {
   "cell_type": "code",
   "execution_count": 6,
   "metadata": {
    "scrolled": false
   },
   "outputs": [],
   "source": [
    "#create dataframe for data prep\n",
    "\n",
    "df = {}\n",
    "for dataset in ds.keys():\n",
    "    # e.g. pCO2\n",
    "    df[dataset] = ds[dataset][dataset].to_dataframe()\n",
    "    \n",
    "    #note np.isfinite eliminates infinite and/or NaN records from dataset \n",
    "    df[dataset] = df[dataset][np.isfinite(df[dataset][dataset])].reset_index()\n"
   ]
  },
  {
   "cell_type": "code",
   "execution_count": 7,
   "metadata": {
    "scrolled": false
   },
   "outputs": [],
   "source": [
    "SOM_input = pd.concat([df['SSS'],df['MLD']['MLD'],df['SST']['SST'],df['pCO2']['pCO2']], axis=1)"
   ]
  },
  {
   "cell_type": "code",
   "execution_count": 8,
   "metadata": {},
   "outputs": [
    {
     "data": {
      "text/html": [
       "<div>\n",
       "<style scoped>\n",
       "    .dataframe tbody tr th:only-of-type {\n",
       "        vertical-align: middle;\n",
       "    }\n",
       "\n",
       "    .dataframe tbody tr th {\n",
       "        vertical-align: top;\n",
       "    }\n",
       "\n",
       "    .dataframe thead th {\n",
       "        text-align: right;\n",
       "    }\n",
       "</style>\n",
       "<table border=\"1\" class=\"dataframe\">\n",
       "  <thead>\n",
       "    <tr style=\"text-align: right;\">\n",
       "      <th></th>\n",
       "      <th>time</th>\n",
       "      <th>ylat</th>\n",
       "      <th>xlon</th>\n",
       "      <th>SSS</th>\n",
       "      <th>MLD</th>\n",
       "      <th>SST</th>\n",
       "      <th>pCO2</th>\n",
       "    </tr>\n",
       "  </thead>\n",
       "  <tbody>\n",
       "    <tr>\n",
       "      <th>0</th>\n",
       "      <td>1982-01-16 12:00:00</td>\n",
       "      <td>-77.5</td>\n",
       "      <td>179.5</td>\n",
       "      <td>34.000992</td>\n",
       "      <td>16.192860</td>\n",
       "      <td>1.648732</td>\n",
       "      <td>151.525853</td>\n",
       "    </tr>\n",
       "    <tr>\n",
       "      <th>1</th>\n",
       "      <td>1982-01-16 12:00:00</td>\n",
       "      <td>-77.5</td>\n",
       "      <td>180.5</td>\n",
       "      <td>33.941429</td>\n",
       "      <td>15.115437</td>\n",
       "      <td>1.528921</td>\n",
       "      <td>150.330599</td>\n",
       "    </tr>\n",
       "    <tr>\n",
       "      <th>2</th>\n",
       "      <td>1982-01-16 12:00:00</td>\n",
       "      <td>-77.5</td>\n",
       "      <td>181.5</td>\n",
       "      <td>33.863464</td>\n",
       "      <td>14.071844</td>\n",
       "      <td>1.350243</td>\n",
       "      <td>148.500409</td>\n",
       "    </tr>\n",
       "    <tr>\n",
       "      <th>3</th>\n",
       "      <td>1982-01-16 12:00:00</td>\n",
       "      <td>-77.5</td>\n",
       "      <td>182.5</td>\n",
       "      <td>33.775764</td>\n",
       "      <td>13.072312</td>\n",
       "      <td>1.119088</td>\n",
       "      <td>146.198458</td>\n",
       "    </tr>\n",
       "    <tr>\n",
       "      <th>4</th>\n",
       "      <td>1982-01-16 12:00:00</td>\n",
       "      <td>-77.5</td>\n",
       "      <td>183.5</td>\n",
       "      <td>33.691376</td>\n",
       "      <td>12.333377</td>\n",
       "      <td>0.865820</td>\n",
       "      <td>143.769723</td>\n",
       "    </tr>\n",
       "  </tbody>\n",
       "</table>\n",
       "</div>"
      ],
      "text/plain": [
       "                 time  ylat   xlon        SSS        MLD       SST        pCO2\n",
       "0 1982-01-16 12:00:00 -77.5  179.5  34.000992  16.192860  1.648732  151.525853\n",
       "1 1982-01-16 12:00:00 -77.5  180.5  33.941429  15.115437  1.528921  150.330599\n",
       "2 1982-01-16 12:00:00 -77.5  181.5  33.863464  14.071844  1.350243  148.500409\n",
       "3 1982-01-16 12:00:00 -77.5  182.5  33.775764  13.072312  1.119088  146.198458\n",
       "4 1982-01-16 12:00:00 -77.5  183.5  33.691376  12.333377  0.865820  143.769723"
      ]
     },
     "execution_count": 8,
     "metadata": {},
     "output_type": "execute_result"
    }
   ],
   "source": [
    "SOM_input.head()"
   ]
  },
  {
   "cell_type": "code",
   "execution_count": 9,
   "metadata": {},
   "outputs": [],
   "source": [
    "#Filter out outliers, SSS\n",
    "SOM_input = SOM_input.loc[SOM_input['SSS'] > 8]"
   ]
  },
  {
   "cell_type": "markdown",
   "metadata": {},
   "source": [
    "### Clean/label data so it can more easily be split up over different timeframes"
   ]
  },
  {
   "cell_type": "code",
   "execution_count": 12,
   "metadata": {},
   "outputs": [],
   "source": [
    "#convert time info into date-time format\n",
    "SOM_input.set_index(pd.DatetimeIndex(SOM_input['time']))\n",
    "\n",
    "#create month column\n",
    "SOM_input['month'] = pd.DatetimeIndex(SOM_input['time']).month\n",
    "\n",
    "#create year column\n",
    "SOM_input['year'] = pd.DatetimeIndex(SOM_input['time']).year\n"
   ]
  },
  {
   "cell_type": "code",
   "execution_count": 14,
   "metadata": {},
   "outputs": [],
   "source": [
    "Year = {}\n",
    "\n",
    "for j in range(36):\n",
    "    year = 1982+j\n",
    "    Year[str(year)] = SOM_input.loc[SOM_input['year'] == year]"
   ]
  },
  {
   "cell_type": "code",
   "execution_count": 15,
   "metadata": {},
   "outputs": [],
   "source": [
    "for j in range(36):\n",
    "    year = 1982+j\n",
    "    \n",
    "    Year[str(year)] = Year[str(year)].groupby(['ylat','xlon'], as_index=False).mean().drop(columns='month')"
   ]
  },
  {
   "cell_type": "code",
   "execution_count": 38,
   "metadata": {},
   "outputs": [],
   "source": [
    "#I'm sure there's a better way to do this, but I felt it was easier than creating an empty dataframe with the right dimensions.. \n",
    "Years = pd.DataFrame.from_dict(Year['1982'])\n",
    "for j in range(35):\n",
    "    year = 1983+j\n",
    "    Years = Years.append(Year[str(year)])"
   ]
  },
  {
   "cell_type": "code",
   "execution_count": 41,
   "metadata": {},
   "outputs": [
    {
     "data": {
      "text/html": [
       "<div>\n",
       "<style scoped>\n",
       "    .dataframe tbody tr th:only-of-type {\n",
       "        vertical-align: middle;\n",
       "    }\n",
       "\n",
       "    .dataframe tbody tr th {\n",
       "        vertical-align: top;\n",
       "    }\n",
       "\n",
       "    .dataframe thead th {\n",
       "        text-align: right;\n",
       "    }\n",
       "</style>\n",
       "<table border=\"1\" class=\"dataframe\">\n",
       "  <thead>\n",
       "    <tr style=\"text-align: right;\">\n",
       "      <th></th>\n",
       "      <th>ylat</th>\n",
       "      <th>xlon</th>\n",
       "      <th>SSS</th>\n",
       "      <th>MLD</th>\n",
       "      <th>SST</th>\n",
       "      <th>pCO2</th>\n",
       "      <th>year</th>\n",
       "    </tr>\n",
       "  </thead>\n",
       "  <tbody>\n",
       "    <tr>\n",
       "      <th>0</th>\n",
       "      <td>-77.5</td>\n",
       "      <td>179.5</td>\n",
       "      <td>34.334385</td>\n",
       "      <td>246.338547</td>\n",
       "      <td>-1.317129</td>\n",
       "      <td>259.701614</td>\n",
       "      <td>1982.0</td>\n",
       "    </tr>\n",
       "    <tr>\n",
       "      <th>1</th>\n",
       "      <td>-77.5</td>\n",
       "      <td>180.5</td>\n",
       "      <td>34.316010</td>\n",
       "      <td>246.692596</td>\n",
       "      <td>-1.337575</td>\n",
       "      <td>259.877004</td>\n",
       "      <td>1982.0</td>\n",
       "    </tr>\n",
       "    <tr>\n",
       "      <th>2</th>\n",
       "      <td>-77.5</td>\n",
       "      <td>181.5</td>\n",
       "      <td>34.291920</td>\n",
       "      <td>246.478256</td>\n",
       "      <td>-1.364652</td>\n",
       "      <td>259.905286</td>\n",
       "      <td>1982.0</td>\n",
       "    </tr>\n",
       "    <tr>\n",
       "      <th>3</th>\n",
       "      <td>-77.5</td>\n",
       "      <td>182.5</td>\n",
       "      <td>34.264275</td>\n",
       "      <td>242.469589</td>\n",
       "      <td>-1.397035</td>\n",
       "      <td>259.668704</td>\n",
       "      <td>1982.0</td>\n",
       "    </tr>\n",
       "    <tr>\n",
       "      <th>4</th>\n",
       "      <td>-77.5</td>\n",
       "      <td>183.5</td>\n",
       "      <td>34.236290</td>\n",
       "      <td>232.115128</td>\n",
       "      <td>-1.431846</td>\n",
       "      <td>259.176946</td>\n",
       "      <td>1982.0</td>\n",
       "    </tr>\n",
       "  </tbody>\n",
       "</table>\n",
       "</div>"
      ],
      "text/plain": [
       "   ylat   xlon        SSS         MLD       SST        pCO2    year\n",
       "0 -77.5  179.5  34.334385  246.338547 -1.317129  259.701614  1982.0\n",
       "1 -77.5  180.5  34.316010  246.692596 -1.337575  259.877004  1982.0\n",
       "2 -77.5  181.5  34.291920  246.478256 -1.364652  259.905286  1982.0\n",
       "3 -77.5  182.5  34.264275  242.469589 -1.397035  259.668704  1982.0\n",
       "4 -77.5  183.5  34.236290  232.115128 -1.431846  259.176946  1982.0"
      ]
     },
     "execution_count": 41,
     "metadata": {},
     "output_type": "execute_result"
    }
   ],
   "source": [
    "Years.head()"
   ]
  },
  {
   "cell_type": "code",
   "execution_count": 42,
   "metadata": {},
   "outputs": [
    {
     "data": {
      "text/html": [
       "<div>\n",
       "<style scoped>\n",
       "    .dataframe tbody tr th:only-of-type {\n",
       "        vertical-align: middle;\n",
       "    }\n",
       "\n",
       "    .dataframe tbody tr th {\n",
       "        vertical-align: top;\n",
       "    }\n",
       "\n",
       "    .dataframe thead th {\n",
       "        text-align: right;\n",
       "    }\n",
       "</style>\n",
       "<table border=\"1\" class=\"dataframe\">\n",
       "  <thead>\n",
       "    <tr style=\"text-align: right;\">\n",
       "      <th></th>\n",
       "      <th>ylat</th>\n",
       "      <th>xlon</th>\n",
       "      <th>SSS</th>\n",
       "      <th>MLD</th>\n",
       "      <th>SST</th>\n",
       "      <th>pCO2</th>\n",
       "      <th>year</th>\n",
       "    </tr>\n",
       "  </thead>\n",
       "  <tbody>\n",
       "    <tr>\n",
       "      <th>39853</th>\n",
       "      <td>86.5</td>\n",
       "      <td>258.5</td>\n",
       "      <td>32.998074</td>\n",
       "      <td>58.607651</td>\n",
       "      <td>-1.779255</td>\n",
       "      <td>292.046609</td>\n",
       "      <td>1990.0</td>\n",
       "    </tr>\n",
       "    <tr>\n",
       "      <th>40481</th>\n",
       "      <td>88.5</td>\n",
       "      <td>166.5</td>\n",
       "      <td>32.105354</td>\n",
       "      <td>57.401066</td>\n",
       "      <td>-1.768753</td>\n",
       "      <td>343.812266</td>\n",
       "      <td>2015.0</td>\n",
       "    </tr>\n",
       "    <tr>\n",
       "      <th>24668</th>\n",
       "      <td>9.5</td>\n",
       "      <td>69.5</td>\n",
       "      <td>34.761921</td>\n",
       "      <td>63.620792</td>\n",
       "      <td>28.167164</td>\n",
       "      <td>383.205725</td>\n",
       "      <td>2017.0</td>\n",
       "    </tr>\n",
       "    <tr>\n",
       "      <th>27631</th>\n",
       "      <td>20.5</td>\n",
       "      <td>288.5</td>\n",
       "      <td>36.226368</td>\n",
       "      <td>43.372349</td>\n",
       "      <td>26.947407</td>\n",
       "      <td>367.061445</td>\n",
       "      <td>2002.0</td>\n",
       "    </tr>\n",
       "    <tr>\n",
       "      <th>13235</th>\n",
       "      <td>-32.5</td>\n",
       "      <td>36.5</td>\n",
       "      <td>34.351223</td>\n",
       "      <td>45.609955</td>\n",
       "      <td>20.888300</td>\n",
       "      <td>306.781005</td>\n",
       "      <td>1982.0</td>\n",
       "    </tr>\n",
       "    <tr>\n",
       "      <th>28696</th>\n",
       "      <td>25.5</td>\n",
       "      <td>241.5</td>\n",
       "      <td>33.872002</td>\n",
       "      <td>52.886093</td>\n",
       "      <td>19.831690</td>\n",
       "      <td>372.234325</td>\n",
       "      <td>1994.0</td>\n",
       "    </tr>\n",
       "    <tr>\n",
       "      <th>27398</th>\n",
       "      <td>19.5</td>\n",
       "      <td>283.5</td>\n",
       "      <td>36.103989</td>\n",
       "      <td>53.153694</td>\n",
       "      <td>28.345917</td>\n",
       "      <td>409.101873</td>\n",
       "      <td>2016.0</td>\n",
       "    </tr>\n",
       "    <tr>\n",
       "      <th>591</th>\n",
       "      <td>-71.5</td>\n",
       "      <td>271.5</td>\n",
       "      <td>33.198223</td>\n",
       "      <td>47.985428</td>\n",
       "      <td>-1.778633</td>\n",
       "      <td>256.437940</td>\n",
       "      <td>2014.0</td>\n",
       "    </tr>\n",
       "    <tr>\n",
       "      <th>5082</th>\n",
       "      <td>-56.5</td>\n",
       "      <td>89.5</td>\n",
       "      <td>33.664635</td>\n",
       "      <td>78.591698</td>\n",
       "      <td>1.636385</td>\n",
       "      <td>339.010766</td>\n",
       "      <td>1993.0</td>\n",
       "    </tr>\n",
       "    <tr>\n",
       "      <th>18050</th>\n",
       "      <td>-15.5</td>\n",
       "      <td>237.5</td>\n",
       "      <td>35.720245</td>\n",
       "      <td>54.829971</td>\n",
       "      <td>26.113150</td>\n",
       "      <td>373.659978</td>\n",
       "      <td>1994.0</td>\n",
       "    </tr>\n",
       "  </tbody>\n",
       "</table>\n",
       "</div>"
      ],
      "text/plain": [
       "       ylat   xlon        SSS        MLD        SST        pCO2    year\n",
       "39853  86.5  258.5  32.998074  58.607651  -1.779255  292.046609  1990.0\n",
       "40481  88.5  166.5  32.105354  57.401066  -1.768753  343.812266  2015.0\n",
       "24668   9.5   69.5  34.761921  63.620792  28.167164  383.205725  2017.0\n",
       "27631  20.5  288.5  36.226368  43.372349  26.947407  367.061445  2002.0\n",
       "13235 -32.5   36.5  34.351223  45.609955  20.888300  306.781005  1982.0\n",
       "28696  25.5  241.5  33.872002  52.886093  19.831690  372.234325  1994.0\n",
       "27398  19.5  283.5  36.103989  53.153694  28.345917  409.101873  2016.0\n",
       "591   -71.5  271.5  33.198223  47.985428  -1.778633  256.437940  2014.0\n",
       "5082  -56.5   89.5  33.664635  78.591698   1.636385  339.010766  1993.0\n",
       "18050 -15.5  237.5  35.720245  54.829971  26.113150  373.659978  1994.0"
      ]
     },
     "execution_count": 42,
     "metadata": {},
     "output_type": "execute_result"
    }
   ],
   "source": [
    "Years.sample(10)"
   ]
  },
  {
   "cell_type": "code",
   "execution_count": 58,
   "metadata": {},
   "outputs": [
    {
     "data": {
      "text/plain": [
       "(1477260, 7)"
      ]
     },
     "execution_count": 58,
     "metadata": {},
     "output_type": "execute_result"
    }
   ],
   "source": [
    "Years.shape"
   ]
  },
  {
   "cell_type": "code",
   "execution_count": 16,
   "metadata": {},
   "outputs": [
    {
     "data": {
      "text/html": [
       "<div>\n",
       "<style scoped>\n",
       "    .dataframe tbody tr th:only-of-type {\n",
       "        vertical-align: middle;\n",
       "    }\n",
       "\n",
       "    .dataframe tbody tr th {\n",
       "        vertical-align: top;\n",
       "    }\n",
       "\n",
       "    .dataframe thead th {\n",
       "        text-align: right;\n",
       "    }\n",
       "</style>\n",
       "<table border=\"1\" class=\"dataframe\">\n",
       "  <thead>\n",
       "    <tr style=\"text-align: right;\">\n",
       "      <th></th>\n",
       "      <th>ylat</th>\n",
       "      <th>xlon</th>\n",
       "      <th>SSS</th>\n",
       "      <th>MLD</th>\n",
       "      <th>SST</th>\n",
       "      <th>pCO2</th>\n",
       "      <th>year</th>\n",
       "    </tr>\n",
       "  </thead>\n",
       "  <tbody>\n",
       "    <tr>\n",
       "      <th>0</th>\n",
       "      <td>-77.5</td>\n",
       "      <td>179.5</td>\n",
       "      <td>34.334385</td>\n",
       "      <td>246.338547</td>\n",
       "      <td>-1.317129</td>\n",
       "      <td>259.701614</td>\n",
       "      <td>1982.0</td>\n",
       "    </tr>\n",
       "    <tr>\n",
       "      <th>1</th>\n",
       "      <td>-77.5</td>\n",
       "      <td>180.5</td>\n",
       "      <td>34.316010</td>\n",
       "      <td>246.692596</td>\n",
       "      <td>-1.337575</td>\n",
       "      <td>259.877004</td>\n",
       "      <td>1982.0</td>\n",
       "    </tr>\n",
       "    <tr>\n",
       "      <th>2</th>\n",
       "      <td>-77.5</td>\n",
       "      <td>181.5</td>\n",
       "      <td>34.291920</td>\n",
       "      <td>246.478256</td>\n",
       "      <td>-1.364652</td>\n",
       "      <td>259.905286</td>\n",
       "      <td>1982.0</td>\n",
       "    </tr>\n",
       "    <tr>\n",
       "      <th>3</th>\n",
       "      <td>-77.5</td>\n",
       "      <td>182.5</td>\n",
       "      <td>34.264275</td>\n",
       "      <td>242.469589</td>\n",
       "      <td>-1.397035</td>\n",
       "      <td>259.668704</td>\n",
       "      <td>1982.0</td>\n",
       "    </tr>\n",
       "    <tr>\n",
       "      <th>4</th>\n",
       "      <td>-77.5</td>\n",
       "      <td>183.5</td>\n",
       "      <td>34.236290</td>\n",
       "      <td>232.115128</td>\n",
       "      <td>-1.431846</td>\n",
       "      <td>259.176946</td>\n",
       "      <td>1982.0</td>\n",
       "    </tr>\n",
       "  </tbody>\n",
       "</table>\n",
       "</div>"
      ],
      "text/plain": [
       "   ylat   xlon        SSS         MLD       SST        pCO2    year\n",
       "0 -77.5  179.5  34.334385  246.338547 -1.317129  259.701614  1982.0\n",
       "1 -77.5  180.5  34.316010  246.692596 -1.337575  259.877004  1982.0\n",
       "2 -77.5  181.5  34.291920  246.478256 -1.364652  259.905286  1982.0\n",
       "3 -77.5  182.5  34.264275  242.469589 -1.397035  259.668704  1982.0\n",
       "4 -77.5  183.5  34.236290  232.115128 -1.431846  259.176946  1982.0"
      ]
     },
     "execution_count": 16,
     "metadata": {},
     "output_type": "execute_result"
    }
   ],
   "source": [
    "Year['1982'].head()"
   ]
  },
  {
   "cell_type": "code",
   "execution_count": 26,
   "metadata": {},
   "outputs": [
    {
     "data": {
      "text/plain": [
       "(41035, 7)"
      ]
     },
     "execution_count": 26,
     "metadata": {},
     "output_type": "execute_result"
    }
   ],
   "source": [
    "# confirm expected number of samples per year -- matches spatial-only value from monthly-averaged clusters\n",
    "# confirm # of years matches expected range\n",
    "Year['1982'].shape, len(SOM_input.year.unique())"
   ]
  },
  {
   "cell_type": "markdown",
   "metadata": {},
   "source": [
    "# Scale Data"
   ]
  },
  {
   "cell_type": "markdown",
   "metadata": {},
   "source": [
    "#### choice of normalization or transform? \n",
    "* Note.. lessons learned from prior optimization:\n",
    "* - log transform of MLD improved perf\n",
    "* - StandardScaler demonstrates same perf as 'var' norm option within SOMPY engine\n",
    "* - variance-based normalization is best choice based on analysis of other scaling options"
   ]
  },
  {
   "cell_type": "code",
   "execution_count": 52,
   "metadata": {},
   "outputs": [],
   "source": [
    "ss = StandardScaler().fit_transform(Years[['SSS','SST','MLD','pCO2']])"
   ]
  },
  {
   "cell_type": "code",
   "execution_count": 53,
   "metadata": {
    "scrolled": false
   },
   "outputs": [
    {
     "data": {
      "text/plain": [
       "6077.129256482866"
      ]
     },
     "execution_count": 53,
     "metadata": {},
     "output_type": "execute_result"
    }
   ],
   "source": [
    "#tuning parameters\n",
    "#research suggests M = 5*sqrt(N) is a good choice for number of neurons\n",
    "M = 5*np.sqrt(ss.shape[0])\n",
    "\n",
    "#calculate grid dimension (for square grid), as basis for optimization of map size\n",
    "m=int(np.sqrt(M))\n",
    "\n",
    "M, m"
   ]
  },
  {
   "cell_type": "markdown",
   "metadata": {},
   "source": [
    "### Notes on SOM tuning\n",
    "* testing suggests pca is faster than random init but limits # of epochs/trainlen internal to SOM engine\n",
    "* batch faster than sequential.. only batch implemented currently"
   ]
  },
  {
   "cell_type": "code",
   "execution_count": 55,
   "metadata": {},
   "outputs": [
    {
     "name": "stderr",
     "output_type": "stream",
     "text": [
      " Training...\n",
      " pca_linear_initialization took: 1.989000 seconds\n",
      " Rough training...\n",
      " radius_ini: 10.000000 , radius_final: 2.500000, trainlen: 10\n",
      "\n",
      " epoch: 1 ---> elapsed time:  163.546000, quantization error: 0.940985\n",
      "\n",
      " epoch: 2 ---> elapsed time:  175.621000, quantization error: 0.711951\n",
      "\n",
      " epoch: 3 ---> elapsed time:  193.419000, quantization error: 0.595589\n",
      "\n",
      " epoch: 4 ---> elapsed time:  193.727000, quantization error: 0.543979\n",
      "\n",
      " epoch: 5 ---> elapsed time:  178.715000, quantization error: 0.501750\n",
      "\n",
      " epoch: 6 ---> elapsed time:  195.326000, quantization error: 0.462497\n",
      "\n",
      " epoch: 7 ---> elapsed time:  193.252000, quantization error: 0.423668\n",
      "\n",
      " epoch: 8 ---> elapsed time:  191.145000, quantization error: 0.384678\n",
      "\n",
      " epoch: 9 ---> elapsed time:  152.292000, quantization error: 0.345566\n",
      "\n",
      " epoch: 10 ---> elapsed time:  149.878000, quantization error: 0.306658\n",
      "\n",
      " Finetune training...\n",
      " radius_ini: 2.500000 , radius_final: 1.000000, trainlen: 20\n",
      "\n",
      " epoch: 1 ---> elapsed time:  151.708000, quantization error: 0.268479\n",
      "\n",
      " epoch: 2 ---> elapsed time:  150.384000, quantization error: 0.259199\n",
      "\n",
      " epoch: 3 ---> elapsed time:  150.071000, quantization error: 0.251811\n",
      "\n",
      " epoch: 4 ---> elapsed time:  149.310000, quantization error: 0.245893\n",
      "\n",
      " epoch: 5 ---> elapsed time:  149.578000, quantization error: 0.240549\n",
      "\n",
      " epoch: 6 ---> elapsed time:  147.825000, quantization error: 0.235594\n",
      "\n",
      " epoch: 7 ---> elapsed time:  151.672000, quantization error: 0.230868\n",
      "\n",
      " epoch: 8 ---> elapsed time:  150.365000, quantization error: 0.226200\n",
      "\n",
      " epoch: 9 ---> elapsed time:  148.511000, quantization error: 0.221546\n",
      "\n",
      " epoch: 10 ---> elapsed time:  150.805000, quantization error: 0.217004\n",
      "\n",
      " epoch: 11 ---> elapsed time:  150.459000, quantization error: 0.212511\n",
      "\n",
      " epoch: 12 ---> elapsed time:  150.865000, quantization error: 0.207982\n",
      "\n",
      " epoch: 13 ---> elapsed time:  151.616000, quantization error: 0.203402\n",
      "\n",
      " epoch: 14 ---> elapsed time:  149.149000, quantization error: 0.198820\n",
      "\n",
      " epoch: 15 ---> elapsed time:  150.119000, quantization error: 0.194209\n",
      "\n",
      " epoch: 16 ---> elapsed time:  149.013000, quantization error: 0.189564\n",
      "\n",
      " epoch: 17 ---> elapsed time:  149.649000, quantization error: 0.184924\n",
      "\n",
      " epoch: 18 ---> elapsed time:  150.695000, quantization error: 0.180290\n",
      "\n",
      " epoch: 19 ---> elapsed time:  150.401000, quantization error: 0.175648\n",
      "\n",
      " epoch: 20 ---> elapsed time:  149.444000, quantization error: 0.170986\n",
      "\n",
      " Final quantization error: 0.170986\n",
      " train took: 4791.126000 seconds\n"
     ]
    },
    {
     "data": {
      "text/plain": [
       "['monthly_means_with_year_feature.joblib']"
      ]
     },
     "execution_count": 55,
     "metadata": {},
     "output_type": "execute_result"
    }
   ],
   "source": [
    "map_size = [m,m]\n",
    "names = ['SSS','SST','MLD','pCO2']\n",
    " \n",
    "sm = sompy.SOMFactory().build(ss, mapsize = map_size, mapshape = 'planar',\n",
    "                            initialization='pca',\n",
    "                            normalization = 'var', \n",
    "                            component_names=names, lattice='rect') \n",
    "sm.train(n_job=1, \n",
    "         verbose='info', \n",
    "         train_rough_len= 10,\n",
    "         train_finetune_len= 20,\n",
    "         #train_rough_radiusin=14,\n",
    "         #train_rough_radiusfin=3.5,\n",
    "         #train_finetune_radiusin=3.5,\n",
    "         #train_finetune_radiusfin=1\n",
    "        ) \n",
    "    \n",
    "joblib.dump(sm, \"Yearly_means_combined.joblib\")"
   ]
  },
  {
   "cell_type": "markdown",
   "metadata": {},
   "source": [
    "### From Original SOMtoolbox documentation\n",
    "* http://www.cis.hut.fi/somtoolbox/package/docs2/som_quality.html\n",
    "\n",
    "*     qe : Average distance between each data vector and its BMU.\n",
    "       Measures map resolution.\n",
    "*     te : Topographic error, the proportion of all data vectors\n",
    "       for which first and second BMUs are not adjacent units.\n",
    "       Measures topology preservation."
   ]
  },
  {
   "cell_type": "code",
   "execution_count": 56,
   "metadata": {
    "scrolled": false
   },
   "outputs": [],
   "source": [
    "# Observe results\n",
    "# note this works to compare multiple SOM training runs...\n",
    "# but also can just produce results from single training session. \n",
    "# use * wildcard, e.g., './Model_xxx_*', to add multiple models to pool for results eval\n",
    "models_pool_r3 = glob.glob(\"./Yearly_means_combined.joblib\")\n",
    "errors=[]\n",
    "for model_filepath in models_pool_r3:\n",
    "    sm_r3 = joblib.load(model_filepath)\n",
    "    topographic_error = sm_r3.calculate_topographic_error()\n",
    "    quantization_error = sm_r3.calculate_quantization_error()\n",
    "    errors.append((topographic_error, quantization_error))\n",
    "e_top_r3, e_q_r3 = zip(*errors)"
   ]
  },
  {
   "cell_type": "code",
   "execution_count": null,
   "metadata": {
    "scrolled": false
   },
   "outputs": [],
   "source": [
    "plt.scatter(e_top_r3, e_q_r3)\n",
    "plt.title(\" \")\n",
    "plt.xlabel(\"Topographic error\")\n",
    "plt.ylabel(\"Quantization error\")\n",
    "plt.show()"
   ]
  },
  {
   "cell_type": "code",
   "execution_count": 57,
   "metadata": {},
   "outputs": [
    {
     "data": {
      "text/html": [
       "<div>\n",
       "<style scoped>\n",
       "    .dataframe tbody tr th:only-of-type {\n",
       "        vertical-align: middle;\n",
       "    }\n",
       "\n",
       "    .dataframe tbody tr th {\n",
       "        vertical-align: top;\n",
       "    }\n",
       "\n",
       "    .dataframe thead th {\n",
       "        text-align: right;\n",
       "    }\n",
       "</style>\n",
       "<table border=\"1\" class=\"dataframe\">\n",
       "  <thead>\n",
       "    <tr style=\"text-align: right;\">\n",
       "      <th></th>\n",
       "      <th>model</th>\n",
       "      <th>quantization_error</th>\n",
       "      <th>topographical_error</th>\n",
       "    </tr>\n",
       "  </thead>\n",
       "  <tbody>\n",
       "    <tr>\n",
       "      <th>0</th>\n",
       "      <td>./monthly_means_with_year_feature.joblib</td>\n",
       "      <td>0.069619</td>\n",
       "      <td>0.128452</td>\n",
       "    </tr>\n",
       "  </tbody>\n",
       "</table>\n",
       "</div>"
      ],
      "text/plain": [
       "                                      model  quantization_error  \\\n",
       "0  ./monthly_means_with_year_feature.joblib            0.069619   \n",
       "\n",
       "   topographical_error  \n",
       "0             0.128452  "
      ]
     },
     "execution_count": 57,
     "metadata": {},
     "output_type": "execute_result"
    }
   ],
   "source": [
    "res = []\n",
    "for i, model_filepath in enumerate(models_pool_r3):\n",
    "    res.append({'model': model_filepath, 'topographical_error': e_top_r3[i], 'quantization_error': e_q_r3[i]})\n",
    "    #print(model_filepath)\n",
    "    #name.append(model_filepath[3:10])\n",
    "    #err_top.append(e_top[i])\n",
    "    #err_quant.append(e_q[i])\n",
    "\n",
    "results_df = pd.DataFrame(res)\n",
    "results_df.sort_values(['topographical_error'], ascending=True)\n",
    "#print(model_filepath,e_top[i],e_q[i])"
   ]
  },
  {
   "cell_type": "code",
   "execution_count": 59,
   "metadata": {},
   "outputs": [],
   "source": [
    "som = joblib.load('./Yearly_means_combined.joblib')\n",
    "map_labels_k5 = som.cluster(n_clusters=5)\n",
    "data_labels_k5 = np.array([map_labels_k5[int(k)] for k in som._bmu[0]])\n",
    "map_labels_k10 = som.cluster(n_clusters=10)\n",
    "data_labels_k10 = np.array([map_labels_k10[int(k)] for k in som._bmu[0]])\n",
    "map_labels_k15 = som.cluster(n_clusters=15)\n",
    "data_labels_k15 = np.array([map_labels_k15[int(k)] for k in som._bmu[0]])\n",
    "\n",
    "Years['k=5'] = data_labels_k5\n",
    "Years['k=10'] = data_labels_k10\n",
    "Years['k=15'] = data_labels_k15\n",
    "\n",
    "Years.to_csv('./Yearly.csv',\n",
    "              sep=',',\n",
    "              na_rep='NaN',\n",
    "              columns=[u'ylat', u'xlon', u'SSS', u'MLD', u'SST', u'pCO2', u'year', u'k=5', u'k=10', u'k=15'],\n",
    "              header=True,\n",
    "              index=True,\n",
    "              mode='w')"
   ]
  },
  {
   "cell_type": "code",
   "execution_count": 60,
   "metadata": {},
   "outputs": [
    {
     "data": {
      "text/plain": [
       "0.12845199897106807"
      ]
     },
     "execution_count": 60,
     "metadata": {},
     "output_type": "execute_result"
    }
   ],
   "source": [
    "sm_r3.calculate_topographic_error()"
   ]
  },
  {
   "cell_type": "code",
   "execution_count": 61,
   "metadata": {},
   "outputs": [
    {
     "data": {
      "text/html": [
       "<div>\n",
       "<style scoped>\n",
       "    .dataframe tbody tr th:only-of-type {\n",
       "        vertical-align: middle;\n",
       "    }\n",
       "\n",
       "    .dataframe tbody tr th {\n",
       "        vertical-align: top;\n",
       "    }\n",
       "\n",
       "    .dataframe thead th {\n",
       "        text-align: right;\n",
       "    }\n",
       "</style>\n",
       "<table border=\"1\" class=\"dataframe\">\n",
       "  <thead>\n",
       "    <tr style=\"text-align: right;\">\n",
       "      <th></th>\n",
       "      <th>ylat</th>\n",
       "      <th>xlon</th>\n",
       "      <th>SSS</th>\n",
       "      <th>MLD</th>\n",
       "      <th>SST</th>\n",
       "      <th>pCO2</th>\n",
       "      <th>year</th>\n",
       "      <th>k=5</th>\n",
       "      <th>k=10</th>\n",
       "      <th>k=15</th>\n",
       "    </tr>\n",
       "  </thead>\n",
       "  <tbody>\n",
       "    <tr>\n",
       "      <th>31299</th>\n",
       "      <td>38.5</td>\n",
       "      <td>233.5</td>\n",
       "      <td>32.638065</td>\n",
       "      <td>47.570847</td>\n",
       "      <td>14.123396</td>\n",
       "      <td>356.257071</td>\n",
       "      <td>1999.0</td>\n",
       "      <td>2</td>\n",
       "      <td>7</td>\n",
       "      <td>12</td>\n",
       "    </tr>\n",
       "    <tr>\n",
       "      <th>39043</th>\n",
       "      <td>84.5</td>\n",
       "      <td>168.5</td>\n",
       "      <td>32.260899</td>\n",
       "      <td>61.237625</td>\n",
       "      <td>-1.777910</td>\n",
       "      <td>307.225312</td>\n",
       "      <td>1995.0</td>\n",
       "      <td>0</td>\n",
       "      <td>1</td>\n",
       "      <td>10</td>\n",
       "    </tr>\n",
       "    <tr>\n",
       "      <th>3513</th>\n",
       "      <td>-61.5</td>\n",
       "      <td>320.5</td>\n",
       "      <td>33.929203</td>\n",
       "      <td>67.054085</td>\n",
       "      <td>0.159267</td>\n",
       "      <td>358.388573</td>\n",
       "      <td>2015.0</td>\n",
       "      <td>2</td>\n",
       "      <td>4</td>\n",
       "      <td>0</td>\n",
       "    </tr>\n",
       "    <tr>\n",
       "      <th>21382</th>\n",
       "      <td>-3.5</td>\n",
       "      <td>335.5</td>\n",
       "      <td>35.381069</td>\n",
       "      <td>64.442390</td>\n",
       "      <td>26.578503</td>\n",
       "      <td>384.626153</td>\n",
       "      <td>2000.0</td>\n",
       "      <td>1</td>\n",
       "      <td>2</td>\n",
       "      <td>7</td>\n",
       "    </tr>\n",
       "    <tr>\n",
       "      <th>30192</th>\n",
       "      <td>33.5</td>\n",
       "      <td>15.5</td>\n",
       "      <td>41.909344</td>\n",
       "      <td>48.425957</td>\n",
       "      <td>20.532146</td>\n",
       "      <td>387.688482</td>\n",
       "      <td>2003.0</td>\n",
       "      <td>1</td>\n",
       "      <td>9</td>\n",
       "      <td>4</td>\n",
       "    </tr>\n",
       "    <tr>\n",
       "      <th>16052</th>\n",
       "      <td>-22.5</td>\n",
       "      <td>81.5</td>\n",
       "      <td>34.796764</td>\n",
       "      <td>69.243813</td>\n",
       "      <td>23.015705</td>\n",
       "      <td>323.108072</td>\n",
       "      <td>1985.0</td>\n",
       "      <td>1</td>\n",
       "      <td>0</td>\n",
       "      <td>13</td>\n",
       "    </tr>\n",
       "    <tr>\n",
       "      <th>22667</th>\n",
       "      <td>1.5</td>\n",
       "      <td>243.5</td>\n",
       "      <td>34.526443</td>\n",
       "      <td>73.657753</td>\n",
       "      <td>26.815346</td>\n",
       "      <td>434.706510</td>\n",
       "      <td>2002.0</td>\n",
       "      <td>1</td>\n",
       "      <td>2</td>\n",
       "      <td>11</td>\n",
       "    </tr>\n",
       "    <tr>\n",
       "      <th>19952</th>\n",
       "      <td>-8.5</td>\n",
       "      <td>190.5</td>\n",
       "      <td>34.314548</td>\n",
       "      <td>80.206612</td>\n",
       "      <td>28.578405</td>\n",
       "      <td>365.503266</td>\n",
       "      <td>2012.0</td>\n",
       "      <td>1</td>\n",
       "      <td>8</td>\n",
       "      <td>7</td>\n",
       "    </tr>\n",
       "    <tr>\n",
       "      <th>1284</th>\n",
       "      <td>-67.5</td>\n",
       "      <td>19.5</td>\n",
       "      <td>33.301205</td>\n",
       "      <td>24.069923</td>\n",
       "      <td>-1.641757</td>\n",
       "      <td>337.571563</td>\n",
       "      <td>2017.0</td>\n",
       "      <td>0</td>\n",
       "      <td>1</td>\n",
       "      <td>0</td>\n",
       "    </tr>\n",
       "    <tr>\n",
       "      <th>25753</th>\n",
       "      <td>13.5</td>\n",
       "      <td>116.5</td>\n",
       "      <td>32.047298</td>\n",
       "      <td>45.659595</td>\n",
       "      <td>27.443811</td>\n",
       "      <td>333.598754</td>\n",
       "      <td>1994.0</td>\n",
       "      <td>1</td>\n",
       "      <td>8</td>\n",
       "      <td>1</td>\n",
       "    </tr>\n",
       "  </tbody>\n",
       "</table>\n",
       "</div>"
      ],
      "text/plain": [
       "       ylat   xlon        SSS        MLD        SST        pCO2    year  k=5  \\\n",
       "31299  38.5  233.5  32.638065  47.570847  14.123396  356.257071  1999.0    2   \n",
       "39043  84.5  168.5  32.260899  61.237625  -1.777910  307.225312  1995.0    0   \n",
       "3513  -61.5  320.5  33.929203  67.054085   0.159267  358.388573  2015.0    2   \n",
       "21382  -3.5  335.5  35.381069  64.442390  26.578503  384.626153  2000.0    1   \n",
       "30192  33.5   15.5  41.909344  48.425957  20.532146  387.688482  2003.0    1   \n",
       "16052 -22.5   81.5  34.796764  69.243813  23.015705  323.108072  1985.0    1   \n",
       "22667   1.5  243.5  34.526443  73.657753  26.815346  434.706510  2002.0    1   \n",
       "19952  -8.5  190.5  34.314548  80.206612  28.578405  365.503266  2012.0    1   \n",
       "1284  -67.5   19.5  33.301205  24.069923  -1.641757  337.571563  2017.0    0   \n",
       "25753  13.5  116.5  32.047298  45.659595  27.443811  333.598754  1994.0    1   \n",
       "\n",
       "       k=10  k=15  \n",
       "31299     7    12  \n",
       "39043     1    10  \n",
       "3513      4     0  \n",
       "21382     2     7  \n",
       "30192     9     4  \n",
       "16052     0    13  \n",
       "22667     2    11  \n",
       "19952     8     7  \n",
       "1284      1     0  \n",
       "25753     8     1  "
      ]
     },
     "execution_count": 61,
     "metadata": {},
     "output_type": "execute_result"
    }
   ],
   "source": [
    "Years.sample(10)"
   ]
  }
 ],
 "metadata": {
  "kernelspec": {
   "display_name": "Python [conda env:sompy_env]",
   "language": "python",
   "name": "conda-env-sompy_env-py"
  },
  "language_info": {
   "codemirror_mode": {
    "name": "ipython",
    "version": 2
   },
   "file_extension": ".py",
   "mimetype": "text/x-python",
   "name": "python",
   "nbconvert_exporter": "python",
   "pygments_lexer": "ipython2",
   "version": "2.7.3"
  }
 },
 "nbformat": 4,
 "nbformat_minor": 1
}
