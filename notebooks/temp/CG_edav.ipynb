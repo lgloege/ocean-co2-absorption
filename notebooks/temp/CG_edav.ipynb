{
 "cells": [
  {
   "cell_type": "markdown",
   "metadata": {},
   "source": [
    "# CG EDAV.. \n",
    "* commented histograms\n",
    "* some power transformations of interest\n",
    "* scatterplots and subsampled scatterplots"
   ]
  },
  {
   "cell_type": "code",
   "execution_count": 1,
   "metadata": {},
   "outputs": [],
   "source": [
    "import os\n",
    "import numpy as np\n",
    "import xarray as xr\n",
    "\n",
    "from plotly import tools\n",
    "from plotly import offline\n",
    "import plotly.graph_objs as go\n",
    "\n",
    "#import cufflinks as cf\n",
    "#cf.set_config_file(offline=True)"
   ]
  },
  {
   "cell_type": "code",
   "execution_count": 2,
   "metadata": {},
   "outputs": [],
   "source": [
    "import matplotlib.pyplot as plt\n",
    "import pandas as pd"
   ]
  },
  {
   "cell_type": "code",
   "execution_count": 10,
   "metadata": {},
   "outputs": [
    {
     "data": {
      "text/plain": [
       "'C:\\\\Users\\\\goyetc\\\\ocean-co2-absorption\\\\notebooks'"
      ]
     },
     "execution_count": 10,
     "metadata": {},
     "output_type": "execute_result"
    }
   ],
   "source": [
    "import os\n",
    "os.getcwd()"
   ]
  },
  {
   "cell_type": "markdown",
   "metadata": {},
   "source": [
    "# $\\textbf{pCO}_2$ testbed - CESM member 001 dataset"
   ]
  },
  {
   "cell_type": "markdown",
   "metadata": {},
   "source": [
    "This contains model output from member 001 of the CESM large ensemble which can be used to evaluate ocean pCO2 interpolation methods. The dataset includes:\n",
    "\n",
    "* pCO2 = ocean partial pressure of carbon dioxide (uatm)\n",
    "* XCO2 = atmospheric carbon dioxide mixing ratio (ppmv)\n",
    "* SST = sea surface temperature (degC)\n",
    "* SSS = sea surface salinity (g/kg)\n",
    "* MLD = mixed layer depth (m)\n",
    "* CHL = chlorophyll concentration (mg/m3)"
   ]
  },
  {
   "cell_type": "markdown",
   "metadata": {},
   "source": [
    "# Read each feature"
   ]
  },
  {
   "cell_type": "code",
   "execution_count": 32,
   "metadata": {},
   "outputs": [],
   "source": [
    "#DATA_DIR = 'C:\\\\Users\\\\goyetc\\\\ocean-co2-absorption\\\\data'\n",
    "DATA_DIR = 'C:\\\\Users\\\\goyetc\\\\ocean-co2-absorption\\\\data'\n",
    "dataset_names = {'pCO2': 'pCO2_2D_mon_CESM001_1x1_198201-201701.nc',\n",
    "                 'XCO2': 'XCO2_1D_mon_CESM001_native_198201-201701.nc',\n",
    "                 'SST': 'SST_2D_mon_CESM001_1x1_198201-201701.nc',\n",
    "                 'SSS': 'SSS_2D_mon_CESM001_1x1_198201-201701.nc',\n",
    "                 'MLD': 'MLD_2D_mon_CESM001_1x1_198201-201701.nc',\n",
    "                 'Chl': 'Chl_2D_mon_CESM001_1x1_198201-201701.nc'}\n",
    "ds = {}\n",
    "for dataset in dataset_names.keys():\n",
    "    filename = os.path.join(DATA_DIR, dataset_names[dataset])\n",
    "    ds[dataset] = xr.open_dataset(filename)"
   ]
  },
  {
   "cell_type": "markdown",
   "metadata": {
    "scrolled": true
   },
   "source": [
    "# Print information of each dataset"
   ]
  },
  {
   "cell_type": "code",
   "execution_count": 33,
   "metadata": {},
   "outputs": [
    {
     "name": "stdout",
     "output_type": "stream",
     "text": [
      "---------pCO2---------\n",
      "xarray.Dataset {\n",
      "dimensions:\n",
      "\ttime = 421 ;\n",
      "\txlon = 360 ;\n",
      "\tylat = 180 ;\n",
      "\n",
      "variables:\n",
      "\tfloat64 pCO2_socat(time, ylat, xlon) ;\n",
      "\tfloat64 xlon(xlon) ;\n",
      "\t\txlon:axis = X ;\n",
      "\tfloat64 ylat(ylat) ;\n",
      "\t\tylat:axis = Y ;\n",
      "\t\tylat:units = degrees_north ;\n",
      "\t\tylat:point_spacing = even ;\n",
      "\t\tylat:standard_name = latitude ;\n",
      "\tdatetime64[ns] time(time) ;\n",
      "\t\ttime:axis = T ;\n",
      "\t\ttime:bounds = tmnth_bnds ;\n",
      "\t\ttime:time_origin = 1-JAN-1970 ;\n",
      "\t\ttime:standard_name = time ;\n",
      "\tfloat64 pCO2(time, ylat, xlon) ;\n",
      "\tfloat64 socat_mask(time, ylat, xlon) ;\n",
      "\tdatetime64[ns] tmnth(time) ;\n",
      "\t\ttmnth:axis = T ;\n",
      "\t\ttmnth:bounds = tmnth_bnds ;\n",
      "\t\ttmnth:time_origin = 1-JAN-1970 ;\n",
      "\t\ttmnth:standard_name = time ;\n",
      "\n",
      "// global attributes:\n",
      "\t:CDI = Climate Data Interface version 1.7.2 (http://mpimet.mpg.de/cdi) ;\n",
      "\t:Conventions = CF-1.4 ;\n",
      "\t:CDO = Climate Data Operators version 1.7.2 (http://mpimet.mpg.de/cdo) ;\n",
      "\t:history = Wed Apr  4 09:18:01 2018: ncap2 -s pCO2_socat=(pCO2 * socat_mask) tmp.nc pCO2_2D_mon_CESM001_1x1_198201-201712.nc\n",
      "Wed Apr  4 09:17:59 2018: ncks -A /glade/p/work/gloege/SOCAT/SOCATv5_mask_198201-201701.nc tmp.nc\n",
      "Tue Apr  3 08:42:32 2018: ncrename -d tmnth,time SOCATv5_mask_198201-201701.nc ;\n",
      "\t:NCO = 4.6.9 ;\n",
      "\t:history_of_appended_files = Wed Apr  4 09:17:59 2018: Appended file /glade/p/work/gloege/SOCAT/SOCATv5_mask_198201-201701.nc had following \"history\" attribute:\n",
      "Tue Apr  3 08:42:32 2018: ncrename -d tmnth,time SOCATv5_mask_198201-201701.nc\n",
      " ;\n",
      "\t:nco_openmp_thread_number = 1 ;\n",
      "}None\n",
      "---------XCO2---------\n",
      "xarray.Dataset {\n",
      "dimensions:\n",
      "\tbnds = 2 ;\n",
      "\ttime = 421 ;\n",
      "\n",
      "variables:\n",
      "\tfloat64 TLONG() ;\n",
      "\t\tTLONG:standard_name = longitude ;\n",
      "\t\tTLONG:long_name = longitude ;\n",
      "\t\tTLONG:units = degrees_east ;\n",
      "\t\tTLONG:axis = X ;\n",
      "\tfloat64 TLAT() ;\n",
      "\t\tTLAT:standard_name = latitude ;\n",
      "\t\tTLAT:long_name = latitude ;\n",
      "\t\tTLAT:units = degrees_north ;\n",
      "\t\tTLAT:axis = Y ;\n",
      "\tdatetime64[ns] time(time) ;\n",
      "\t\ttime:axis = T ;\n",
      "\t\ttime:bounds = tmnth_bnds ;\n",
      "\t\ttime:time_origin = 1-JAN-1970 ;\n",
      "\t\ttime:standard_name = time ;\n",
      "\tfloat64 time_bnds(time, bnds) ;\n",
      "\tfloat32 XCO2(time) ;\n",
      "\t\tXCO2:long_name = Atmospheric CO2 ;\n",
      "\t\tXCO2:units = ppmv ;\n",
      "\t\tXCO2:grid_loc = 2110 ;\n",
      "\t\tXCO2:cell_methods = time: mean xlon: mean ylat: mean ;\n",
      "\tdatetime64[ns] tmnth(time) ;\n",
      "\t\ttmnth:axis = T ;\n",
      "\t\ttmnth:bounds = tmnth_bnds ;\n",
      "\t\ttmnth:time_origin = 1-JAN-1970 ;\n",
      "\t\ttmnth:standard_name = time ;\n",
      "\n",
      "// global attributes:\n",
      "\t:CDI = Climate Data Interface version 1.7.2 (http://mpimet.mpg.de/cdi) ;\n",
      "\t:history = Thu Apr 05 13:33:27 2018: cdo seltimestep,1/421 XCO2_1D_mon_CESM001_native_198201-201712.nc XCO2_1D_mon_CESM001_native_198201-201701.nc\n",
      "Thu Apr  5 13:22:28 2018: ncwa -a ylat ./XCO2_1D_mon_CESM001_native_198201-201712.nc ./tmp.nc\n",
      "Thu Apr  5 13:22:18 2018: ncwa -a xlon ./XCO2_1D_mon_CESM001_native_198201-201712.nc ./tmp.nc\n",
      "Thu Apr 05 13:07:22 2018: cdo -select,timestep=1585/2016 XCO2_CESM001_185001-210012.nc XCO2_1D_mon_CESM001_native_198201-201712.nc\n",
      "Thu Apr  5 08:41:45 2018: ncks -d ylat,100 -d xlon,100 -v XCO2 XCO2_CESM001_185001-210012.nc out.nc\n",
      "Thu Apr  5 08:33:47 2018: ncrename -d nlat,ylat XCO2_CESM001_185001-210012.nc\n",
      "Thu Apr  5 08:33:36 2018: ncrename -d nlon,xlon XCO2_CESM001_185001-210012.nc\n",
      "Thu Apr  5 08:33:21 2018: ncrename -v ATM_CO2,XCO2 XCO2_CESM001_185001-210012.nc\n",
      "Wed Mar 28 13:21:29 2018: ncks -v ATM_CO2 ATM_CO2_CESM001_185001-210012.nc XCO2_CESM001_185001-210012.nc\n",
      "Sat Aug 31 00:29:13 2013: /glade/apps/opt/nco/4.3.4/gnu/nco-4.3.4/bin/ncks -4 -L 1 CAT.b.e11.B20TRC5CNBDRD.f09_g16.001.pop.h.ATM_CO2.185001-200512.nc b.e11.B20TRC5CNBDRD.f09_g16.001.pop.h.ATM_CO2.185001-200512.nc\n",
      "Fri Aug 30 13:17:01 2013: /glade/apps/opt/nco/4.3.4/gnu/nco-4.3.4/bin/ncrcat -O b.e11.B20TRC5CNBDRD.f09_g16.001.pop.h.ATM_CO2.1850.nc b.e11.B20TRC5CNBDRD.f09_g16.001.pop.h.ATM_CO2.1851.nc b.e11.B20TRC5CNBDRD.f09_g16.001.pop.h.ATM_CO2.1852.nc b.e11.B20TRC5CNBDRD.f09_g16.001.pop.h.ATM_CO2.1853.nc b.e11.B20TRC5CNBDRD.f09_g16.001.pop.h.ATM_CO2.1854.nc b.e11.B20TRC5CNBDRD.f09_g16.001.pop.h.ATM_CO2.1855.nc b.e11.B20TRC5CNBDRD.f09_g16.001.pop.h.ATM_CO2.1856.nc b.e11.B20TRC5CNBDRD.f09_g16.001.pop.h.ATM_CO2.1857.nc b.e11.B20TRC5CNBDRD.f09_g16.001.pop.h.ATM_CO2.1858.nc b.e11.B20TRC5CNBDRD.f09_g16.001.pop.h.ATM_CO2.1859.nc b.e11.B20TRC5CNBDRD.f09_g16.001.pop.h.ATM_CO2.1860.nc b.e11.B20TRC5CNBDRD.f09_g16.001.pop.h.ATM_CO2.1861.nc b.e11.B20TRC5CNBDRD.f09_g16.001.pop.h.ATM_CO2.1862.nc b.e11.B20TRC5CNBDRD.f09_g16.001.pop.h.ATM_CO2.1863.nc b.e11.B20TRC5CNBDRD.f09_g16.001.pop.h.ATM_CO2.1864.nc b.e11.B20TRC5CNBDRD.f09_g16.001.pop.h.ATM_CO2.1865.nc b.e11.B20TRC5CNBDRD.f09_g16.001.pop.h.ATM_CO2.1866.nc b.e11.B20TRC5CNBDRD.f09_g16.001.pop.h.ATM_CO2.1867.nc b.e11.B20TRC5CNBDRD.f09_g16.001.pop.h.ATM_CO2.1868.nc b.e11.B20TRC5CNBDRD.f09_g16.001.pop.h.ATM_CO2.1869.nc b.e11.B20TRC5CNBDRD.f09_g16.001.pop.h.ATM_CO2.1870.nc b.e11.B20TRC5CNBDRD.f09_g16.001.pop.h.ATM_CO2.1871.nc b.e11.B20TRC5CNBDRD.f09_g16.001.pop.h.ATM_CO2.1872.nc b.e11.B20TRC5CNBDRD.f09_g16.001.pop.h.ATM_CO2.1873.nc b.e11.B20TRC5CNBDRD.f09_g16.001.pop.h.ATM_CO2.1874.nc b.e11.B20TRC5CNBDRD.f09_g16.001.pop.h.ATM_CO2.1875.nc b.e11.B20TRC5CNBDRD.f09_g16.001.pop.h.ATM_CO2.1876.nc b.e11.B20TRC5CNBDRD.f09_g16.001.pop.h.ATM_CO2.1877.nc b.e11.B20TRC5CNBDRD.f09_g16.001.pop.h.ATM_CO2.1878.nc b.e11.B20TRC5CNBDRD.f09_g16.001.pop.h.ATM_CO2.1879.nc b.e11.B20TRC5CNBDRD.f09_g16.001.pop.h.ATM_CO2.1880.nc b.e11.B20TRC5CNBDRD.f09_g16.001.pop.h.ATM_CO2.1881.nc b.e11.B20TRC5CNBDRD.f09_g16.001.pop.h.ATM_CO2.1882.nc b.e11.B20TRC5CNBDRD.f09_g16.001.pop.h.ATM_CO2.1883.nc b.e11.B20TRC5CNBDRD.f09_g16.001.pop.h.ATM_CO2.1884.nc b.e11.B20TRC5CNBDRD.f09_g16.001.pop.h.ATM_CO2.1885.nc b.e11.B20TRC5CNBDRD.f09_g16.001.pop.h.ATM_CO2.1886.nc b.e11.B20TRC5CNBDRD.f09_g16.001.pop.h.ATM_CO2.1887.nc b.e11.B20TRC5CNBDRD.f09_g16.001.pop.h.ATM_CO2.1888.nc b.e11.B20TRC5CNBDRD.f09_g16.001.pop.h.ATM_CO2.1889.nc b.e11.B20TRC5CNBDRD.f09_g16.001.pop.h.ATM_CO2.1890.nc b.e11.B20TRC5CNBDRD.f09_g16.001.pop.h.ATM_CO2.1891.nc b.e11.B20TRC5CNBDRD.f09_g16.001.pop.h.ATM_CO2.1892.nc b.e11.B20TRC5CNBDRD.f09_g16.001.pop.h.ATM_CO2.1893.nc b.e11.B20TRC5CNBDRD.f09_g16.001.pop.h.ATM_CO2.1894.nc b.e11.B20TRC5CNBDRD.f09_g16.001.pop.h.ATM_CO2.1895.nc b.e11.B20TRC5CNBDRD.f09_g16.001.pop.h.ATM_CO2.1896.nc b.e11.B20TRC5CNBDRD.f09_g16.001.pop.h.ATM_CO2.1897.nc b.e11.B20TRC5CNBDRD.f09_g16.001.pop.h.ATM_CO2.1898.nc b.e11.B20TRC5CNBDRD.f09_g16.001.pop.h.ATM_CO2.1899.nc b.e11.B20TRC5CNBDRD.f09_g16.001.pop.h.ATM_CO2.1900.nc b.e11.B20TRC5CNBDRD.f09_g16.001.pop.h.ATM_CO2.1901.nc b.e11.B20TRC5CNBDRD.f09_g16.001.pop.h.ATM_CO2.1902.nc b.e11.B20TRC5CNBDRD.f09_g16.001.pop.h.ATM_CO2.1903.nc b.e11.B20TRC5CNBDRD.f09_g16.001.pop.h.ATM_CO2.1904.nc b.e11.B20TRC5CNBDRD.f09_g16.001.pop.h.ATM_CO2.1905.nc b.e11.B20TRC5CNBDRD.f09_g16.001.pop.h.ATM_CO2.1906.nc b.e11.B20TRC5CNBDRD.f09_g16.001.pop.h.ATM_CO2.1907.nc b.e11.B20TRC5CNBDRD.f09_g16.001.pop.h.ATM_CO2.1908.nc b.e11.B20TRC5CNBDRD.f09_g16.001.pop.h.ATM_CO2.1909.nc b.e11.B20TRC5CNBDRD.f09_g16.001.pop.h.ATM_CO2.1910.nc b.e11.B20TRC5CNBDRD.f09_g16.001.pop.h.ATM_CO2.1911.nc b.e11.B20TRC5CNBDRD.f09_g16.001.pop.h.ATM_CO2.1912.nc b.e11.B20TRC5CNBDRD.f09_g16.001.pop.h.ATM_CO2.1913.nc b.e11.B20TRC5CNBDRD.f09_g16.001.pop.h.ATM_CO2.1914.nc b.e11.B20TRC5CNBDRD.f09_g16.001.pop.h.ATM_CO2.1915.nc b.e11.B20TRC5CNBDRD.f09_g16.001.pop.h.ATM_CO2.1916.nc b.e11.B20TRC5CNBDRD.f09_g16.001.pop.h.ATM_CO2.1917.nc b.e11.B20TRC5CNBDRD.f09_g16.001.pop.h.ATM_CO2.1918.nc b.e11.B20TRC5CNBDRD.f09_g16.001.pop.h.ATM_CO2.1919.nc b.e11.B20TRC5CNBDRD.f09_g16.001.pop.h.ATM_CO2.1920.nc b.e11.B20TRC5CNBDRD.f09_g16.001.pop.h.ATM_CO2.1921.nc b.e11.B20TRC5CNBDRD.f09_g16.001.pop.h.ATM_CO2.1922.nc b.e11.B20TRC5CNBDRD.f09_g16.001.pop.h.ATM_CO2.1923.nc b.e11.B20TRC5CNBDRD.f09_g16.001.pop.h.ATM_CO2.1924.nc b.e11.B20TRC5CNBDRD.f09_g16.001.pop.h.ATM_CO2.1925.nc b.e11.B20TRC5CNBDRD.f09_g16.001.pop.h.ATM_CO2.1926.nc b.e11.B20TRC5CNBDRD.f09_g16.001.pop.h.ATM_CO2.1927.nc b.e11.B20TRC5CNBDRD.f09_g16.001.pop.h.ATM_CO2.1928.nc b.e11.B20TRC5CNBDRD.f09_g16.001.pop.h.ATM_CO2.1929.nc b.e11.B20TRC5CNBDRD.f09_g16.001.pop.h.ATM_CO2.1930.nc b.e11.B20TRC5CNBDRD.f09_g16.001.pop.h.ATM_CO2.1931.nc b.e11.B20TRC5CNBDRD.f09_g16.001.pop.h.ATM_CO2.1932.nc b.e11.B20TRC5CNBDRD.f09_g16.001.pop.h.ATM_CO2.1933.nc b.e11.B20TRC5CNBDRD.f09_g16.001.pop.h.ATM_CO2.1934.nc b.e11.B20TRC5CNBDRD.f09_g16.001.pop.h.ATM_CO2.1935.nc b.e11.B20TRC5CNBDRD.f09_g16.001.pop.h.ATM_CO2.1936.nc b.e11.B20TRC5CNBDRD.f09_g16.001.pop.h.ATM_CO2.1937.nc b.e11.B20TRC5CNBDRD.f09_g16.001.pop.h.ATM_CO2.1938.nc b.e11.B20TRC5CNBDRD.f09_g16.001.pop.h.ATM_CO2.1939.nc b.e11.B20TRC5CNBDRD.f09_g16.001.pop.h.ATM_CO2.1940.nc b.e11.B20TRC5CNBDRD.f09_g16.001.pop.h.ATM_CO2.1941.nc b.e11.B20TRC5CNBDRD.f09_g16.001.pop.h.ATM_CO2.1942.nc b.e11.B20TRC5CNBDRD.f09_g16.001.pop.h.ATM_CO2.1943.nc b.e11.B20TRC5CNBDRD.f09_g16.001.pop.h.ATM_CO2.1944.nc b.e11.B20TRC5CNBDRD.f09_g16.001.pop.h.ATM_CO2.1945.nc b.e11.B20TRC5CNBDRD.f09_g16.001.pop.h.ATM_CO2.1946.nc b.e11.B20TRC5CNBDRD.f09_g16.001.pop.h.ATM_CO2.1947.nc b.e11.B20TRC5CNBDRD.f09_g16.001.pop.h.ATM_CO2.1948.nc b.e11.B20TRC5CNBDRD.f09_g16.001.pop.h.ATM_CO2.1949.nc b.e11.B20TRC5CNBDRD.f09_g16.001.pop.h.ATM_CO2.1950.nc b.e11.B20TRC5CNBDRD.f09_g16.001.pop.h.ATM_CO2.1951.nc b.e11.B20TRC5CNBDRD.f09_g16.001.pop.h.ATM_CO2.1952.nc b.e11.B20TRC5CNBDRD.f09_g16.001.pop.h.ATM_CO2.1953.nc b.e11.B20TRC5CNBDRD.f09_g16.001.pop.h.ATM_CO2.1954.nc b.e11.B20TRC5CNBDRD.f09_g16.001.pop.h.ATM_CO2.1955.nc b.e11.B20TRC5CNBDRD.f09_g16.001.pop.h.ATM_CO2.1956.nc b.e11.B20TRC5CNBDRD.f09_g16.001.pop.h.ATM_CO2.1957.nc b.e11.B20TRC5CNBDRD.f09_g16.001.pop.h.ATM_CO2.1958.nc b.e11.B20TRC5CNBDRD.f09_g16.001.pop.h.ATM_CO2.1959.nc b.e11.B20TRC5CNBDRD.f09_g16.001.pop.h.ATM_CO2.1960.nc b.e11.B20TRC5CNBDRD.f09_g16.001.pop.h.ATM_CO2.1961.nc b.e11.B20TRC5CNBDRD.f09_g16.001.pop.h.ATM_CO2.1962.nc b.e11.B20TRC5CNBDRD.f09_g16.001.pop.h.ATM_CO2.1963.nc b.e11.B20TRC5CNBDRD.f09_g16.001.pop.h.ATM_CO2.1964.nc b.e11.B20TRC5CNBDRD.f09_g16.001.pop.h.ATM_CO2.1965.nc b.e11.B20TRC5CNBDRD.f09_g16.001.pop.h.ATM_CO2.1966.nc b.e11.B20TRC5CNBDRD.f09_g16.001.pop.h.ATM_CO2.1967.nc b.e11.B20TRC5CNBDRD.f09_g16.001.pop.h.ATM_CO2.1968.nc b.e11.B20TRC5CNBDRD.f09_g16.001.pop.h.ATM_CO2.1969.nc b.e11.B20TRC5CNBDRD.f09_g16.001.pop.h.ATM_CO2.1970.nc b.e11.B20TRC5CNBDRD.f09_g16.001.pop.h.ATM_CO2.1971.nc b.e11.B20TRC5CNBDRD.f09_g16.001.pop.h.ATM_CO2.1972.nc b.e11.B20TRC5CNBDRD.f09_g16.001.pop.h.ATM_CO2.1973.nc b.e11.B20TRC5CNBDRD.f09_g16.001.pop.h.ATM_CO2.1974.nc b.e11.B20TRC5CNBDRD.f09_g16.001.pop.h.ATM_CO2.1975.nc b.e11.B20TRC5CNBDRD.f09_g16.001.pop.h.ATM_CO2.1976.nc b.e11.B20TRC5CNBDRD.f09_g16.001.pop.h.ATM_CO2.1977.nc b.e11.B20TRC5CNBDRD.f09_g16.001.pop.h.ATM_CO2.1978.nc b.e11.B20TRC5CNBDRD.f09_g16.001.pop.h.ATM_CO2.1979.nc b.e11.B20TRC5CNBDRD.f09_g16.001.pop.h.ATM_CO2.1980.nc b.e11.B20TRC5CNBDRD.f09_g16.001.pop.h.ATM_CO2.1981.nc b.e11.B20TRC5CNBDRD.f09_g16.001.pop.h.ATM_CO2.1982.nc b.e11.B20TRC5CNBDRD.f09_g16.001.pop.h.ATM_CO2.1983.nc b.e11.B20TRC5CNBDRD.f09_g16.001.pop.h.ATM_CO2.1984.nc b.e11.B20TRC5CNBDRD.f09_g16.001.pop.h.ATM_CO2.1985.nc b.e11.B20TRC5CNBDRD.f09_g16.001.pop.h.ATM_CO2.1986.nc b.e11.B20TRC5CNBDRD.f09_g16.001.pop.h.ATM_CO2.1987.nc b.e11.B20TRC5CNBDRD.f09_g16.001.pop.h.ATM_CO2.1988.nc b.e11.B20TRC5CNBDRD.f09_g16.001.pop.h.ATM_CO2.1989.nc b.e11.B20TRC5CNBDRD.f09_g16.001.pop.h.ATM_CO2.1990.nc b.e11.B20TRC5CNBDRD.f09_g16.001.pop.h.ATM_CO2.1991.nc b.e11.B20TRC5CNBDRD.f09_g16.001.pop.h.ATM_CO2.1992.nc b.e11.B20TRC5CNBDRD.f09_g16.001.pop.h.ATM_CO2.1993.nc b.e11.B20TRC5CNBDRD.f09_g16.001.pop.h.ATM_CO2.1994.nc b.e11.B20TRC5CNBDRD.f09_g16.001.pop.h.ATM_CO2.1995.nc b.e11.B20TRC5CNBDRD.f09_g16.001.pop.h.ATM_CO2.1996.nc b.e11.B20TRC5CNBDRD.f09_g16.001.pop.h.ATM_CO2.1997.nc b.e11.B20TRC5CNBDRD.f09_g16.001.pop.h.ATM_CO2.1998.nc b.e11.B20TRC5CNBDRD.f09_g16.001.pop.h.ATM_CO2.1999.nc b.e11.B20TRC5CNBDRD.f09_g16.001.pop.h.ATM_CO2.2000.nc b.e11.B20TRC5CNBDRD.f09_g16.001.pop.h.ATM_CO2.2001.nc b.e11.B20TRC5CNBDRD.f09_g16.001.pop.h.ATM_CO2.2002.nc b.e11.B20TRC5CNBDRD.f09_g16.001.pop.h.ATM_CO2.2003.nc b.e11.B20TRC5CNBDRD.f09_g16.001.pop.h.ATM_CO2.2004.nc b.e11.B20TRC5CNBDRD.f09_g16.001.pop.h.ATM_CO2.2005.nc CAT.b.e11.B20TRC5CNBDRD.f09_g16.001.pop.h.ATM_CO2.185001-200512.nc\n",
      "Fri Aug 30 12:55:36 2013: /glade/apps/opt/nco/4.3.4/gnu/nco-4.3.4/bin/ncks -O -v time,time_bound,ANGLE,ANGLET,DXT,DXU,DYT,DYU,HT,HTE,HTN,HU,HUS,HUW,KMT,KMU,REGION_MASK,TAREA,TLAT,TLONG,UAREA,ULAT,ULONG,dz,dzw,lat_aux_grid,moc_components,moc_z,transport_components,transport_regions,z_t,z_t_150m,z_w,z_w_bot,z_w_top,T0_Kelvin,cp_air,cp_sw,days_in_norm_year,fwflux_factor,grav,heat_to_PW,hflux_factor,latent_heat_fusion,latent_heat_vapor,mass_to_Sv,momentum_factor,nsurface_t,nsurface_u,ocn_ref_salinity,omega,ppt_to_salt,radius,rho_air,rho_fw,rho_sw,salinity_factor,salt_to_Svppt,salt_to_mmday,salt_to_ppt,sea_ice_salinity,sflux_factor,sound,stefan_boltzmann,vonkar,ATM_CO2 b.e11.B20TRC5CNBDRD.f09_g16.001.pop.h.1850.nc ATM_CO2.d/b.e11.B20TRC5CNBDRD.f09_g16.001.pop.h.ATM_CO2.1850.nc\n",
      "Fri Aug 30 12:50:51 2013: /glade/apps/opt/nco/4.3.4/gnu/nco-4.3.4/bin/ncrcat -O b.e11.B20TRC5CNBDRD.f09_g16.001.pop.h.1850-01.nc b.e11.B20TRC5CNBDRD.f09_g16.001.pop.h.1850-02.nc b.e11.B20TRC5CNBDRD.f09_g16.001.pop.h.1850-03.nc b.e11.B20TRC5CNBDRD.f09_g16.001.pop.h.1850-04.nc b.e11.B20TRC5CNBDRD.f09_g16.001.pop.h.1850-05.nc b.e11.B20TRC5CNBDRD.f09_g16.001.pop.h.1850-06.nc b.e11.B20TRC5CNBDRD.f09_g16.001.pop.h.1850-07.nc b.e11.B20TRC5CNBDRD.f09_g16.001.pop.h.1850-08.nc b.e11.B20TRC5CNBDRD.f09_g16.001.pop.h.1850-09.nc b.e11.B20TRC5CNBDRD.f09_g16.001.pop.h.1850-10.nc b.e11.B20TRC5CNBDRD.f09_g16.001.pop.h.1850-11.nc b.e11.B20TRC5CNBDRD.f09_g16.001.pop.h.1850-12.nc b.e11.B20TRC5CNBDRD.f09_g16.001.pop.h.1850.nc\n",
      "Fri Aug 30 12:46:42 2013: /glade/apps/opt/nco/4.3.4/gnu/nco-4.3.4/bin/ncks -4 b.e11.B20TRC5CNBDRD.f09_g16.001.pop.h.1850-01.nc b.e11.B20TRC5CNBDRD.f09_g16.001.pop.h.1850-01.nc4\n",
      "none ;\n",
      "\t:source = CCSM POP2, the CCSM Ocean Component ;\n",
      "\t:Conventions = CF-1.0; http://www.cgd.ucar.edu/cms/eaton/netcdf/CF-current.htm ;\n",
      "\t:title = b.e11.B20TRC5CNBDRD.f09_g16.001 ;\n",
      "\t:contents = Diagnostic and Prognostic Variables ;\n",
      "\t:revision = $Id: tavg.F90 41939 2012-11-14 16:37:23Z mlevy@ucar.edu $ ;\n",
      "\t:calendar = All years have exactly  365 days. ;\n",
      "\t:start_time = This dataset was created on 2013-05-24 at 14:54:25.0 ;\n",
      "\t:cell_methods = cell_methods = time: mean ==> the variable values are averaged over the time interval between the previous time coordinate and the current one.          cell_methods  absent  ==> the variable values are at the time given by the current time coordinate. ;\n",
      "\t:nsteps_total = 750 ;\n",
      "\t:tavg_sum = 2592000.0 ;\n",
      "\t:tavg_sum_qflux = 2592000.0 ;\n",
      "\t:nco_openmp_thread_number = 1 ;\n",
      "\t:NCO = 4.6.9 ;\n",
      "\t:CDO = Climate Data Operators version 1.7.2 (http://mpimet.mpg.de/cdo) ;\n",
      "}None\n",
      "---------SST---------\n",
      "xarray.Dataset {\n",
      "dimensions:\n",
      "\tbnds = 2 ;\n",
      "\ttime = 421 ;\n",
      "\txlon = 360 ;\n",
      "\tylat = 180 ;\n",
      "\n",
      "variables:\n",
      "\tfloat64 SST_socat(time, ylat, xlon) ;\n",
      "\t\tSST_socat:cell_methods = time: mean z_t: mean ;\n",
      "\t\tSST_socat:grid_loc = 3111 ;\n",
      "\t\tSST_socat:long_name = Potential Temperature ;\n",
      "\t\tSST_socat:units = degC ;\n",
      "\tfloat64 xlon(xlon) ;\n",
      "\t\txlon:standard_name = longitude ;\n",
      "\t\txlon:long_name = longitude ;\n",
      "\t\txlon:units = degrees_east ;\n",
      "\t\txlon:axis = X ;\n",
      "\t\txlon:bounds = xlon_bnds ;\n",
      "\tfloat64 xlon_bnds(xlon, bnds) ;\n",
      "\tfloat64 ylat(ylat) ;\n",
      "\t\tylat:long_name = latitude ;\n",
      "\t\tylat:bounds = ylat_bnds ;\n",
      "\t\tylat:standard_name = latitude ;\n",
      "\t\tylat:units = degrees_north ;\n",
      "\t\tylat:axis = Y ;\n",
      "\t\tylat:point_spacing = even ;\n",
      "\tfloat64 ylat_bnds(ylat, bnds) ;\n",
      "\tdatetime64[ns] time(time) ;\n",
      "\t\ttime:axis = T ;\n",
      "\t\ttime:bounds = tmnth_bnds ;\n",
      "\t\ttime:time_origin = 1-JAN-1970 ;\n",
      "\t\ttime:standard_name = time ;\n",
      "\tfloat64 time_bnds(time, bnds) ;\n",
      "\tfloat32 SST(time, ylat, xlon) ;\n",
      "\t\tSST:long_name = Potential Temperature ;\n",
      "\t\tSST:units = degC ;\n",
      "\t\tSST:grid_loc = 3111 ;\n",
      "\t\tSST:cell_methods = time: mean z_t: mean ;\n",
      "\tfloat64 socat_mask(time, ylat, xlon) ;\n",
      "\tdatetime64[ns] tmnth(time) ;\n",
      "\t\ttmnth:axis = T ;\n",
      "\t\ttmnth:bounds = tmnth_bnds ;\n",
      "\t\ttmnth:time_origin = 1-JAN-1970 ;\n",
      "\t\ttmnth:standard_name = time ;\n",
      "\n",
      "// global attributes:\n",
      "\t:CDI = Climate Data Interface version 1.7.2 (http://mpimet.mpg.de/cdi) ;\n",
      "\t:source = CCSM POP2, the CCSM Ocean Component ;\n",
      "\t:Conventions = CF-1.0; http://www.cgd.ucar.edu/cms/eaton/netcdf/CF-current.htm ;\n",
      "\t:title = b.e11.B20TRC5CNBDRD.f09_g16.001 ;\n",
      "\t:contents = Diagnostic and Prognostic Variables ;\n",
      "\t:revision = $Id: tavg.F90 41939 2012-11-14 16:37:23Z mlevy@ucar.edu $ ;\n",
      "\t:calendar = All years have exactly  365 days. ;\n",
      "\t:start_time = This dataset was created on 2013-05-24 at 14:54:25.0 ;\n",
      "\t:cell_methods = cell_methods = time: mean ==> the variable values are averaged over the time interval between the previous time coordinate and the current one.          cell_methods  absent  ==> the variable values are at the time given by the current time coordinate. ;\n",
      "\t:nsteps_total = 750 ;\n",
      "\t:tavg_sum = 2592000.0 ;\n",
      "\t:tavg_sum_qflux = 2592000.0 ;\n",
      "\t:nco_openmp_thread_number = 1 ;\n",
      "\t:CDO = Climate Data Operators version 1.7.2 (http://mpimet.mpg.de/cdo) ;\n",
      "\t:history = Wed Apr  4 09:56:32 2018: ncap2 -s SST_socat=(SST * socat_mask) tmp.nc SST_2D_mon_CESM001_1x1_198201-201712.nc\n",
      "Wed Apr  4 09:56:32 2018: ncks -A /glade/p/work/gloege/SOCAT/SOCATv5_mask_198201-201701.nc tmp.nc\n",
      "Tue Apr  3 08:42:32 2018: ncrename -d tmnth,time SOCATv5_mask_198201-201701.nc ;\n",
      "\t:NCO = 4.6.9 ;\n",
      "\t:history_of_appended_files = Wed Apr  4 09:56:32 2018: Appended file /glade/p/work/gloege/SOCAT/SOCATv5_mask_198201-201701.nc had following \"history\" attribute:\n",
      "Tue Apr  3 08:42:32 2018: ncrename -d tmnth,time SOCATv5_mask_198201-201701.nc\n",
      " ;\n",
      "}None\n",
      "---------SSS---------\n",
      "xarray.Dataset {\n",
      "dimensions:\n",
      "\tbnds = 2 ;\n",
      "\ttime = 421 ;\n",
      "\txlon = 360 ;\n",
      "\tylat = 180 ;\n",
      "\n",
      "variables:\n",
      "\tfloat64 SSS_socat(time, ylat, xlon) ;\n",
      "\t\tSSS_socat:cell_methods = time: mean z_t: mean ;\n",
      "\t\tSSS_socat:grid_loc = 3111 ;\n",
      "\t\tSSS_socat:long_name = Sea Surface Salinity ;\n",
      "\t\tSSS_socat:units = gram/kilogram ;\n",
      "\tfloat64 xlon(xlon) ;\n",
      "\t\txlon:standard_name = longitude ;\n",
      "\t\txlon:long_name = longitude ;\n",
      "\t\txlon:units = degrees_east ;\n",
      "\t\txlon:axis = X ;\n",
      "\t\txlon:bounds = xlon_bnds ;\n",
      "\tfloat64 xlon_bnds(xlon, bnds) ;\n",
      "\tfloat64 ylat(ylat) ;\n",
      "\t\tylat:long_name = latitude ;\n",
      "\t\tylat:bounds = ylat_bnds ;\n",
      "\t\tylat:standard_name = latitude ;\n",
      "\t\tylat:units = degrees_north ;\n",
      "\t\tylat:axis = Y ;\n",
      "\t\tylat:point_spacing = even ;\n",
      "\tfloat64 ylat_bnds(ylat, bnds) ;\n",
      "\tdatetime64[ns] time(time) ;\n",
      "\t\ttime:axis = T ;\n",
      "\t\ttime:bounds = tmnth_bnds ;\n",
      "\t\ttime:time_origin = 1-JAN-1970 ;\n",
      "\t\ttime:standard_name = time ;\n",
      "\tfloat64 time_bnds(time, bnds) ;\n",
      "\tfloat32 SSS(time, ylat, xlon) ;\n",
      "\t\tSSS:long_name = Sea Surface Salinity ;\n",
      "\t\tSSS:units = gram/kilogram ;\n",
      "\t\tSSS:grid_loc = 3111 ;\n",
      "\t\tSSS:cell_methods = time: mean z_t: mean ;\n",
      "\tfloat64 socat_mask(time, ylat, xlon) ;\n",
      "\tdatetime64[ns] tmnth(time) ;\n",
      "\t\ttmnth:axis = T ;\n",
      "\t\ttmnth:bounds = tmnth_bnds ;\n",
      "\t\ttmnth:time_origin = 1-JAN-1970 ;\n",
      "\t\ttmnth:standard_name = time ;\n",
      "\n",
      "// global attributes:\n",
      "\t:CDI = Climate Data Interface version 1.7.2 (http://mpimet.mpg.de/cdi) ;\n",
      "\t:source = CCSM POP2, the CCSM Ocean Component ;\n",
      "\t:Conventions = CF-1.0; http://www.cgd.ucar.edu/cms/eaton/netcdf/CF-current.htm ;\n",
      "\t:title = b.e11.B20TRC5CNBDRD.f09_g16.001 ;\n",
      "\t:contents = Diagnostic and Prognostic Variables ;\n",
      "\t:revision = $Id: tavg.F90 41939 2012-11-14 16:37:23Z mlevy@ucar.edu $ ;\n",
      "\t:calendar = All years have exactly  365 days. ;\n",
      "\t:start_time = This dataset was created on 2013-05-24 at 14:54:25.0 ;\n",
      "\t:cell_methods = cell_methods = time: mean ==> the variable values are averaged over the time interval between the previous time coordinate and the current one.          cell_methods  absent  ==> the variable values are at the time given by the current time coordinate. ;\n",
      "\t:nsteps_total = 750 ;\n",
      "\t:tavg_sum = 2592000.0 ;\n",
      "\t:tavg_sum_qflux = 2592000.0 ;\n",
      "\t:nco_openmp_thread_number = 1 ;\n",
      "\t:CDO = Climate Data Operators version 1.7.2 (http://mpimet.mpg.de/cdo) ;\n",
      "\t:history = Wed Apr  4 09:52:55 2018: ncap2 -s SSS_socat=(SSS * socat_mask) tmp.nc SSS_2D_mon_CESM001_1x1_198201-201712.nc\n",
      "Wed Apr  4 09:52:54 2018: ncks -A /glade/p/work/gloege/SOCAT/SOCATv5_mask_198201-201701.nc tmp.nc\n",
      "Tue Apr  3 08:42:32 2018: ncrename -d tmnth,time SOCATv5_mask_198201-201701.nc ;\n",
      "\t:NCO = 4.6.9 ;\n",
      "\t:history_of_appended_files = Wed Apr  4 09:52:54 2018: Appended file /glade/p/work/gloege/SOCAT/SOCATv5_mask_198201-201701.nc had following \"history\" attribute:\n",
      "Tue Apr  3 08:42:32 2018: ncrename -d tmnth,time SOCATv5_mask_198201-201701.nc\n",
      " ;\n",
      "}None\n",
      "---------MLD---------\n",
      "xarray.Dataset {\n",
      "dimensions:\n",
      "\tbnds = 2 ;\n",
      "\ttime = 421 ;\n",
      "\txlon = 360 ;\n",
      "\tylat = 180 ;\n",
      "\n",
      "variables:\n",
      "\tfloat64 MLD_socat(time, ylat, xlon) ;\n",
      "\t\tMLD_socat:cell_methods = time: mean ;\n",
      "\t\tMLD_socat:grid_loc = 2110 ;\n",
      "\t\tMLD_socat:long_name = Mixed-Layer Depth ;\n",
      "\t\tMLD_socat:units = m ;\n",
      "\tfloat64 xlon(xlon) ;\n",
      "\t\txlon:standard_name = longitude ;\n",
      "\t\txlon:long_name = longitude ;\n",
      "\t\txlon:units = degrees_east ;\n",
      "\t\txlon:axis = X ;\n",
      "\t\txlon:bounds = xlon_bnds ;\n",
      "\tfloat64 xlon_bnds(xlon, bnds) ;\n",
      "\tfloat64 ylat(ylat) ;\n",
      "\t\tylat:long_name = latitude ;\n",
      "\t\tylat:bounds = ylat_bnds ;\n",
      "\t\tylat:standard_name = latitude ;\n",
      "\t\tylat:units = degrees_north ;\n",
      "\t\tylat:axis = Y ;\n",
      "\t\tylat:point_spacing = even ;\n",
      "\tfloat64 ylat_bnds(ylat, bnds) ;\n",
      "\tdatetime64[ns] time(time) ;\n",
      "\t\ttime:axis = T ;\n",
      "\t\ttime:bounds = tmnth_bnds ;\n",
      "\t\ttime:time_origin = 1-JAN-1970 ;\n",
      "\t\ttime:standard_name = time ;\n",
      "\tfloat64 time_bnds(time, bnds) ;\n",
      "\tfloat32 MLD(time, ylat, xlon) ;\n",
      "\t\tMLD:long_name = Mixed-Layer Depth ;\n",
      "\t\tMLD:units = m ;\n",
      "\t\tMLD:grid_loc = 2110 ;\n",
      "\t\tMLD:cell_methods = time: mean ;\n",
      "\tfloat64 socat_mask(time, ylat, xlon) ;\n",
      "\tdatetime64[ns] tmnth(time) ;\n",
      "\t\ttmnth:axis = T ;\n",
      "\t\ttmnth:bounds = tmnth_bnds ;\n",
      "\t\ttmnth:time_origin = 1-JAN-1970 ;\n",
      "\t\ttmnth:standard_name = time ;\n",
      "\n",
      "// global attributes:\n",
      "\t:CDI = Climate Data Interface version 1.7.2 (http://mpimet.mpg.de/cdi) ;\n",
      "\t:source = CCSM POP2, the CCSM Ocean Component ;\n",
      "\t:Conventions = CF-1.0; http://www.cgd.ucar.edu/cms/eaton/netcdf/CF-current.htm ;\n",
      "\t:title = b.e11.B20TRC5CNBDRD.f09_g16.001 ;\n",
      "\t:contents = Diagnostic and Prognostic Variables ;\n",
      "\t:revision = $Id: tavg.F90 41939 2012-11-14 16:37:23Z mlevy@ucar.edu $ ;\n",
      "\t:calendar = All years have exactly  365 days. ;\n",
      "\t:start_time = This dataset was created on 2013-05-24 at 14:54:25.0 ;\n",
      "\t:cell_methods = cell_methods = time: mean ==> the variable values are averaged over the time interval between the previous time coordinate and the current one.          cell_methods  absent  ==> the variable values are at the time given by the current time coordinate. ;\n",
      "\t:nsteps_total = 750 ;\n",
      "\t:tavg_sum = 2592000.0 ;\n",
      "\t:tavg_sum_qflux = 2592000.0 ;\n",
      "\t:nco_openmp_thread_number = 1 ;\n",
      "\t:CDO = Climate Data Operators version 1.7.2 (http://mpimet.mpg.de/cdo) ;\n",
      "\t:history = Wed Apr  4 09:24:05 2018: ncap2 -s MLD_socat=(MLD * socat_mask) tmp.nc MLD_2D_mon_CESM001_1x1_198201-201712.nc\n",
      "Wed Apr  4 09:24:03 2018: ncks -A /glade/p/work/gloege/SOCAT/SOCATv5_mask_198201-201701.nc tmp.nc\n",
      "Tue Apr  3 08:42:32 2018: ncrename -d tmnth,time SOCATv5_mask_198201-201701.nc ;\n",
      "\t:NCO = 4.6.9 ;\n",
      "\t:history_of_appended_files = Wed Apr  4 09:24:03 2018: Appended file /glade/p/work/gloege/SOCAT/SOCATv5_mask_198201-201701.nc had following \"history\" attribute:\n",
      "Tue Apr  3 08:42:32 2018: ncrename -d tmnth,time SOCATv5_mask_198201-201701.nc\n",
      " ;\n",
      "}None\n",
      "---------Chl---------\n",
      "xarray.Dataset {\n",
      "dimensions:\n",
      "\tbnds = 2 ;\n",
      "\ttime = 421 ;\n",
      "\txlon = 360 ;\n",
      "\tylat = 180 ;\n",
      "\n",
      "variables:\n",
      "\tfloat64 Chl_socat(time, ylat, xlon) ;\n",
      "\t\tChl_socat:cell_methods = time: mean z_t_150m: mean ;\n",
      "\t\tChl_socat:grid_loc = 3114 ;\n",
      "\t\tChl_socat:long_name = total (diat,diaz,sp) phytoplankton Chlorophyll ;\n",
      "\t\tChl_socat:units = mg/m^3 ;\n",
      "\tfloat64 xlon(xlon) ;\n",
      "\t\txlon:standard_name = longitude ;\n",
      "\t\txlon:long_name = longitude ;\n",
      "\t\txlon:units = degrees_east ;\n",
      "\t\txlon:axis = X ;\n",
      "\t\txlon:bounds = xlon_bnds ;\n",
      "\tfloat64 xlon_bnds(xlon, bnds) ;\n",
      "\tfloat64 ylat(ylat) ;\n",
      "\t\tylat:long_name = latitude ;\n",
      "\t\tylat:bounds = ylat_bnds ;\n",
      "\t\tylat:standard_name = latitude ;\n",
      "\t\tylat:units = degrees_north ;\n",
      "\t\tylat:axis = Y ;\n",
      "\t\tylat:point_spacing = even ;\n",
      "\tfloat64 ylat_bnds(ylat, bnds) ;\n",
      "\tdatetime64[ns] time(time) ;\n",
      "\t\ttime:axis = T ;\n",
      "\t\ttime:bounds = tmnth_bnds ;\n",
      "\t\ttime:time_origin = 1-JAN-1970 ;\n",
      "\t\ttime:standard_name = time ;\n",
      "\tfloat64 time_bnds(time, bnds) ;\n",
      "\tfloat32 Chl(time, ylat, xlon) ;\n",
      "\t\tChl:long_name = total (diat,diaz,sp) phytoplankton Chlorophyll ;\n",
      "\t\tChl:units = mg/m^3 ;\n",
      "\t\tChl:grid_loc = 3114 ;\n",
      "\t\tChl:cell_methods = time: mean z_t_150m: mean ;\n",
      "\tfloat64 socat_mask(time, ylat, xlon) ;\n",
      "\tdatetime64[ns] tmnth(time) ;\n",
      "\t\ttmnth:axis = T ;\n",
      "\t\ttmnth:bounds = tmnth_bnds ;\n",
      "\t\ttmnth:time_origin = 1-JAN-1970 ;\n",
      "\t\ttmnth:standard_name = time ;\n",
      "\n",
      "// global attributes:\n",
      "\t:CDI = Climate Data Interface version 1.7.2 (http://mpimet.mpg.de/cdi) ;\n",
      "\t:source = CCSM POP2, the CCSM Ocean Component ;\n",
      "\t:Conventions = CF-1.0; http://www.cgd.ucar.edu/cms/eaton/netcdf/CF-current.htm ;\n",
      "\t:title = b.e11.B20TRC5CNBDRD.f09_g16.001 ;\n",
      "\t:contents = Diagnostic and Prognostic Variables ;\n",
      "\t:revision = $Id: tavg.F90 41939 2012-11-14 16:37:23Z mlevy@ucar.edu $ ;\n",
      "\t:calendar = All years have exactly  365 days. ;\n",
      "\t:start_time = This dataset was created on 2013-05-24 at 14:54:25.0 ;\n",
      "\t:cell_methods = cell_methods = time: mean ==> the variable values are averaged over the time interval between the previous time coordinate and the current one.          cell_methods  absent  ==> the variable values are at the time given by the current time coordinate. ;\n",
      "\t:nsteps_total = 750 ;\n",
      "\t:tavg_sum = 2592000.0 ;\n",
      "\t:tavg_sum_qflux = 2592000.0 ;\n",
      "\t:nco_openmp_thread_number = 1 ;\n",
      "\t:CDO = Climate Data Operators version 1.7.2 (http://mpimet.mpg.de/cdo) ;\n",
      "\t:history = Wed Apr  4 07:55:31 2018: ncap2 -s Chl_socat=(Chl * socat_mask) tmp.nc Chl_2D_mon_CESM001_1x1_198201-201712.nc\n",
      "Wed Apr  4 07:55:28 2018: ncks -A /glade/p/work/gloege/SOCAT/SOCATv5_mask_198201-201701.nc tmp.nc\n",
      "Tue Apr  3 08:42:32 2018: ncrename -d tmnth,time SOCATv5_mask_198201-201701.nc ;\n",
      "\t:NCO = 4.6.9 ;\n",
      "\t:history_of_appended_files = Wed Apr  4 07:55:28 2018: Appended file /glade/p/work/gloege/SOCAT/SOCATv5_mask_198201-201701.nc had following \"history\" attribute:\n",
      "Tue Apr  3 08:42:32 2018: ncrename -d tmnth,time SOCATv5_mask_198201-201701.nc\n",
      " ;\n",
      "}None\n"
     ]
    }
   ],
   "source": [
    "for dataset in ds.keys():\n",
    "    print(\"---------{}---------\".format(dataset))\n",
    "    print(ds[dataset].info())"
   ]
  },
  {
   "cell_type": "markdown",
   "metadata": {},
   "source": [
    "## Convert xarray data to dataframe\n",
    "\n",
    "##### Note: For consistency and not to reproduce work, using code from Lingyun's 'edav first pass' notebook to produce dataframes from .nc files\n",
    "\n",
    "* Select corresponding features from each dataset: for example, `df['pCO2']` has both variables `pCO2_socat` (pCO2 just at SOCAT locations) and `pCO2`, so both of the two features will be converted to dataframe\n",
    "* Only keep grids with finite values\n",
    "* Convert pivot table to flat dataframe"
   ]
  },
  {
   "cell_type": "code",
   "execution_count": 36,
   "metadata": {},
   "outputs": [],
   "source": [
    "df = {}\n",
    "#df_socat = {}\n",
    "\n",
    "for dataset in ds.keys():\n",
    "    # e.g. pCO2\n",
    "    df[dataset] = ds[dataset][dataset].to_dataframe()\n",
    "    \n",
    "    #note np.isfinite eliminates infinite and/or NaN records from dataset \n",
    "    df[dataset] = df[dataset][np.isfinite(df[dataset][dataset])].reset_index()\n"
   ]
  },
  {
   "cell_type": "code",
   "execution_count": 40,
   "metadata": {},
   "outputs": [
    {
     "data": {
      "text/html": [
       "<div>\n",
       "<style scoped>\n",
       "    .dataframe tbody tr th:only-of-type {\n",
       "        vertical-align: middle;\n",
       "    }\n",
       "\n",
       "    .dataframe tbody tr th {\n",
       "        vertical-align: top;\n",
       "    }\n",
       "\n",
       "    .dataframe thead th {\n",
       "        text-align: right;\n",
       "    }\n",
       "</style>\n",
       "<table border=\"1\" class=\"dataframe\">\n",
       "  <thead>\n",
       "    <tr style=\"text-align: right;\">\n",
       "      <th></th>\n",
       "      <th>time</th>\n",
       "      <th>ylat</th>\n",
       "      <th>xlon</th>\n",
       "      <th>pCO2</th>\n",
       "    </tr>\n",
       "  </thead>\n",
       "  <tbody>\n",
       "    <tr>\n",
       "      <th>0</th>\n",
       "      <td>1982-01-16 12:00:00</td>\n",
       "      <td>-77.5</td>\n",
       "      <td>179.5</td>\n",
       "      <td>151.525853</td>\n",
       "    </tr>\n",
       "    <tr>\n",
       "      <th>1</th>\n",
       "      <td>1982-01-16 12:00:00</td>\n",
       "      <td>-77.5</td>\n",
       "      <td>180.5</td>\n",
       "      <td>150.330599</td>\n",
       "    </tr>\n",
       "    <tr>\n",
       "      <th>2</th>\n",
       "      <td>1982-01-16 12:00:00</td>\n",
       "      <td>-77.5</td>\n",
       "      <td>181.5</td>\n",
       "      <td>148.500409</td>\n",
       "    </tr>\n",
       "    <tr>\n",
       "      <th>3</th>\n",
       "      <td>1982-01-16 12:00:00</td>\n",
       "      <td>-77.5</td>\n",
       "      <td>182.5</td>\n",
       "      <td>146.198458</td>\n",
       "    </tr>\n",
       "    <tr>\n",
       "      <th>4</th>\n",
       "      <td>1982-01-16 12:00:00</td>\n",
       "      <td>-77.5</td>\n",
       "      <td>183.5</td>\n",
       "      <td>143.769723</td>\n",
       "    </tr>\n",
       "  </tbody>\n",
       "</table>\n",
       "</div>"
      ],
      "text/plain": [
       "                 time  ylat   xlon        pCO2\n",
       "0 1982-01-16 12:00:00 -77.5  179.5  151.525853\n",
       "1 1982-01-16 12:00:00 -77.5  180.5  150.330599\n",
       "2 1982-01-16 12:00:00 -77.5  181.5  148.500409\n",
       "3 1982-01-16 12:00:00 -77.5  182.5  146.198458\n",
       "4 1982-01-16 12:00:00 -77.5  183.5  143.769723"
      ]
     },
     "execution_count": 40,
     "metadata": {},
     "output_type": "execute_result"
    }
   ],
   "source": [
    "df['pCO2'].head()"
   ]
  },
  {
   "cell_type": "code",
   "execution_count": 41,
   "metadata": {},
   "outputs": [
    {
     "data": {
      "text/html": [
       "<div>\n",
       "<style scoped>\n",
       "    .dataframe tbody tr th:only-of-type {\n",
       "        vertical-align: middle;\n",
       "    }\n",
       "\n",
       "    .dataframe tbody tr th {\n",
       "        vertical-align: top;\n",
       "    }\n",
       "\n",
       "    .dataframe thead th {\n",
       "        text-align: right;\n",
       "    }\n",
       "</style>\n",
       "<table border=\"1\" class=\"dataframe\">\n",
       "  <thead>\n",
       "    <tr style=\"text-align: right;\">\n",
       "      <th></th>\n",
       "      <th>time</th>\n",
       "      <th>ylat</th>\n",
       "      <th>xlon</th>\n",
       "      <th>MLD</th>\n",
       "    </tr>\n",
       "  </thead>\n",
       "  <tbody>\n",
       "    <tr>\n",
       "      <th>0</th>\n",
       "      <td>1982-01-16 12:00:00</td>\n",
       "      <td>-77.5</td>\n",
       "      <td>179.5</td>\n",
       "      <td>16.192860</td>\n",
       "    </tr>\n",
       "    <tr>\n",
       "      <th>1</th>\n",
       "      <td>1982-01-16 12:00:00</td>\n",
       "      <td>-77.5</td>\n",
       "      <td>180.5</td>\n",
       "      <td>15.115437</td>\n",
       "    </tr>\n",
       "    <tr>\n",
       "      <th>2</th>\n",
       "      <td>1982-01-16 12:00:00</td>\n",
       "      <td>-77.5</td>\n",
       "      <td>181.5</td>\n",
       "      <td>14.071844</td>\n",
       "    </tr>\n",
       "    <tr>\n",
       "      <th>3</th>\n",
       "      <td>1982-01-16 12:00:00</td>\n",
       "      <td>-77.5</td>\n",
       "      <td>182.5</td>\n",
       "      <td>13.072312</td>\n",
       "    </tr>\n",
       "    <tr>\n",
       "      <th>4</th>\n",
       "      <td>1982-01-16 12:00:00</td>\n",
       "      <td>-77.5</td>\n",
       "      <td>183.5</td>\n",
       "      <td>12.333377</td>\n",
       "    </tr>\n",
       "  </tbody>\n",
       "</table>\n",
       "</div>"
      ],
      "text/plain": [
       "                 time  ylat   xlon        MLD\n",
       "0 1982-01-16 12:00:00 -77.5  179.5  16.192860\n",
       "1 1982-01-16 12:00:00 -77.5  180.5  15.115437\n",
       "2 1982-01-16 12:00:00 -77.5  181.5  14.071844\n",
       "3 1982-01-16 12:00:00 -77.5  182.5  13.072312\n",
       "4 1982-01-16 12:00:00 -77.5  183.5  12.333377"
      ]
     },
     "execution_count": 41,
     "metadata": {},
     "output_type": "execute_result"
    }
   ],
   "source": [
    "joined = df['pCO2'].join(df[''])"
   ]
  },
  {
   "cell_type": "markdown",
   "metadata": {},
   "source": [
    "## SSS Plots\n",
    "* Pseudo-gaussian distribution, note significant peak in histogram\n",
    "* While it looks like dist is skew left, there is technically almost no skew.. minimal mean/mode difference. The appearance of skew is provided by the abnormal dist exhibited between 25% and 50%. \n",
    "* Almost cauchy-esque in nature.. interesting to think about"
   ]
  },
  {
   "cell_type": "code",
   "execution_count": 21,
   "metadata": {},
   "outputs": [
    {
     "data": {
      "text/plain": [
       "count    1.729047e+07\n",
       "mean     3.400026e+01\n",
       "std      1.766755e+00\n",
       "min      7.137795e+00\n",
       "25%      3.351086e+01\n",
       "50%      3.400534e+01\n",
       "75%      3.481544e+01\n",
       "max      4.334549e+01\n",
       "Name: SSS, dtype: float64"
      ]
     },
     "execution_count": 21,
     "metadata": {},
     "output_type": "execute_result"
    }
   ],
   "source": [
    "df['SSS']['SSS'].describe()"
   ]
  },
  {
   "cell_type": "code",
   "execution_count": 64,
   "metadata": {},
   "outputs": [
    {
     "data": {
      "image/png": "[encoded data removed]",
      "text/plain": [
       "<Figure size 1080x360 with 2 Axes>"
      ]
     },
     "metadata": {
      "needs_background": "light"
     },
     "output_type": "display_data"
    }
   ],
   "source": [
    "fig, axs = plt.subplots(1,2,sharey=True, figsize =[15,5])\n",
    "\n",
    "df['SSS']['SSS'].hist(ax=axs[0],bins=100).set_title('SSS Histogram, 100 Bins')\n",
    "df['SSS']['SSS'].hist(ax=axs[1],bins=100,range=(30,37)).set_title('SSS Histogram, Cropped Range')\n",
    "\n",
    "fig.show()\n",
    "\n",
    "#plt.hist(df['SSS']['SSS'], 100)\n",
    "#plt.title('SSS')\n",
    "#plt.show()"
   ]
  },
  {
   "cell_type": "markdown",
   "metadata": {},
   "source": [
    "## SST Plots\n",
    "* Odd, non-normal distribution. Two-tails.. reminiscent of a superposition of multiple exp distributions (e.g., log-normal/gamma, or generally beta-esque (right tail)) \n",
    "* What is appropriate way to transform this data for improved uncertainty during modeling process?"
   ]
  },
  {
   "cell_type": "code",
   "execution_count": 20,
   "metadata": {},
   "outputs": [
    {
     "data": {
      "text/plain": [
       "count    1.729047e+07\n",
       "mean     1.373404e+01\n",
       "std      1.129259e+01\n",
       "min     -1.936021e+00\n",
       "25%      1.984551e+00\n",
       "50%      1.507535e+01\n",
       "75%      2.485647e+01\n",
       "max      3.407636e+01\n",
       "Name: SST, dtype: float64"
      ]
     },
     "execution_count": 20,
     "metadata": {},
     "output_type": "execute_result"
    }
   ],
   "source": [
    "df['SST']['SST'].describe()"
   ]
  },
  {
   "cell_type": "code",
   "execution_count": 12,
   "metadata": {
    "scrolled": true
   },
   "outputs": [
    {
     "data": {
      "image/png": "[encoded data removed]",
      "text/plain": [
       "<Figure size 1080x360 with 2 Axes>"
      ]
     },
     "metadata": {
      "needs_background": "light"
     },
     "output_type": "display_data"
    }
   ],
   "source": [
    "fig, axs = plt.subplots(1,2,sharey=True, figsize =[15,5])\n",
    "\n",
    "df['SST']['SST'].hist(ax=axs[0],bins=50).set_title('SST Histogram, 50 Bins')\n",
    "df['SST']['SST'].hist(ax=axs[1],bins=50,range = (-1.85,-1.7)).set_title('SST Histogram, Cropped Range to observe cluster @ tail')\n",
    "\n",
    "fig.show()"
   ]
  },
  {
   "cell_type": "markdown",
   "metadata": {},
   "source": [
    "## MLD Plots\n",
    "* Note right skew, perhaps log-normal\n",
    "* Eval power transforms"
   ]
  },
  {
   "cell_type": "code",
   "execution_count": 19,
   "metadata": {},
   "outputs": [
    {
     "data": {
      "text/plain": [
       "count    1.729047e+07\n",
       "mean     6.617619e+01\n",
       "std      5.897839e+01\n",
       "min      7.500032e+00\n",
       "25%      3.453053e+01\n",
       "50%      5.520838e+01\n",
       "75%      8.387817e+01\n",
       "max      1.878794e+03\n",
       "Name: MLD, dtype: float64"
      ]
     },
     "execution_count": 19,
     "metadata": {},
     "output_type": "execute_result"
    }
   ],
   "source": [
    "df['MLD']['MLD'].describe()"
   ]
  },
  {
   "cell_type": "code",
   "execution_count": 15,
   "metadata": {
    "scrolled": true
   },
   "outputs": [
    {
     "data": {
      "image/png": "[encoded data removed]",
      "text/plain": [
       "<Figure size 1080x360 with 2 Axes>"
      ]
     },
     "metadata": {
      "needs_background": "light"
     },
     "output_type": "display_data"
    }
   ],
   "source": [
    "fig, axs = plt.subplots(1,2,sharey=True, figsize =[15,5])\n",
    "\n",
    "df['MLD']['MLD'].hist(ax=axs[0],bins=100, range=(0,500)).set_title('MLD Histogram, 100 Bins')\n",
    "df['MLD']['MLD'].hist(ax=axs[1],bins=100,range=(0,200)).set_title('MLD Histogram, Cropped Range (0,200)')\n",
    "\n",
    "fig.show()"
   ]
  },
  {
   "cell_type": "markdown",
   "metadata": {},
   "source": [
    "## CHL Plots\n",
    "* Data has extremely long tail, but 2nd and 3rd quartiles are bound to ~[0.1,0.2]. \n",
    "* Note two center modes,  combined with an erratic, difficult to describe distribution at left tail\n",
    "* Multi-modal.. Strong evidence of non-gaussian behavior, or at least underlying complexity due to multiple ulderlying exponential dist"
   ]
  },
  {
   "cell_type": "code",
   "execution_count": 17,
   "metadata": {
    "scrolled": true
   },
   "outputs": [
    {
     "data": {
      "text/plain": [
       "count    1.729047e+07\n",
       "mean     3.449500e-01\n",
       "std      8.521562e-01\n",
       "min     -4.092084e-01\n",
       "25%      1.087646e-01\n",
       "50%      1.580932e-01\n",
       "75%      2.111136e-01\n",
       "max      1.467028e+01\n",
       "Name: Chl, dtype: float64"
      ]
     },
     "execution_count": 17,
     "metadata": {},
     "output_type": "execute_result"
    }
   ],
   "source": [
    "df['Chl']['Chl'].describe()"
   ]
  },
  {
   "cell_type": "code",
   "execution_count": 18,
   "metadata": {
    "scrolled": true
   },
   "outputs": [
    {
     "data": {
      "image/png": "[encoded data removed]",
      "text/plain": [
       "<Figure size 1080x360 with 2 Axes>"
      ]
     },
     "metadata": {
      "needs_background": "light"
     },
     "output_type": "display_data"
    }
   ],
   "source": [
    "fig, axs = plt.subplots(1,2,sharey=True, figsize =[15,5])\n",
    "\n",
    "df['Chl']['Chl'].hist(ax=axs[0],bins=100, range=(0,2)).set_title('CHL Histogram')\n",
    "df['Chl']['Chl'].hist(ax=axs[1],bins=100,range=(0,0.5)).set_title('CHL Histogram')\n",
    "\n",
    "fig.show()"
   ]
  },
  {
   "cell_type": "markdown",
   "metadata": {},
   "source": [
    "## XCO2 Plots\n",
    "* Atmospheric co2 measurements, monthly frequency \n",
    "* Odd gap in measurements at value 380\n",
    "* Note that amount of data points is far smaller here, as this is not spatially evaluated. Simply time-dependent atomospheric estimate"
   ]
  },
  {
   "cell_type": "code",
   "execution_count": 52,
   "metadata": {},
   "outputs": [
    {
     "data": {
      "text/plain": [
       "count    421.000000\n",
       "mean     370.185059\n",
       "std       18.717714\n",
       "min      340.848541\n",
       "25%      354.770691\n",
       "50%      368.160828\n",
       "75%      385.430237\n",
       "max      407.208405\n",
       "Name: XCO2, dtype: float64"
      ]
     },
     "execution_count": 52,
     "metadata": {},
     "output_type": "execute_result"
    }
   ],
   "source": [
    "df['XCO2']['XCO2'].describe()"
   ]
  },
  {
   "cell_type": "code",
   "execution_count": 27,
   "metadata": {},
   "outputs": [
    {
     "data": {
      "text/plain": [
       "0    340.848541\n",
       "1    340.962250\n",
       "2    341.075439\n",
       "3    341.193176\n",
       "4    341.310730\n",
       "Name: XCO2, dtype: float32"
      ]
     },
     "execution_count": 27,
     "metadata": {},
     "output_type": "execute_result"
    }
   ],
   "source": [
    "df['XCO2']['XCO2'].head()"
   ]
  },
  {
   "cell_type": "code",
   "execution_count": 58,
   "metadata": {
    "scrolled": true
   },
   "outputs": [
    {
     "data": {
      "image/png": "[encoded data removed]",
      "text/plain": [
       "<Figure size 1080x360 with 2 Axes>"
      ]
     },
     "metadata": {
      "needs_background": "light"
     },
     "output_type": "display_data"
    }
   ],
   "source": [
    "fig, axs = plt.subplots(1,2,sharey=True, figsize =[15,5])\n",
    "\n",
    "df['XCO2']['XCO2'].hist(ax=axs[0],bins=50).set_title('XCO2 Histogram')\n",
    "df['XCO2']['XCO2'].hist(ax=axs[1],bins=50,range=(375,385)).set_title('XCO2 Histogram: Why is there a gap at 380? ')\n",
    "\n",
    "fig.show()"
   ]
  },
  {
   "cell_type": "markdown",
   "metadata": {},
   "source": [
    "## pCO2 Plots\n",
    "* Flux,CO2 data product \n",
    "* Relatively normally distributed.. "
   ]
  },
  {
   "cell_type": "code",
   "execution_count": 59,
   "metadata": {},
   "outputs": [
    {
     "data": {
      "text/plain": [
       "count    1.729047e+07\n",
       "mean     3.473385e+02\n",
       "std      4.455926e+01\n",
       "min      1.082504e+02\n",
       "25%      3.275315e+02\n",
       "50%      3.491305e+02\n",
       "75%      3.714645e+02\n",
       "max      8.311137e+02\n",
       "Name: pCO2, dtype: float64"
      ]
     },
     "execution_count": 59,
     "metadata": {},
     "output_type": "execute_result"
    }
   ],
   "source": [
    "df['pCO2']['pCO2'].describe()"
   ]
  },
  {
   "cell_type": "code",
   "execution_count": 26,
   "metadata": {},
   "outputs": [
    {
     "data": {
      "text/html": [
       "<div>\n",
       "<style scoped>\n",
       "    .dataframe tbody tr th:only-of-type {\n",
       "        vertical-align: middle;\n",
       "    }\n",
       "\n",
       "    .dataframe tbody tr th {\n",
       "        vertical-align: top;\n",
       "    }\n",
       "\n",
       "    .dataframe thead th {\n",
       "        text-align: right;\n",
       "    }\n",
       "</style>\n",
       "<table border=\"1\" class=\"dataframe\">\n",
       "  <thead>\n",
       "    <tr style=\"text-align: right;\">\n",
       "      <th></th>\n",
       "      <th>time</th>\n",
       "      <th>ylat</th>\n",
       "      <th>xlon</th>\n",
       "      <th>pCO2</th>\n",
       "    </tr>\n",
       "  </thead>\n",
       "  <tbody>\n",
       "    <tr>\n",
       "      <th>0</th>\n",
       "      <td>1982-01-16 12:00:00</td>\n",
       "      <td>-77.5</td>\n",
       "      <td>179.5</td>\n",
       "      <td>151.525853</td>\n",
       "    </tr>\n",
       "    <tr>\n",
       "      <th>1</th>\n",
       "      <td>1982-01-16 12:00:00</td>\n",
       "      <td>-77.5</td>\n",
       "      <td>180.5</td>\n",
       "      <td>150.330599</td>\n",
       "    </tr>\n",
       "    <tr>\n",
       "      <th>2</th>\n",
       "      <td>1982-01-16 12:00:00</td>\n",
       "      <td>-77.5</td>\n",
       "      <td>181.5</td>\n",
       "      <td>148.500409</td>\n",
       "    </tr>\n",
       "    <tr>\n",
       "      <th>3</th>\n",
       "      <td>1982-01-16 12:00:00</td>\n",
       "      <td>-77.5</td>\n",
       "      <td>182.5</td>\n",
       "      <td>146.198458</td>\n",
       "    </tr>\n",
       "    <tr>\n",
       "      <th>4</th>\n",
       "      <td>1982-01-16 12:00:00</td>\n",
       "      <td>-77.5</td>\n",
       "      <td>183.5</td>\n",
       "      <td>143.769723</td>\n",
       "    </tr>\n",
       "  </tbody>\n",
       "</table>\n",
       "</div>"
      ],
      "text/plain": [
       "                 time  ylat   xlon        pCO2\n",
       "0 1982-01-16 12:00:00 -77.5  179.5  151.525853\n",
       "1 1982-01-16 12:00:00 -77.5  180.5  150.330599\n",
       "2 1982-01-16 12:00:00 -77.5  181.5  148.500409\n",
       "3 1982-01-16 12:00:00 -77.5  182.5  146.198458\n",
       "4 1982-01-16 12:00:00 -77.5  183.5  143.769723"
      ]
     },
     "execution_count": 26,
     "metadata": {},
     "output_type": "execute_result"
    }
   ],
   "source": [
    "df['pCO2'].head()"
   ]
  },
  {
   "cell_type": "code",
   "execution_count": 61,
   "metadata": {
    "scrolled": false
   },
   "outputs": [
    {
     "data": {
      "image/png": "[encoded data removed]",
      "text/plain": [
       "<Figure size 1080x360 with 2 Axes>"
      ]
     },
     "metadata": {
      "needs_background": "light"
     },
     "output_type": "display_data"
    }
   ],
   "source": [
    "fig, axs = plt.subplots(1,2,sharey=True, figsize =[15,5])\n",
    "\n",
    "df['pCO2']['pCO2'].hist(ax=axs[0],bins=50).set_title('pCO2 Histogram')\n",
    "df['pCO2']['pCO2'].hist(ax=axs[1],bins=50,range=(200,500)).set_title('pCO2', cropped range)\n",
    "\n",
    "fig.show()"
   ]
  },
  {
   "cell_type": "markdown",
   "metadata": {},
   "source": [
    "## Power Transforms\n",
    "##### In the interest of describing the distributions of the driver data more detail, power transformations are performed for MLD and SSS\n",
    "* lambda = -1. is a reciprocal transform.\n",
    "* lambda = -0.5 is a reciprocal square root transform.\n",
    "* lambda = 0.0 is a log transform.\n",
    "* lambda = 0.5 is a square root transform.\n",
    "* lambda = 1.0 is no transform."
   ]
  },
  {
   "cell_type": "code",
   "execution_count": 52,
   "metadata": {},
   "outputs": [],
   "source": [
    "from scipy.stats import boxcox"
   ]
  },
  {
   "cell_type": "code",
   "execution_count": 53,
   "metadata": {},
   "outputs": [
    {
     "data": {
      "text/plain": [
       "dict_keys(['pCO2', 'XCO2', 'SST', 'SSS', 'MLD', 'Chl'])"
      ]
     },
     "execution_count": 53,
     "metadata": {},
     "output_type": "execute_result"
    }
   ],
   "source": [
    "df.keys()"
   ]
  },
  {
   "cell_type": "code",
   "execution_count": 54,
   "metadata": {},
   "outputs": [],
   "source": [
    "#power transformations of MLD\n",
    "len = df['MLD'].shape[0]\n",
    "#p_MLD = np.empty([len,5])\n",
    "p_MLD = {}\n",
    "lambda_list = [-0.5,0,0.5]\n",
    "for i in range(3):\n",
    "    p_MLD['power:'+str(lambda_list[i])] = boxcox(df['MLD']['MLD'],lambda_list[i])"
   ]
  },
  {
   "cell_type": "code",
   "execution_count": 55,
   "metadata": {},
   "outputs": [],
   "source": [
    "#power transformations of SSS\n",
    "len = df['SSS'].shape[0]\n",
    "#p_MLD = np.empty([len,5])\n",
    "p_SSS = {}\n",
    "lambda_list = [-0.5,0,0.5]\n",
    "for i in range(3):\n",
    "    p_SSS['power:'+str(lambda_list[i])] = boxcox(df['SSS']['SSS'],lambda_list[i])"
   ]
  },
  {
   "cell_type": "code",
   "execution_count": 58,
   "metadata": {},
   "outputs": [],
   "source": [
    "df_MLD_powers = pd.DataFrame.from_dict(p_MLD, orient = 'columns')\n",
    "df_SSS_powers = pd.DataFrame.from_dict(p_SSS, orient = 'columns')"
   ]
  },
  {
   "cell_type": "markdown",
   "metadata": {},
   "source": [
    "## MLD transforms\n",
    "\n",
    "* log or square root both reasonable choices.. log(MLD) is historical choice by Landschutzer and others\n",
    "* $-->$ Inclined to try with $\\sqrt{MLD}$, more similar in original shape and skew\n",
    "* Note that in general, we are hesitant to transform the driver data, as we want to minimize bias in our models at all costs. This may result in reduced model performance (aka higher uncertainty) than for a model based on transformed data, but such is life"
   ]
  },
  {
   "cell_type": "code",
   "execution_count": 59,
   "metadata": {},
   "outputs": [
    {
     "name": "stderr",
     "output_type": "stream",
     "text": [
      "/Users/cg/anaconda3/envs/capstone_CO2/lib/python3.7/site-packages/matplotlib/figure.py:459: UserWarning:\n",
      "\n",
      "matplotlib is currently using a non-GUI backend, so cannot show the figure\n",
      "\n"
     ]
    },
    {
     "data": {
      "image/png": "[encoded data removed]",
      "text/plain": [
       "<Figure size 1080x360 with 4 Axes>"
      ]
     },
     "metadata": {
      "needs_background": "light"
     },
     "output_type": "display_data"
    }
   ],
   "source": [
    "fig, axs = plt.subplots(1,4,sharey=True, figsize =[15,5])\n",
    "\n",
    "df['MLD']['MLD'].hist(ax=axs[0],bins=50, range=(0,500)).set_title('MLD Histogram, 50 Bins - No Transform')\n",
    "df_MLD_powers['power:-0.5'].hist(ax=axs[1],bins=50,label='reciprocal square root').set_title('MLD: reciprocal square root')\n",
    "df_MLD_powers['power:0'].hist(ax=axs[2],bins=50,label='log').set_title('log(MLD)')\n",
    "df_MLD_powers['power:0.5'].hist(ax=axs[3],bins=50,range=(0,60),label='square root').set_title('square root (MLD)')\n",
    "  \n",
    "fig.show()"
   ]
  },
  {
   "cell_type": "markdown",
   "metadata": {},
   "source": [
    "#### SST Power Transformations\n",
    "* Frankly, power transformations cannot resolve the weird distribution of SSS. Suspect multiple underlying factors at play here. Consider non-gaussian, possibly non-linear"
   ]
  },
  {
   "cell_type": "code",
   "execution_count": 25,
   "metadata": {},
   "outputs": [
    {
     "data": {
      "text/html": [
       "<div>\n",
       "<style scoped>\n",
       "    .dataframe tbody tr th:only-of-type {\n",
       "        vertical-align: middle;\n",
       "    }\n",
       "\n",
       "    .dataframe tbody tr th {\n",
       "        vertical-align: top;\n",
       "    }\n",
       "\n",
       "    .dataframe thead th {\n",
       "        text-align: right;\n",
       "    }\n",
       "</style>\n",
       "<table border=\"1\" class=\"dataframe\">\n",
       "  <thead>\n",
       "    <tr style=\"text-align: right;\">\n",
       "      <th></th>\n",
       "      <th>power:-0.5</th>\n",
       "      <th>power:0</th>\n",
       "      <th>power:0.5</th>\n",
       "    </tr>\n",
       "  </thead>\n",
       "  <tbody>\n",
       "    <tr>\n",
       "      <th>count</th>\n",
       "      <td>1.729047e+07</td>\n",
       "      <td>1.729047e+07</td>\n",
       "      <td>1.729047e+07</td>\n",
       "    </tr>\n",
       "    <tr>\n",
       "      <th>mean</th>\n",
       "      <td>1.656470e+00</td>\n",
       "      <td>3.524549e+00</td>\n",
       "      <td>9.657170e+00</td>\n",
       "    </tr>\n",
       "    <tr>\n",
       "      <th>std</th>\n",
       "      <td>1.470467e-02</td>\n",
       "      <td>6.701048e-02</td>\n",
       "      <td>3.337345e-01</td>\n",
       "    </tr>\n",
       "    <tr>\n",
       "      <th>min</th>\n",
       "      <td>1.251403e+00</td>\n",
       "      <td>1.965404e+00</td>\n",
       "      <td>3.343331e+00</td>\n",
       "    </tr>\n",
       "    <tr>\n",
       "      <th>25%</th>\n",
       "      <td>1.654509e+00</td>\n",
       "      <td>3.511870e+00</td>\n",
       "      <td>9.577714e+00</td>\n",
       "    </tr>\n",
       "    <tr>\n",
       "      <th>50%</th>\n",
       "      <td>1.657030e+00</td>\n",
       "      <td>3.526518e+00</td>\n",
       "      <td>9.662820e+00</td>\n",
       "    </tr>\n",
       "    <tr>\n",
       "      <th>75%</th>\n",
       "      <td>1.661043e+00</td>\n",
       "      <td>3.550061e+00</td>\n",
       "      <td>9.800922e+00</td>\n",
       "    </tr>\n",
       "    <tr>\n",
       "      <th>max</th>\n",
       "      <td>1.696221e+00</td>\n",
       "      <td>3.769203e+00</td>\n",
       "      <td>1.116746e+01</td>\n",
       "    </tr>\n",
       "  </tbody>\n",
       "</table>\n",
       "</div>"
      ],
      "text/plain": [
       "         power:-0.5       power:0     power:0.5\n",
       "count  1.729047e+07  1.729047e+07  1.729047e+07\n",
       "mean   1.656470e+00  3.524549e+00  9.657170e+00\n",
       "std    1.470467e-02  6.701048e-02  3.337345e-01\n",
       "min    1.251403e+00  1.965404e+00  3.343331e+00\n",
       "25%    1.654509e+00  3.511870e+00  9.577714e+00\n",
       "50%    1.657030e+00  3.526518e+00  9.662820e+00\n",
       "75%    1.661043e+00  3.550061e+00  9.800922e+00\n",
       "max    1.696221e+00  3.769203e+00  1.116746e+01"
      ]
     },
     "execution_count": 25,
     "metadata": {},
     "output_type": "execute_result"
    }
   ],
   "source": [
    "df_SSS_powers.describe()"
   ]
  },
  {
   "cell_type": "code",
   "execution_count": 60,
   "metadata": {},
   "outputs": [
    {
     "data": {
      "image/png": "[encoded data removed]",
      "text/plain": [
       "<Figure size 1080x360 with 4 Axes>"
      ]
     },
     "metadata": {
      "needs_background": "light"
     },
     "output_type": "display_data"
    }
   ],
   "source": [
    "fig, axs = plt.subplots(1,4,sharey=True, figsize =[15,5])\n",
    "\n",
    "df['SSS']['SSS'].hist(ax=axs[0],bins=100).set_title('SSS Histogram, 100 Bins - No Transform')\n",
    "df_SSS_powers['power:-0.5'].hist(ax=axs[1],bins=100,range=(1.63,1.68),label='reciprocal square root').set_title('SSS: reciprocal square root')\n",
    "df_SSS_powers['power:0'].hist(ax=axs[2],bins=100,range=(3.3,3.65),label='log').set_title('log(SSS)')\n",
    "df_SSS_powers['power:0.5'].hist(ax=axs[3],bins=100,range=(9,10.5),label='square root').set_title('square root (SSS)')\n",
    "  \n",
    "fig.show()"
   ]
  },
  {
   "cell_type": "code",
   "execution_count": 38,
   "metadata": {},
   "outputs": [],
   "source": [
    "joined = df['pCO2'].join(df['MLD']['MLD'])"
   ]
  },
  {
   "cell_type": "code",
   "execution_count": 40,
   "metadata": {},
   "outputs": [],
   "source": [
    "#joined = joined.join(df['SSS']['SSS'])\n",
    "joined = joined.join(df['SST']['SST']).join(df['Chl']['Chl'])"
   ]
  },
  {
   "cell_type": "code",
   "execution_count": 43,
   "metadata": {},
   "outputs": [
    {
     "data": {
      "text/plain": [
       "0    151.525853\n",
       "1    150.330599\n",
       "2    148.500409\n",
       "3    146.198458\n",
       "4    143.769723\n",
       "Name: pCO2, dtype: float64"
      ]
     },
     "execution_count": 43,
     "metadata": {},
     "output_type": "execute_result"
    }
   ],
   "source": [
    "joined['pCO2'].head()"
   ]
  },
  {
   "cell_type": "code",
   "execution_count": null,
   "metadata": {},
   "outputs": [],
   "source": [
    "In [1254]: fig, axes = plt.subplots(nrows=2, ncols=2, figsize=(8, 5))\n",
    "\n",
    "In [1255]: df['A'].plot(ax=axes[0,0]); axes[0,0].set_title('A')\n",
    "Out[1255]: <matplotlib.text.Text at 0x1227a64d0>\n",
    "\n",
    "In [1256]: df['B'].plot(ax=axes[0,1]); axes[0,1].set_title('B')\n",
    "Out[1256]: <matplotlib.text.Text at 0x12279a3d0>\n",
    "\n",
    "In [1257]: df['C'].plot(ax=axes[1,0]); axes[1,0].set_title('C')\n",
    "Out[1257]: <matplotlib.text.Text at 0x120ac63d0>\n",
    "\n",
    "In [1258]: df['D'].plot(ax=axes[1,1]); axes[1,1].set_title('D')\n",
    "Out[1258]: <matplotlib.text.Text at 0x1227e19d0>"
   ]
  },
  {
   "cell_type": "markdown",
   "metadata": {},
   "source": [
    "## Scatter plots -- MLD, SSS, SST, Chl vs. pCO2\n",
    "\n",
    "* Note that the fully sampled scatterplots do highlight slight irregularities in the data. \n",
    "* -     E.g., SST cluster at SST ~15-17 and pCO2 ~500-700 and a fair amount of SSS data <15 that is not cleary represented in the subsampled data below. \n",
    "* -     An image has been saved in the repo of the fully sampled data. "
   ]
  },
  {
   "cell_type": "code",
   "execution_count": 46,
   "metadata": {},
   "outputs": [
    {
     "data": {
      "image/png": "[encoded data removed]",
      "text/plain": [
       "<Figure size 1080x360 with 4 Axes>"
      ]
     },
     "metadata": {
      "needs_background": "light"
     },
     "output_type": "display_data"
    }
   ],
   "source": [
    "#I don't recommend running this for all data points, it took a long time. \n",
    "#See below for subsampled data\n",
    "\n",
    "#fig, axs = plt.subplots(2,2,sharey=True, figsize =[15,5])\n",
    "\n",
    "#joined.plot(kind='scatter',ax=axs[0,0],x='SSS',y='pCO2',label='SSS v pCO2')\n",
    "#joined.plot(kind='scatter',ax=axs[1,0],x='SST',y='pCO2',label='SST v pCO2')\n",
    "#joined.plot(kind='scatter',ax=axs[0,1],x='MLD',y='pCO2',label='MLD v pCO2')\n",
    "#joined.plot(kind='scatter',ax=axs[1,1],x='Chl',y='pCO2',label='Chl v pCO2')\n",
    "\n",
    "#df_SSS_powers['power:-0.5'].hist(ax=axs[0],bins=100,range=(1.63,1.68),label='reciprocal square root').set_title('SSS: reciprocal square root')\n",
    "#df_SSS_powers['power:0'].hist(ax=axs[1],bins=100,range=(3.3,3.65),label='log').set_title('log(SSS)')\n",
    "#df_SSS_powers['power:0.5'].hist(ax=axs[2],bins=100,range=(9,10.5),label='square root').set_title('square root (SSS)')\n",
    "  \n",
    "#fig.show()"
   ]
  },
  {
   "cell_type": "markdown",
   "metadata": {},
   "source": [
    "#### Interesting note.. \n",
    "* comparing SSS histogram to scatter, see that the vast majority of samples are between 30 and ~37m \n",
    "* The scatter tapers into a distinct regime at ~37, and with minimal data density on the left below 30. See below: samples with SSS below 30 make up ~1.5% of data, <25 makes up <0.5% of data "
   ]
  },
  {
   "cell_type": "code",
   "execution_count": 80,
   "metadata": {},
   "outputs": [
    {
     "name": "stdout",
     "output_type": "stream",
     "text": [
      "count < 25:81580 sample size:17290470 <25 fraction:0.0047182060406686455\n",
      "count < 30:267261 sample size:17290470 <30 fraction:0.015457127539043184\n"
     ]
    }
   ],
   "source": [
    "length = joined['SSS'].count()\n",
    "SSS_sub_25 = joined['SSS'][joined['SSS'] < 25].count()\n",
    "SSS_sub_30 = joined['SSS'][joined['SSS'] < 30].count()\n",
    "print ('count < 25:'+str(SSS_sub_25), 'sample size:'+str(length), '<25 fraction:'+str(SSS_sub_25/length))\n",
    "print ('count < 30:'+str(SSS_sub_30), 'sample size:'+str(length), '<30 fraction:'+str(SSS_sub_30/length))"
   ]
  },
  {
   "cell_type": "markdown",
   "metadata": {},
   "source": [
    "## Scatter plots -- 1% sample of MLD, SSS, SST, Chl vs. pCO2\n",
    "\n",
    "* Plots are difficult to interpret holistically: SSS, MLD, and SST have complex behavior and erratic ranges of pCO2 values, implying underlying complexity and interaction with other factors\n",
    "* Chl is interesting, in that there's cleary a negative correlation with increased Chlorophyl.. perhaps because higher amount of Chl implies that the biological cycle plays a bigger role in those regions in time and space. \n",
    "* $-->$ Remove outlier data in SSS"
   ]
  },
  {
   "cell_type": "code",
   "execution_count": 81,
   "metadata": {},
   "outputs": [
    {
     "data": {
      "image/png": "[encoded data removed]",
      "text/plain": [
       "<Figure size 1080x360 with 4 Axes>"
      ]
     },
     "metadata": {
      "needs_background": "light"
     },
     "output_type": "display_data"
    }
   ],
   "source": [
    "fig, axs = plt.subplots(2,2,sharey=True, figsize =[15,5])\n",
    "\n",
    "joined.sample(frac=.01).plot(kind='scatter',ax=axs[0,0],x='SSS',y='pCO2',label='SSS v pCO2')\n",
    "joined.sample(frac=.01).plot(kind='scatter',ax=axs[1,0],x='SST',y='pCO2',label='SST v pCO2')\n",
    "joined.sample(frac=.01).plot(kind='scatter',ax=axs[0,1],x='MLD',y='pCO2',label='MLD v pCO2')\n",
    "joined.sample(frac=.01).plot(kind='scatter',ax=axs[1,1],x='Chl',y='pCO2',label='Chl v pCO2')\n",
    "\n",
    "#df_SSS_powers['power:-0.5'].hist(ax=axs[0],bins=100,range=(1.63,1.68),label='reciprocal square root').set_title('SSS: reciprocal square root')\n",
    "#df_SSS_powers['power:0'].hist(ax=axs[1],bins=100,range=(3.3,3.65),label='log').set_title('log(SSS)')\n",
    "#df_SSS_powers['power:0.5'].hist(ax=axs[2],bins=100,range=(9,10.5),label='square root').set_title('square root (SSS)')\n",
    "  \n",
    "fig.show()"
   ]
  },
  {
   "cell_type": "code",
   "execution_count": null,
   "metadata": {},
   "outputs": [],
   "source": []
  }
 ],
 "metadata": {
  "kernelspec": {
   "display_name": "Python 3",
   "language": "python",
   "name": "python3"
  },
  "language_info": {
   "codemirror_mode": {
    "name": "ipython",
    "version": 3
   },
   "file_extension": ".py",
   "mimetype": "text/x-python",
   "name": "python",
   "nbconvert_exporter": "python",
   "pygments_lexer": "ipython3",
   "version": "3.6.7"
  }
 },
 "nbformat": 4,
 "nbformat_minor": 2
}
