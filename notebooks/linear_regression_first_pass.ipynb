{
 "cells": [
  {
   "cell_type": "code",
   "execution_count": 21,
   "metadata": {},
   "outputs": [],
   "source": [
    "import os\n",
    "import numpy as np\n",
    "import xarray as xr\n",
    "import pandas as pd\n",
    "import seaborn as sns\n",
    "import matplotlib.pyplot as plt\n",
    "\n",
    "from sklearn.metrics import mean_squared_error\n",
    "from sklearn.preprocessing import StandardScaler\n",
    "from sklearn.linear_model import LinearRegression\n",
    "\n",
    "from sklearn.model_selection import train_test_split\n",
    "\n",
    "pd.set_option(\"display.max_columns\", 100)"
   ]
  },
  {
   "cell_type": "markdown",
   "metadata": {},
   "source": [
    "# Load datasets"
   ]
  },
  {
   "cell_type": "code",
   "execution_count": 2,
   "metadata": {},
   "outputs": [],
   "source": [
    "DATA_DIR = '../data/raw'\n",
    "dataset_names = {'pCO2': 'pCO2_2D_mon_CESM001_1x1_198201-201701.nc',\n",
    "                 'XCO2': 'XCO2_1D_mon_CESM001_native_198201-201701.nc',\n",
    "                 'SST': 'SST_2D_mon_CESM001_1x1_198201-201701.nc',\n",
    "                 'SSS': 'SSS_2D_mon_CESM001_1x1_198201-201701.nc',\n",
    "                 'MLD': 'MLD_2D_mon_CESM001_1x1_198201-201701.nc',\n",
    "                 'Chl': 'Chl_2D_mon_CESM001_1x1_198201-201701.nc'}\n",
    "ds = {}\n",
    "for dataset in dataset_names.keys():\n",
    "    filename = os.path.join(DATA_DIR, dataset_names[dataset])\n",
    "    ds[dataset] = xr.open_dataset(filename)"
   ]
  },
  {
   "cell_type": "markdown",
   "metadata": {},
   "source": [
    "# Merge datasets by coordinates (time, longitude, latitude)"
   ]
  },
  {
   "cell_type": "code",
   "execution_count": 3,
   "metadata": {},
   "outputs": [],
   "source": [
    "merged_dataset = xr.merge([ds[name][name] for name in ds.keys()])\n",
    "\n",
    "# include a variable which tells if a grid is in socat location\n",
    "# so that we can split a test set during the model training\n",
    "merged_dataset = xr.merge([merged_dataset, ds['pCO2']['socat_mask']])"
   ]
  },
  {
   "cell_type": "code",
   "execution_count": 4,
   "metadata": {},
   "outputs": [
    {
     "data": {
      "text/plain": [
       "<xarray.Dataset>\n",
       "Dimensions:     (time: 421, xlon: 360, ylat: 180)\n",
       "Coordinates:\n",
       "  * xlon        (xlon) float64 0.5 1.5 2.5 3.5 4.5 ... 356.5 357.5 358.5 359.5\n",
       "  * ylat        (ylat) float64 -89.5 -88.5 -87.5 -86.5 ... 86.5 87.5 88.5 89.5\n",
       "  * time        (time) datetime64[ns] 1982-01-16T12:00:00 ... 2017-01-16T12:00:00\n",
       "    TLONG       float64 ...\n",
       "    TLAT        float64 ...\n",
       "Data variables:\n",
       "    pCO2        (time, ylat, xlon) float64 ...\n",
       "    XCO2        (time) float32 ...\n",
       "    SST         (time, ylat, xlon) float32 ...\n",
       "    SSS         (time, ylat, xlon) float32 ...\n",
       "    MLD         (time, ylat, xlon) float32 ...\n",
       "    Chl         (time, ylat, xlon) float32 ...\n",
       "    socat_mask  (time, ylat, xlon) float64 ..."
      ]
     },
     "execution_count": 4,
     "metadata": {},
     "output_type": "execute_result"
    }
   ],
   "source": [
    "merged_dataset"
   ]
  },
  {
   "cell_type": "markdown",
   "metadata": {},
   "source": [
    "# Convert to dataframe"
   ]
  },
  {
   "cell_type": "code",
   "execution_count": 5,
   "metadata": {
    "scrolled": false
   },
   "outputs": [],
   "source": [
    "df = merged_dataset.to_dataframe().reset_index()"
   ]
  },
  {
   "cell_type": "code",
   "execution_count": 6,
   "metadata": {},
   "outputs": [
    {
     "name": "stdout",
     "output_type": "stream",
     "text": [
      "(27280800, 12)\n"
     ]
    },
    {
     "data": {
      "text/html": [
       "<div>\n",
       "<style scoped>\n",
       "    .dataframe tbody tr th:only-of-type {\n",
       "        vertical-align: middle;\n",
       "    }\n",
       "\n",
       "    .dataframe tbody tr th {\n",
       "        vertical-align: top;\n",
       "    }\n",
       "\n",
       "    .dataframe thead th {\n",
       "        text-align: right;\n",
       "    }\n",
       "</style>\n",
       "<table border=\"1\" class=\"dataframe\">\n",
       "  <thead>\n",
       "    <tr style=\"text-align: right;\">\n",
       "      <th></th>\n",
       "      <th>time</th>\n",
       "      <th>xlon</th>\n",
       "      <th>ylat</th>\n",
       "      <th>pCO2</th>\n",
       "      <th>TLONG</th>\n",
       "      <th>TLAT</th>\n",
       "      <th>XCO2</th>\n",
       "      <th>SST</th>\n",
       "      <th>SSS</th>\n",
       "      <th>MLD</th>\n",
       "      <th>Chl</th>\n",
       "      <th>socat_mask</th>\n",
       "    </tr>\n",
       "  </thead>\n",
       "  <tbody>\n",
       "    <tr>\n",
       "      <th>200</th>\n",
       "      <td>1982-01-16 12:00:00</td>\n",
       "      <td>1.5</td>\n",
       "      <td>-69.5</td>\n",
       "      <td>256.084833</td>\n",
       "      <td>73.062502</td>\n",
       "      <td>-26.035913</td>\n",
       "      <td>340.848541</td>\n",
       "      <td>-1.538383</td>\n",
       "      <td>33.624409</td>\n",
       "      <td>12.393412</td>\n",
       "      <td>1.066948</td>\n",
       "      <td>0.0</td>\n",
       "    </tr>\n",
       "    <tr>\n",
       "      <th>201</th>\n",
       "      <td>1982-01-16 12:00:00</td>\n",
       "      <td>1.5</td>\n",
       "      <td>-68.5</td>\n",
       "      <td>261.690707</td>\n",
       "      <td>73.062502</td>\n",
       "      <td>-26.035913</td>\n",
       "      <td>340.848541</td>\n",
       "      <td>-1.621055</td>\n",
       "      <td>33.651684</td>\n",
       "      <td>19.549749</td>\n",
       "      <td>0.839482</td>\n",
       "      <td>0.0</td>\n",
       "    </tr>\n",
       "    <tr>\n",
       "      <th>202</th>\n",
       "      <td>1982-01-16 12:00:00</td>\n",
       "      <td>1.5</td>\n",
       "      <td>-67.5</td>\n",
       "      <td>261.935860</td>\n",
       "      <td>73.062502</td>\n",
       "      <td>-26.035913</td>\n",
       "      <td>340.848541</td>\n",
       "      <td>-1.598430</td>\n",
       "      <td>33.552433</td>\n",
       "      <td>18.862717</td>\n",
       "      <td>0.584478</td>\n",
       "      <td>0.0</td>\n",
       "    </tr>\n",
       "    <tr>\n",
       "      <th>203</th>\n",
       "      <td>1982-01-16 12:00:00</td>\n",
       "      <td>1.5</td>\n",
       "      <td>-66.5</td>\n",
       "      <td>263.325143</td>\n",
       "      <td>73.062502</td>\n",
       "      <td>-26.035913</td>\n",
       "      <td>340.848541</td>\n",
       "      <td>-1.462761</td>\n",
       "      <td>33.398407</td>\n",
       "      <td>19.353331</td>\n",
       "      <td>0.383653</td>\n",
       "      <td>0.0</td>\n",
       "    </tr>\n",
       "    <tr>\n",
       "      <th>204</th>\n",
       "      <td>1982-01-16 12:00:00</td>\n",
       "      <td>1.5</td>\n",
       "      <td>-65.5</td>\n",
       "      <td>267.600604</td>\n",
       "      <td>73.062502</td>\n",
       "      <td>-26.035913</td>\n",
       "      <td>340.848541</td>\n",
       "      <td>-1.137036</td>\n",
       "      <td>33.302494</td>\n",
       "      <td>20.290634</td>\n",
       "      <td>0.342793</td>\n",
       "      <td>0.0</td>\n",
       "    </tr>\n",
       "  </tbody>\n",
       "</table>\n",
       "</div>"
      ],
      "text/plain": [
       "                   time  xlon  ylat        pCO2      TLONG       TLAT  \\\n",
       "200 1982-01-16 12:00:00   1.5 -69.5  256.084833  73.062502 -26.035913   \n",
       "201 1982-01-16 12:00:00   1.5 -68.5  261.690707  73.062502 -26.035913   \n",
       "202 1982-01-16 12:00:00   1.5 -67.5  261.935860  73.062502 -26.035913   \n",
       "203 1982-01-16 12:00:00   1.5 -66.5  263.325143  73.062502 -26.035913   \n",
       "204 1982-01-16 12:00:00   1.5 -65.5  267.600604  73.062502 -26.035913   \n",
       "\n",
       "           XCO2       SST        SSS        MLD       Chl  socat_mask  \n",
       "200  340.848541 -1.538383  33.624409  12.393412  1.066948         0.0  \n",
       "201  340.848541 -1.621055  33.651684  19.549749  0.839482         0.0  \n",
       "202  340.848541 -1.598430  33.552433  18.862717  0.584478         0.0  \n",
       "203  340.848541 -1.462761  33.398407  19.353331  0.383653         0.0  \n",
       "204  340.848541 -1.137036  33.302494  20.290634  0.342793         0.0  "
      ]
     },
     "execution_count": 6,
     "metadata": {},
     "output_type": "execute_result"
    }
   ],
   "source": [
    "print(df.shape)\n",
    "df[200:205]"
   ]
  },
  {
   "cell_type": "markdown",
   "metadata": {},
   "source": [
    "# Drop useless columns"
   ]
  },
  {
   "cell_type": "code",
   "execution_count": 7,
   "metadata": {},
   "outputs": [
    {
     "data": {
      "text/html": [
       "<div>\n",
       "<style scoped>\n",
       "    .dataframe tbody tr th:only-of-type {\n",
       "        vertical-align: middle;\n",
       "    }\n",
       "\n",
       "    .dataframe tbody tr th {\n",
       "        vertical-align: top;\n",
       "    }\n",
       "\n",
       "    .dataframe thead th {\n",
       "        text-align: right;\n",
       "    }\n",
       "</style>\n",
       "<table border=\"1\" class=\"dataframe\">\n",
       "  <thead>\n",
       "    <tr style=\"text-align: right;\">\n",
       "      <th></th>\n",
       "      <th>time</th>\n",
       "      <th>xlon</th>\n",
       "      <th>ylat</th>\n",
       "      <th>pCO2</th>\n",
       "      <th>XCO2</th>\n",
       "      <th>SST</th>\n",
       "      <th>SSS</th>\n",
       "      <th>MLD</th>\n",
       "      <th>Chl</th>\n",
       "      <th>socat_mask</th>\n",
       "    </tr>\n",
       "  </thead>\n",
       "  <tbody>\n",
       "    <tr>\n",
       "      <th>200</th>\n",
       "      <td>1982-01-16 12:00:00</td>\n",
       "      <td>1.5</td>\n",
       "      <td>-69.5</td>\n",
       "      <td>256.084833</td>\n",
       "      <td>340.848541</td>\n",
       "      <td>-1.538383</td>\n",
       "      <td>33.624409</td>\n",
       "      <td>12.393412</td>\n",
       "      <td>1.066948</td>\n",
       "      <td>0.0</td>\n",
       "    </tr>\n",
       "    <tr>\n",
       "      <th>201</th>\n",
       "      <td>1982-01-16 12:00:00</td>\n",
       "      <td>1.5</td>\n",
       "      <td>-68.5</td>\n",
       "      <td>261.690707</td>\n",
       "      <td>340.848541</td>\n",
       "      <td>-1.621055</td>\n",
       "      <td>33.651684</td>\n",
       "      <td>19.549749</td>\n",
       "      <td>0.839482</td>\n",
       "      <td>0.0</td>\n",
       "    </tr>\n",
       "    <tr>\n",
       "      <th>202</th>\n",
       "      <td>1982-01-16 12:00:00</td>\n",
       "      <td>1.5</td>\n",
       "      <td>-67.5</td>\n",
       "      <td>261.935860</td>\n",
       "      <td>340.848541</td>\n",
       "      <td>-1.598430</td>\n",
       "      <td>33.552433</td>\n",
       "      <td>18.862717</td>\n",
       "      <td>0.584478</td>\n",
       "      <td>0.0</td>\n",
       "    </tr>\n",
       "    <tr>\n",
       "      <th>203</th>\n",
       "      <td>1982-01-16 12:00:00</td>\n",
       "      <td>1.5</td>\n",
       "      <td>-66.5</td>\n",
       "      <td>263.325143</td>\n",
       "      <td>340.848541</td>\n",
       "      <td>-1.462761</td>\n",
       "      <td>33.398407</td>\n",
       "      <td>19.353331</td>\n",
       "      <td>0.383653</td>\n",
       "      <td>0.0</td>\n",
       "    </tr>\n",
       "    <tr>\n",
       "      <th>204</th>\n",
       "      <td>1982-01-16 12:00:00</td>\n",
       "      <td>1.5</td>\n",
       "      <td>-65.5</td>\n",
       "      <td>267.600604</td>\n",
       "      <td>340.848541</td>\n",
       "      <td>-1.137036</td>\n",
       "      <td>33.302494</td>\n",
       "      <td>20.290634</td>\n",
       "      <td>0.342793</td>\n",
       "      <td>0.0</td>\n",
       "    </tr>\n",
       "  </tbody>\n",
       "</table>\n",
       "</div>"
      ],
      "text/plain": [
       "                   time  xlon  ylat        pCO2        XCO2       SST  \\\n",
       "200 1982-01-16 12:00:00   1.5 -69.5  256.084833  340.848541 -1.538383   \n",
       "201 1982-01-16 12:00:00   1.5 -68.5  261.690707  340.848541 -1.621055   \n",
       "202 1982-01-16 12:00:00   1.5 -67.5  261.935860  340.848541 -1.598430   \n",
       "203 1982-01-16 12:00:00   1.5 -66.5  263.325143  340.848541 -1.462761   \n",
       "204 1982-01-16 12:00:00   1.5 -65.5  267.600604  340.848541 -1.137036   \n",
       "\n",
       "           SSS        MLD       Chl  socat_mask  \n",
       "200  33.624409  12.393412  1.066948         0.0  \n",
       "201  33.651684  19.549749  0.839482         0.0  \n",
       "202  33.552433  18.862717  0.584478         0.0  \n",
       "203  33.398407  19.353331  0.383653         0.0  \n",
       "204  33.302494  20.290634  0.342793         0.0  "
      ]
     },
     "execution_count": 7,
     "metadata": {},
     "output_type": "execute_result"
    }
   ],
   "source": [
    "df.drop(columns=['TLONG', 'TLAT'], inplace=True)\n",
    "df[200:205]"
   ]
  },
  {
   "cell_type": "markdown",
   "metadata": {},
   "source": [
    "# Drop rows with null value in any columns of `pCO2`, `XCO2`, `SST`, `SSS`, `MLD`, or `Chl`"
   ]
  },
  {
   "cell_type": "code",
   "execution_count": 8,
   "metadata": {},
   "outputs": [
    {
     "data": {
      "text/plain": [
       "(17290470, 10)"
      ]
     },
     "execution_count": 8,
     "metadata": {},
     "output_type": "execute_result"
    }
   ],
   "source": [
    "df.dropna(subset=['pCO2', 'XCO2', 'SST', 'SSS', 'MLD', 'Chl'], inplace=True)\n",
    "df.shape"
   ]
  },
  {
   "cell_type": "markdown",
   "metadata": {},
   "source": [
    "# Filter out points that might be coastal points"
   ]
  },
  {
   "cell_type": "markdown",
   "metadata": {},
   "source": [
    "Since we are interested in the open ocean regions.  \n",
    "** Note: Shouldn't take these to be hard and fast constrains. But let's try first.**"
   ]
  },
  {
   "cell_type": "code",
   "execution_count": 9,
   "metadata": {},
   "outputs": [],
   "source": [
    "feature_range = {\n",
    "    'pCO2': (200, 450),\n",
    "    'SST': (-2, 30),\n",
    "    'SSS': (34, 37),\n",
    "    'MLD': (0, 2000),\n",
    "    'Chl': (0, 2)\n",
    "}"
   ]
  },
  {
   "cell_type": "code",
   "execution_count": 10,
   "metadata": {},
   "outputs": [
    {
     "data": {
      "text/plain": [
       "(8163670, 10)"
      ]
     },
     "execution_count": 10,
     "metadata": {},
     "output_type": "execute_result"
    }
   ],
   "source": [
    "for feature in feature_range:\n",
    "    min_val = feature_range[feature][0]\n",
    "    max_val = feature_range[feature][1]\n",
    "    df = df[(df[feature] > min_val) & (df[feature] < max_val)]\n",
    "df.shape"
   ]
  },
  {
   "cell_type": "markdown",
   "metadata": {},
   "source": [
    "# Data visualization. Starting from this point, we will only focus on SOCAT locations."
   ]
  },
  {
   "cell_type": "code",
   "execution_count": 11,
   "metadata": {},
   "outputs": [
    {
     "data": {
      "text/plain": [
       "(143943, 10)"
      ]
     },
     "execution_count": 11,
     "metadata": {},
     "output_type": "execute_result"
    }
   ],
   "source": [
    "df[df.socat_mask == 1].shape"
   ]
  },
  {
   "cell_type": "code",
   "execution_count": 12,
   "metadata": {},
   "outputs": [],
   "source": [
    "sns.set(style=\"white\")"
   ]
  },
  {
   "cell_type": "code",
   "execution_count": 13,
   "metadata": {},
   "outputs": [],
   "source": [
    "features = ['XCO2', 'SST', 'SSS', 'MLD', 'Chl', 'pCO2']\n",
    "corr = df[df.socat_mask == 1][features].corr()"
   ]
  },
  {
   "cell_type": "code",
   "execution_count": 14,
   "metadata": {},
   "outputs": [
    {
     "data": {
      "image/png": "[encoded data removed]",
      "text/plain": [
       "<Figure size 720x576 with 2 Axes>"
      ]
     },
     "metadata": {},
     "output_type": "display_data"
    }
   ],
   "source": [
    "# Generate a mask for the upper triangle\n",
    "mask = np.zeros_like(corr, dtype=np.bool)\n",
    "mask[np.triu_indices_from(mask)] = True\n",
    "\n",
    "# Set up the matplotlib figure\n",
    "f, ax = plt.subplots(figsize=(10, 8))\n",
    "\n",
    "# Generate a custom diverging colormap\n",
    "cmap = sns.diverging_palette(220, 10, as_cmap=True)\n",
    "\n",
    "# Draw the heatmap with the mask and correct aspect ratio\n",
    "sns_plot = sns.heatmap(corr, mask=mask, cmap=cmap, vmax=.3, center=0,\n",
    "            square=True, linewidths=.5, cbar_kws={\"shrink\": .5})\n",
    "fig = sns_plot.get_figure()\n",
    "fig.savefig(\"corr_matrix.png\", dpi=300)"
   ]
  },
  {
   "cell_type": "code",
   "execution_count": null,
   "metadata": {},
   "outputs": [],
   "source": [
    "sns.pairplot(df[df.socat_mask == 1][features])"
   ]
  },
  {
   "cell_type": "markdown",
   "metadata": {},
   "source": [
    "# Define train and test dataset"
   ]
  },
  {
   "cell_type": "code",
   "execution_count": 15,
   "metadata": {},
   "outputs": [
    {
     "name": "stdout",
     "output_type": "stream",
     "text": [
      "(143943, 5) (143943,)\n",
      "(8019727, 5) (8019727,)\n"
     ]
    }
   ],
   "source": [
    "df['log_MLD'] = np.log(df['MLD'])\n",
    "df['log_Chl'] = np.log(df['Chl'])\n",
    "features = ['XCO2', 'SST', 'SSS', 'log_MLD', 'log_Chl']\n",
    "X_train = df[df.socat_mask == 1][features]\n",
    "y_train = df[df.socat_mask == 1]['pCO2']\n",
    "X_test = df[df.socat_mask == 0][features]\n",
    "y_test = df[df.socat_mask == 0]['pCO2']\n",
    "\n",
    "print(X_train.shape, y_train.shape)\n",
    "print(X_test.shape, y_test.shape)"
   ]
  },
  {
   "cell_type": "code",
   "execution_count": 16,
   "metadata": {},
   "outputs": [],
   "source": [
    "scaler = StandardScaler()\n",
    "X_train_scaled = scaler.fit_transform(X_train)\n",
    "X_test_scaled = scaler.transform(X_test)"
   ]
  },
  {
   "cell_type": "code",
   "execution_count": 17,
   "metadata": {},
   "outputs": [],
   "source": [
    "reg = LinearRegression().fit(X_train_scaled, y_train)"
   ]
  },
  {
   "cell_type": "code",
   "execution_count": 18,
   "metadata": {},
   "outputs": [
    {
     "data": {
      "text/plain": [
       "0.33027836664773447"
      ]
     },
     "execution_count": 18,
     "metadata": {},
     "output_type": "execute_result"
    }
   ],
   "source": [
    "reg.score(X_test_scaled, y_test)"
   ]
  },
  {
   "cell_type": "code",
   "execution_count": 19,
   "metadata": {},
   "outputs": [],
   "source": [
    "y_pred = reg.predict(X_test_scaled)"
   ]
  },
  {
   "cell_type": "code",
   "execution_count": 22,
   "metadata": {},
   "outputs": [
    {
     "data": {
      "text/plain": [
       "26.0590698524916"
      ]
     },
     "execution_count": 22,
     "metadata": {},
     "output_type": "execute_result"
    }
   ],
   "source": [
    "mean_squared_error(y_test, y_pred) ** .5"
   ]
  },
  {
   "cell_type": "markdown",
   "metadata": {},
   "source": [
    "# Define train and test dataset only using SST and SSS"
   ]
  },
  {
   "cell_type": "code",
   "execution_count": 23,
   "metadata": {},
   "outputs": [
    {
     "name": "stdout",
     "output_type": "stream",
     "text": [
      "(143943, 2) (143943,)\n",
      "(8019727, 2) (8019727,)\n"
     ]
    }
   ],
   "source": [
    "features = ['SST', 'SSS']\n",
    "X_train = df[df.socat_mask == 1][features]\n",
    "y_train = df[df.socat_mask == 1]['pCO2']\n",
    "X_test = df[df.socat_mask == 0][features]\n",
    "y_test = df[df.socat_mask == 0]['pCO2']\n",
    "\n",
    "print(X_train.shape, y_train.shape)\n",
    "print(X_test.shape, y_test.shape)"
   ]
  },
  {
   "cell_type": "markdown",
   "metadata": {},
   "source": [
    "# Train and evaluate the model"
   ]
  },
  {
   "cell_type": "code",
   "execution_count": 24,
   "metadata": {},
   "outputs": [],
   "source": [
    "scaler = StandardScaler()\n",
    "X_train_scaled = scaler.fit_transform(X_train)\n",
    "X_test_scaled = scaler.transform(X_test)"
   ]
  },
  {
   "cell_type": "code",
   "execution_count": 25,
   "metadata": {},
   "outputs": [],
   "source": [
    "reg = LinearRegression().fit(X_train_scaled, y_train)"
   ]
  },
  {
   "cell_type": "code",
   "execution_count": 26,
   "metadata": {},
   "outputs": [
    {
     "data": {
      "text/plain": [
       "0.07480036416512037"
      ]
     },
     "execution_count": 26,
     "metadata": {},
     "output_type": "execute_result"
    }
   ],
   "source": [
    "reg.score(X_test_scaled, y_test)"
   ]
  },
  {
   "cell_type": "markdown",
   "metadata": {},
   "source": [
    "# Use only SOCAT locations to train and test data"
   ]
  },
  {
   "cell_type": "code",
   "execution_count": 27,
   "metadata": {},
   "outputs": [],
   "source": [
    "features = ['XCO2', 'SST', 'SSS', 'log_MLD', 'log_Chl']\n",
    "X = df[df.socat_mask == 1][features]\n",
    "y = df[df.socat_mask == 1]['pCO2']\n",
    "X_train, X_test, y_train, y_test = train_test_split(X, y, test_size=.25, random_state=42)"
   ]
  },
  {
   "cell_type": "code",
   "execution_count": 28,
   "metadata": {},
   "outputs": [
    {
     "name": "stdout",
     "output_type": "stream",
     "text": [
      "(107957, 5) (107957,)\n",
      "(35986, 5) (35986,)\n"
     ]
    }
   ],
   "source": [
    "print(X_train.shape, y_train.shape)\n",
    "print(X_test.shape, y_test.shape)"
   ]
  },
  {
   "cell_type": "code",
   "execution_count": 29,
   "metadata": {},
   "outputs": [],
   "source": [
    "scaler = StandardScaler()\n",
    "X_train_scaled = scaler.fit_transform(X_train)\n",
    "X_test_scaled = scaler.transform(X_test)"
   ]
  },
  {
   "cell_type": "code",
   "execution_count": 30,
   "metadata": {},
   "outputs": [
    {
     "data": {
      "text/plain": [
       "0.3757616808001202"
      ]
     },
     "execution_count": 30,
     "metadata": {},
     "output_type": "execute_result"
    }
   ],
   "source": [
    "reg = LinearRegression().fit(X_train_scaled, y_train)\n",
    "reg.score(X_test_scaled, y_test)"
   ]
  },
  {
   "cell_type": "code",
   "execution_count": 31,
   "metadata": {},
   "outputs": [],
   "source": [
    "y_pred = reg.predict(X_test_scaled)"
   ]
  },
  {
   "cell_type": "code",
   "execution_count": 32,
   "metadata": {},
   "outputs": [
    {
     "data": {
      "text/plain": [
       "24.982696139681906"
      ]
     },
     "execution_count": 32,
     "metadata": {},
     "output_type": "execute_result"
    }
   ],
   "source": [
    "mean_squared_error(y_test, y_pred) ** .5"
   ]
  }
 ],
 "metadata": {
  "kernelspec": {
   "display_name": "Python 3",
   "language": "python",
   "name": "python3"
  },
  "language_info": {
   "codemirror_mode": {
    "name": "ipython",
    "version": 3
   },
   "file_extension": ".py",
   "mimetype": "text/x-python",
   "name": "python",
   "nbconvert_exporter": "python",
   "pygments_lexer": "ipython3",
   "version": "3.6.5"
  }
 },
 "nbformat": 4,
 "nbformat_minor": 2
}
