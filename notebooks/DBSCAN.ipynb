{
 "cells": [
  {
   "cell_type": "markdown",
   "metadata": {},
   "source": [
    "# Imports "
   ]
  },
  {
   "cell_type": "code",
   "execution_count": 82,
   "metadata": {},
   "outputs": [],
   "source": [
    "import os\n",
    "import numpy as np\n",
    "import xarray as xr\n",
    "import pandas as pd\n",
    "import matplotlib.pyplot as plt\n",
    "import tensorflow as tf\n",
    "import sklearn\n",
    "from sklearn.preprocessing import StandardScaler\n",
    "from sklearn.linear_model import LinearRegression\n",
    "from sklearn.cluster import KMeans\n",
    "from sklearn.cluster import MiniBatchKMeans\n",
    "from mpl_toolkits import mplot3d\n",
    "from sklearn.cluster import DBSCAN\n",
    "import matplotlib.pyplot as plt\n",
    "from sklearn.metrics.pairwise import euclidean_distances"
   ]
  },
  {
   "cell_type": "markdown",
   "metadata": {},
   "source": [
    "# Load Data"
   ]
  },
  {
   "cell_type": "code",
   "execution_count": 83,
   "metadata": {},
   "outputs": [],
   "source": [
    "dataset_names = {'pCO2': 'pCO2_2D_mon_CESM001_1x1_198201-201701.nc',\n",
    "                 'XCO2': 'XCO2_1D_mon_CESM001_native_198201-201701.nc',\n",
    "                 'SST': 'SST_2D_mon_CESM001_1x1_198201-201701.nc',\n",
    "                 'SSS': 'SSS_2D_mon_CESM001_1x1_198201-201701.nc',\n",
    "                 'MLD': 'MLD_2D_mon_CESM001_1x1_198201-201701.nc',\n",
    "                 'Chl': 'Chl_2D_mon_CESM001_1x1_198201-201701.nc'}\n",
    "ds = {}\n",
    "for dataset in dataset_names.keys():\n",
    "    filename = os.path.join(dataset_names[dataset])\n",
    "    ds[dataset] = xr.open_dataset(filename)\n",
    "\n",
    "merged_dataset = xr.merge([ds[name][name] for name in ds.keys()])\n",
    "\n",
    "# include a variable which tells if a grid is in socat location\n",
    "# so that we can split a test set during the model training\n",
    "merged_dataset = xr.merge([merged_dataset, ds['pCO2']['socat_mask']])\n",
    "\n",
    "df = merged_dataset.to_dataframe().reset_index()\n",
    "\n",
    "df.dropna(subset=['xlon', 'ylat','pCO2', 'XCO2', 'SST', 'SSS', 'MLD', 'Chl'], inplace=True)\n",
    "\n",
    "X = np.array(df[['xlon', 'ylat', 'XCO2', 'SST', 'SSS', 'MLD', 'Chl']])\n",
    "\n",
    "Y = np.array(df[['pCO2']])"
   ]
  },
  {
   "cell_type": "code",
   "execution_count": 84,
   "metadata": {},
   "outputs": [],
   "source": [
    "SOM_input = df[['xlon', 'ylat', 'XCO2', 'SST', 'SSS', 'MLD', 'Chl']]\n",
    "means = SOM_input.groupby(['ylat','xlon'], as_index=False).mean()"
   ]
  },
  {
   "cell_type": "markdown",
   "metadata": {},
   "source": [
    "# DBSCAN Clustering "
   ]
  },
  {
   "cell_type": "markdown",
   "metadata": {},
   "source": [
    "## Deciding Parameters"
   ]
  },
  {
   "cell_type": "code",
   "execution_count": 85,
   "metadata": {},
   "outputs": [],
   "source": [
    "means1 = np.array(means)"
   ]
  },
  {
   "cell_type": "code",
   "execution_count": 81,
   "metadata": {},
   "outputs": [
    {
     "data": {
      "text/plain": [
       "(41070, 7)"
      ]
     },
     "execution_count": 81,
     "metadata": {},
     "output_type": "execute_result"
    }
   ],
   "source": [
    "distance_matrix = euclidean_distances(means1, means1)"
   ]
  },
  {
   "cell_type": "code",
   "execution_count": 107,
   "metadata": {},
   "outputs": [
    {
     "data": {
      "text/plain": [
       "array([[  0.        ,   1.17145901,   3.70012796, ..., 316.73012748,\n",
       "        316.74832044, 316.83778472],\n",
       "       [  0.        ,   1.17145901,   2.69565575, ..., 316.86047433,\n",
       "        316.8775127 , 316.97138617],\n",
       "       [  0.        ,   2.69565575,   3.70012796, ..., 315.6556757 ,\n",
       "        315.6681381 , 315.77080361],\n",
       "       ...,\n",
       "       [  0.        ,   1.00003722,   1.00003742, ..., 426.14712286,\n",
       "        431.52229747, 432.14567586],\n",
       "       [  0.        ,   1.00003742,   1.00003759, ..., 426.27885667,\n",
       "        431.65712803, 432.27801367],\n",
       "       [  0.        ,   1.00003759,   1.1866523 , ..., 426.41291403,\n",
       "        431.79425148, 432.41264268]])"
      ]
     },
     "execution_count": 107,
     "metadata": {},
     "output_type": "execute_result"
    }
   ],
   "source": [
    "distance_matrix"
   ]
  },
  {
   "cell_type": "code",
   "execution_count": null,
   "metadata": {},
   "outputs": [],
   "source": [
    "distance_matrix.sort(axis=1)"
   ]
  },
  {
   "cell_type": "code",
   "execution_count": 129,
   "metadata": {},
   "outputs": [],
   "source": [
    "distance_matrix1=distance_matrix[:,1:11]\n",
    "pm=distance_matrix1.flatten()\n",
    "pm=np.sort(pm)\n",
    "pm = pm[::-1]"
   ]
  },
  {
   "cell_type": "code",
   "execution_count": 132,
   "metadata": {},
   "outputs": [
    {
     "data": {
      "text/plain": [
       "Text(0,0.5,'K-Distances')"
      ]
     },
     "execution_count": 132,
     "metadata": {},
     "output_type": "execute_result"
    },
    {
     "data": {
      "image/png": "[encoded data removed]",
      "text/plain": [
       "<Figure size 432x288 with 1 Axes>"
      ]
     },
     "metadata": {
      "needs_background": "light"
     },
     "output_type": "display_data"
    }
   ],
   "source": [
    "plt.plot(pm)\n",
    "plt.ylabel('K-Distances')"
   ]
  },
  {
   "cell_type": "markdown",
   "metadata": {},
   "source": [
    "We make a K-distance plot of the data. This plot helps us determine the density of the data and thus give us an idea of what the value of epsilon. The min points are also hard to decide but its a universally acceptable heurestic to use Log(n) as the number K where n is the total number of datapoints. Epsilon is chosen as the distance where the curve flattens out."
   ]
  },
  {
   "cell_type": "markdown",
   "metadata": {},
   "source": [
    "## Clustering"
   ]
  },
  {
   "cell_type": "code",
   "execution_count": 135,
   "metadata": {},
   "outputs": [],
   "source": [
    "clustering = DBSCAN(eps=10, min_samples=10).fit(means)"
   ]
  },
  {
   "cell_type": "code",
   "execution_count": 136,
   "metadata": {},
   "outputs": [
    {
     "data": {
      "text/plain": [
       "11"
      ]
     },
     "execution_count": 136,
     "metadata": {},
     "output_type": "execute_result"
    }
   ],
   "source": [
    "len(set(clustering.labels_))"
   ]
  },
  {
   "cell_type": "code",
   "execution_count": 137,
   "metadata": {},
   "outputs": [],
   "source": [
    "labels = pd.DataFrame(clustering.labels_)\n",
    "labels.columns = ['dbscan']\n",
    "finaldf = pd.concat([means,labels], axis = 1)\n",
    "finaldf.columns = ['xlon', 'ylat', 'XCO2', 'SST', 'SSS', 'MLD', 'Chl', 'dbscan_clusters']"
   ]
  },
  {
   "cell_type": "code",
   "execution_count": 138,
   "metadata": {},
   "outputs": [
    {
     "data": {
      "text/html": [
       "<div>\n",
       "<style scoped>\n",
       "    .dataframe tbody tr th:only-of-type {\n",
       "        vertical-align: middle;\n",
       "    }\n",
       "\n",
       "    .dataframe tbody tr th {\n",
       "        vertical-align: top;\n",
       "    }\n",
       "\n",
       "    .dataframe thead th {\n",
       "        text-align: right;\n",
       "    }\n",
       "</style>\n",
       "<table border=\"1\" class=\"dataframe\">\n",
       "  <thead>\n",
       "    <tr style=\"text-align: right;\">\n",
       "      <th></th>\n",
       "      <th>xlon</th>\n",
       "      <th>ylat</th>\n",
       "      <th>XCO2</th>\n",
       "      <th>SST</th>\n",
       "      <th>SSS</th>\n",
       "      <th>MLD</th>\n",
       "      <th>Chl</th>\n",
       "      <th>dbscan_clusters</th>\n",
       "    </tr>\n",
       "  </thead>\n",
       "  <tbody>\n",
       "    <tr>\n",
       "      <th>0</th>\n",
       "      <td>-77.5</td>\n",
       "      <td>179.5</td>\n",
       "      <td>370.185059</td>\n",
       "      <td>-1.257135</td>\n",
       "      <td>34.316242</td>\n",
       "      <td>237.387344</td>\n",
       "      <td>0.981023</td>\n",
       "      <td>-1</td>\n",
       "    </tr>\n",
       "    <tr>\n",
       "      <th>1</th>\n",
       "      <td>-77.5</td>\n",
       "      <td>180.5</td>\n",
       "      <td>370.185059</td>\n",
       "      <td>-1.274530</td>\n",
       "      <td>34.295708</td>\n",
       "      <td>236.778397</td>\n",
       "      <td>1.008854</td>\n",
       "      <td>-1</td>\n",
       "    </tr>\n",
       "    <tr>\n",
       "      <th>2</th>\n",
       "      <td>-77.5</td>\n",
       "      <td>181.5</td>\n",
       "      <td>370.185059</td>\n",
       "      <td>-1.300513</td>\n",
       "      <td>34.269802</td>\n",
       "      <td>234.275604</td>\n",
       "      <td>1.044126</td>\n",
       "      <td>-1</td>\n",
       "    </tr>\n",
       "    <tr>\n",
       "      <th>3</th>\n",
       "      <td>-77.5</td>\n",
       "      <td>182.5</td>\n",
       "      <td>370.185059</td>\n",
       "      <td>-1.334906</td>\n",
       "      <td>34.241173</td>\n",
       "      <td>226.481583</td>\n",
       "      <td>1.084508</td>\n",
       "      <td>-1</td>\n",
       "    </tr>\n",
       "    <tr>\n",
       "      <th>4</th>\n",
       "      <td>-77.5</td>\n",
       "      <td>183.5</td>\n",
       "      <td>370.185059</td>\n",
       "      <td>-1.375007</td>\n",
       "      <td>34.213009</td>\n",
       "      <td>211.385742</td>\n",
       "      <td>1.126487</td>\n",
       "      <td>-1</td>\n",
       "    </tr>\n",
       "  </tbody>\n",
       "</table>\n",
       "</div>"
      ],
      "text/plain": [
       "   xlon   ylat        XCO2       SST        SSS         MLD       Chl  \\\n",
       "0 -77.5  179.5  370.185059 -1.257135  34.316242  237.387344  0.981023   \n",
       "1 -77.5  180.5  370.185059 -1.274530  34.295708  236.778397  1.008854   \n",
       "2 -77.5  181.5  370.185059 -1.300513  34.269802  234.275604  1.044126   \n",
       "3 -77.5  182.5  370.185059 -1.334906  34.241173  226.481583  1.084508   \n",
       "4 -77.5  183.5  370.185059 -1.375007  34.213009  211.385742  1.126487   \n",
       "\n",
       "   dbscan_clusters  \n",
       "0               -1  \n",
       "1               -1  \n",
       "2               -1  \n",
       "3               -1  \n",
       "4               -1  "
      ]
     },
     "execution_count": 138,
     "metadata": {},
     "output_type": "execute_result"
    }
   ],
   "source": [
    "finaldf.head()"
   ]
  },
  {
   "cell_type": "code",
   "execution_count": 139,
   "metadata": {},
   "outputs": [],
   "source": [
    "finaldf.to_csv('dbscan_clusters.csv')"
   ]
  },
  {
   "cell_type": "code",
   "execution_count": null,
   "metadata": {},
   "outputs": [],
   "source": []
  }
 ],
 "metadata": {
  "kernelspec": {
   "display_name": "Python 3",
   "language": "python",
   "name": "python3"
  },
  "language_info": {
   "codemirror_mode": {
    "name": "ipython",
    "version": 3
   },
   "file_extension": ".py",
   "mimetype": "text/x-python",
   "name": "python",
   "nbconvert_exporter": "python",
   "pygments_lexer": "ipython3",
   "version": "3.6.6"
  }
 },
 "nbformat": 4,
 "nbformat_minor": 2
}
