{
 "cells": [
  {
   "cell_type": "code",
   "execution_count": 1,
   "metadata": {},
   "outputs": [],
   "source": [
    "import os\n",
    "import numpy as np\n",
    "import xarray as xr\n",
    "import pandas as pd\n",
    "import matplotlib.pyplot as plt"
   ]
  },
  {
   "cell_type": "markdown",
   "metadata": {},
   "source": [
    "# Load data"
   ]
  },
  {
   "cell_type": "code",
   "execution_count": 2,
   "metadata": {},
   "outputs": [],
   "source": [
    "DATA_DIR = '../data/raw'\n",
    "dataset_names = {'pCO2': 'pCO2_2D_mon_CESM001_1x1_198201-201701.nc',\n",
    "                 'XCO2': 'XCO2_1D_mon_CESM001_native_198201-201701.nc',\n",
    "                 'SST': 'SST_2D_mon_CESM001_1x1_198201-201701.nc',\n",
    "                 'SSS': 'SSS_2D_mon_CESM001_1x1_198201-201701.nc',\n",
    "                 'MLD': 'MLD_2D_mon_CESM001_1x1_198201-201701.nc',\n",
    "                 'Chl': 'Chl_2D_mon_CESM001_1x1_198201-201701.nc'}\n",
    "ds = {}\n",
    "for dataset in dataset_names.keys():\n",
    "    filename = os.path.join(DATA_DIR, dataset_names[dataset])\n",
    "    ds[dataset] = xr.open_dataset(filename)"
   ]
  },
  {
   "cell_type": "markdown",
   "metadata": {},
   "source": [
    "# Convert to dataframe"
   ]
  },
  {
   "cell_type": "code",
   "execution_count": 3,
   "metadata": {},
   "outputs": [],
   "source": [
    "df = {}\n",
    "df_socat = {}\n",
    "for dataset in ds.keys():\n",
    "    df[dataset] = ds[dataset][dataset].to_dataframe().reset_index()\n",
    "    \n",
    "    # XCO2 is only time dependent, so it has no XCO2_socat feature\n",
    "    if dataset == 'XCO2':\n",
    "        continue\n",
    "        \n",
    "    df_socat[dataset] = ds[dataset]['{}_socat'.format(dataset)].to_dataframe().reset_index()"
   ]
  },
  {
   "cell_type": "code",
   "execution_count": 4,
   "metadata": {},
   "outputs": [
    {
     "data": {
      "text/html": [
       "<div>\n",
       "<style scoped>\n",
       "    .dataframe tbody tr th:only-of-type {\n",
       "        vertical-align: middle;\n",
       "    }\n",
       "\n",
       "    .dataframe tbody tr th {\n",
       "        vertical-align: top;\n",
       "    }\n",
       "\n",
       "    .dataframe thead th {\n",
       "        text-align: right;\n",
       "    }\n",
       "</style>\n",
       "<table border=\"1\" class=\"dataframe\">\n",
       "  <thead>\n",
       "    <tr style=\"text-align: right;\">\n",
       "      <th></th>\n",
       "      <th>time</th>\n",
       "      <th>ylat</th>\n",
       "      <th>xlon</th>\n",
       "      <th>pCO2</th>\n",
       "    </tr>\n",
       "  </thead>\n",
       "  <tbody>\n",
       "    <tr>\n",
       "      <th>0</th>\n",
       "      <td>1982-01-16 12:00:00</td>\n",
       "      <td>-89.5</td>\n",
       "      <td>0.5</td>\n",
       "      <td>NaN</td>\n",
       "    </tr>\n",
       "    <tr>\n",
       "      <th>1</th>\n",
       "      <td>1982-01-16 12:00:00</td>\n",
       "      <td>-89.5</td>\n",
       "      <td>1.5</td>\n",
       "      <td>NaN</td>\n",
       "    </tr>\n",
       "    <tr>\n",
       "      <th>2</th>\n",
       "      <td>1982-01-16 12:00:00</td>\n",
       "      <td>-89.5</td>\n",
       "      <td>2.5</td>\n",
       "      <td>NaN</td>\n",
       "    </tr>\n",
       "    <tr>\n",
       "      <th>3</th>\n",
       "      <td>1982-01-16 12:00:00</td>\n",
       "      <td>-89.5</td>\n",
       "      <td>3.5</td>\n",
       "      <td>NaN</td>\n",
       "    </tr>\n",
       "    <tr>\n",
       "      <th>4</th>\n",
       "      <td>1982-01-16 12:00:00</td>\n",
       "      <td>-89.5</td>\n",
       "      <td>4.5</td>\n",
       "      <td>NaN</td>\n",
       "    </tr>\n",
       "  </tbody>\n",
       "</table>\n",
       "</div>"
      ],
      "text/plain": [
       "                 time  ylat  xlon  pCO2\n",
       "0 1982-01-16 12:00:00 -89.5   0.5   NaN\n",
       "1 1982-01-16 12:00:00 -89.5   1.5   NaN\n",
       "2 1982-01-16 12:00:00 -89.5   2.5   NaN\n",
       "3 1982-01-16 12:00:00 -89.5   3.5   NaN\n",
       "4 1982-01-16 12:00:00 -89.5   4.5   NaN"
      ]
     },
     "execution_count": 4,
     "metadata": {},
     "output_type": "execute_result"
    }
   ],
   "source": [
    "df['pCO2'].head()"
   ]
  },
  {
   "cell_type": "code",
   "execution_count": 5,
   "metadata": {},
   "outputs": [
    {
     "data": {
      "text/html": [
       "<div>\n",
       "<style scoped>\n",
       "    .dataframe tbody tr th:only-of-type {\n",
       "        vertical-align: middle;\n",
       "    }\n",
       "\n",
       "    .dataframe tbody tr th {\n",
       "        vertical-align: top;\n",
       "    }\n",
       "\n",
       "    .dataframe thead th {\n",
       "        text-align: right;\n",
       "    }\n",
       "</style>\n",
       "<table border=\"1\" class=\"dataframe\">\n",
       "  <thead>\n",
       "    <tr style=\"text-align: right;\">\n",
       "      <th></th>\n",
       "      <th>time</th>\n",
       "      <th>ylat</th>\n",
       "      <th>xlon</th>\n",
       "      <th>pCO2</th>\n",
       "    </tr>\n",
       "  </thead>\n",
       "  <tbody>\n",
       "    <tr>\n",
       "      <th>27280795</th>\n",
       "      <td>2017-01-16 12:00:00</td>\n",
       "      <td>89.5</td>\n",
       "      <td>355.5</td>\n",
       "      <td>373.818737</td>\n",
       "    </tr>\n",
       "    <tr>\n",
       "      <th>27280796</th>\n",
       "      <td>2017-01-16 12:00:00</td>\n",
       "      <td>89.5</td>\n",
       "      <td>356.5</td>\n",
       "      <td>373.846099</td>\n",
       "    </tr>\n",
       "    <tr>\n",
       "      <th>27280797</th>\n",
       "      <td>2017-01-16 12:00:00</td>\n",
       "      <td>89.5</td>\n",
       "      <td>357.5</td>\n",
       "      <td>373.873182</td>\n",
       "    </tr>\n",
       "    <tr>\n",
       "      <th>27280798</th>\n",
       "      <td>2017-01-16 12:00:00</td>\n",
       "      <td>89.5</td>\n",
       "      <td>358.5</td>\n",
       "      <td>373.900054</td>\n",
       "    </tr>\n",
       "    <tr>\n",
       "      <th>27280799</th>\n",
       "      <td>2017-01-16 12:00:00</td>\n",
       "      <td>89.5</td>\n",
       "      <td>359.5</td>\n",
       "      <td>373.926773</td>\n",
       "    </tr>\n",
       "  </tbody>\n",
       "</table>\n",
       "</div>"
      ],
      "text/plain": [
       "                        time  ylat   xlon        pCO2\n",
       "27280795 2017-01-16 12:00:00  89.5  355.5  373.818737\n",
       "27280796 2017-01-16 12:00:00  89.5  356.5  373.846099\n",
       "27280797 2017-01-16 12:00:00  89.5  357.5  373.873182\n",
       "27280798 2017-01-16 12:00:00  89.5  358.5  373.900054\n",
       "27280799 2017-01-16 12:00:00  89.5  359.5  373.926773"
      ]
     },
     "execution_count": 5,
     "metadata": {},
     "output_type": "execute_result"
    }
   ],
   "source": [
    "df['pCO2'].tail()"
   ]
  },
  {
   "cell_type": "markdown",
   "metadata": {},
   "source": [
    "# Will any feature have 0 value?"
   ]
  },
  {
   "cell_type": "code",
   "execution_count": 6,
   "metadata": {},
   "outputs": [],
   "source": [
    "for feature in df.keys():\n",
    "    if (df[feature][feature] == 0).sum() > 0:\n",
    "        print(\"There are {} values for the feature {}\".format((df[feature][feature] == 0).sum(), feature))"
   ]
  },
  {
   "cell_type": "markdown",
   "metadata": {},
   "source": [
    "So, for all the features, each grid has either NaN or non-zero value."
   ]
  },
  {
   "cell_type": "markdown",
   "metadata": {},
   "source": [
    "# For how much percent of area on Earth can each feature be inspected?"
   ]
  },
  {
   "cell_type": "code",
   "execution_count": 7,
   "metadata": {},
   "outputs": [
    {
     "name": "stdout",
     "output_type": "stream",
     "text": [
      "pCO2: 0.6337962962962963\n",
      "XCO2: 1.0\n",
      "SST: 0.6337962962962963\n",
      "SSS: 0.6337962962962963\n",
      "MLD: 0.6337962962962963\n",
      "Chl: 0.6337962962962963\n"
     ]
    }
   ],
   "source": [
    "for feature in df.keys():\n",
    "    pct = df[feature][feature].notnull().sum() / df[feature].shape[0]\n",
    "    print(\"{}: {}\".format(feature, pct))"
   ]
  },
  {
   "cell_type": "markdown",
   "metadata": {},
   "source": [
    "# What is the ratio of socat area?"
   ]
  },
  {
   "cell_type": "code",
   "execution_count": 8,
   "metadata": {},
   "outputs": [
    {
     "name": "stdout",
     "output_type": "stream",
     "text": [
      "pCO2: 0.014203026291361658\n",
      "SST: 0.014203026291361658\n",
      "SSS: 0.014203026291361658\n",
      "MLD: 0.014203026291361658\n",
      "Chl: 0.014203026291361658\n"
     ]
    }
   ],
   "source": [
    "for feature in df.keys():\n",
    "    if feature == 'XCO2': continue\n",
    "    ratio = ((df_socat[feature]['{}_socat'.format(feature)].notnull()) \\\n",
    "             & (df_socat[feature]['{}_socat'.format(feature)] != 0)).sum() \\\n",
    "        / df[feature][feature].notnull().sum()\n",
    "    print(\"{}: {}\".format(feature, ratio))"
   ]
  },
  {
   "cell_type": "markdown",
   "metadata": {},
   "source": [
    "# Histograms of each feature for both all-location and socat-location"
   ]
  },
  {
   "cell_type": "markdown",
   "metadata": {},
   "source": [
    "* All-location"
   ]
  },
  {
   "cell_type": "code",
   "execution_count": 83,
   "metadata": {},
   "outputs": [
    {
     "data": {
      "image/png": "[encoded data removed]",
      "text/plain": [
       "<Figure size 1080x720 with 6 Axes>"
      ]
     },
     "metadata": {},
     "output_type": "display_data"
    }
   ],
   "source": [
    "fig, axs = plt.subplots(2, 3, figsize=(15, 10))\n",
    "feature_unit = {'pCO2': '$\\mu$atm',\n",
    "                'XCO2': '',\n",
    "                'SST': 'degC',\n",
    "                'SSS': 'PSU',\n",
    "                'MLD': 'm',\n",
    "                'Chl': 'mg/m3'}\n",
    "\n",
    "i = 0\n",
    "j = 0\n",
    "for feature in df.keys():\n",
    "    values = df[feature][df[feature][feature].notnull()][feature]\n",
    "    axs[i, j].hist(values, 30, facecolor='#375E97', edgecolor='#021C1E')\n",
    "    axs[i, j].set_title(feature)\n",
    "    axs[i, j].set_xlabel(feature_unit[feature])\n",
    "    if j < 2:\n",
    "        j += 1\n",
    "    else:\n",
    "        i += 1\n",
    "        j = 0\n",
    "plt.subplots_adjust(hspace=.3)\n",
    "plt.show()"
   ]
  },
  {
   "cell_type": "markdown",
   "metadata": {},
   "source": [
    "* SOCAT-location"
   ]
  },
  {
   "cell_type": "code",
   "execution_count": 88,
   "metadata": {},
   "outputs": [
    {
     "data": {
      "image/png": "[encoded data removed]",
      "text/plain": [
       "<Figure size 1080x720 with 6 Axes>"
      ]
     },
     "metadata": {},
     "output_type": "display_data"
    }
   ],
   "source": [
    "fig, axs = plt.subplots(2, 3, figsize=(15, 10))\n",
    "feature_unit = {'pCO2': '$\\mu$atm',\n",
    "                'XCO2': '',\n",
    "                'SST': 'degC',\n",
    "                'SSS': 'PSU',\n",
    "                'MLD': 'm',\n",
    "                'Chl': 'mg/m3'}\n",
    "\n",
    "i = 0\n",
    "j = 0\n",
    "for feature in df_socat.keys():\n",
    "    feature_socat = '{}_socat'.format(feature)\n",
    "    values = df_socat[feature][(df_socat[feature][feature_socat].notnull()) \\\n",
    "                         & (df_socat[feature][feature_socat] != 0)][feature_socat]\n",
    "    axs[i, j].hist(values, 30, facecolor='#375E97', edgecolor='#021C1E')\n",
    "    axs[i, j].set_title(feature)\n",
    "    axs[i, j].set_xlabel(feature_unit[feature])\n",
    "    if j < 2:\n",
    "        j += 1\n",
    "    else:\n",
    "        i += 1\n",
    "        j = 0\n",
    "axs[-1, -1].axis('off')\n",
    "plt.subplots_adjust(hspace=.3)\n",
    "plt.show()"
   ]
  },
  {
   "cell_type": "code",
   "execution_count": null,
   "metadata": {},
   "outputs": [],
   "source": []
  }
 ],
 "metadata": {
  "kernelspec": {
   "display_name": "Python 3",
   "language": "python",
   "name": "python3"
  },
  "language_info": {
   "codemirror_mode": {
    "name": "ipython",
    "version": 3
   },
   "file_extension": ".py",
   "mimetype": "text/x-python",
   "name": "python",
   "nbconvert_exporter": "python",
   "pygments_lexer": "ipython3",
   "version": "3.6.5"
  }
 },
 "nbformat": 4,
 "nbformat_minor": 2
}
