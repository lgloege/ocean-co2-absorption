{
 "cells": [
  {
   "cell_type": "markdown",
   "metadata": {},
   "source": [
    "# Download model output : get model output from figshare\n",
    "This notebook downloads model outpt from figshare. Output is contained as a collection of filesets [here](https://figshare.com/account/home#/collections/4297445). This small ensemble consists of two members from \n",
    "the CESM-lENS, CanESM2 large ensemble, and MPI-GE, for a total of six ensemble members.\n",
    "\n",
    "Each members can be downloaded using `wget`. This downloads a zip file containing the files for that member.\n",
    "You can then either grab a specific file from that zip file or unzip everything. I will give an example of each case."
   ]
  },
  {
   "cell_type": "markdown",
   "metadata": {},
   "source": [
    "# 1. Define dictionary and which member you want to download"
   ]
  },
  {
   "cell_type": "code",
   "execution_count": 41,
   "metadata": {},
   "outputs": [],
   "source": [
    "# ID for the small ensemble collection\n",
    "# the URL for the collection would be : https://figshare.com/s/6bacbf1b77c7974add58\n",
    "private_link = '6bacbf1b77c7974add58'\n",
    "\n",
    "# Dictionary of the ensemble member filesets' ITEM_ID\n",
    "member_dict = dict(CESM_member_001=7343780,\n",
    "                  CESM_member_002=7336172,\n",
    "                  CanESM2_member_r1r1=7336181,\n",
    "                  CanESM2_member_r1r2=7336184,\n",
    "                  MPI_member_001=7336175,\n",
    "                  MPI_member_002=7336178)\n",
    "\n",
    "# Which member do you want to download?\n",
    "member = 'CESM_member_002'\n",
    "\n",
    "# Define the DOWNLOAD_URL and OUTPUT_ZIP\n",
    "DOWNLOAD_URL=f'https://ndownloader.figshare.com/articles/{member_dict[member]}?private_link={private_link}'\n",
    "\n",
    "# Path to download location\n",
    "OUTPUT_ZIP=f'/local/data/artemis/workspace/gloege/DSI-FFN/data/{member}.zip'"
   ]
  },
  {
   "cell_type": "markdown",
   "metadata": {},
   "source": [
    "# 2. Get the data via wget"
   ]
  },
  {
   "cell_type": "code",
   "execution_count": 42,
   "metadata": {},
   "outputs": [
    {
     "name": "stdout",
     "output_type": "stream",
     "text": [
      "--2018-11-15 11:52:13--  https://ndownloader.figshare.com/articles/7336172?private_link=6bacbf1b77c7974add58\n",
      "Resolving ndownloader.figshare.com (ndownloader.figshare.com)... 54.229.182.84, 52.16.165.1, 54.229.131.176, ...\n",
      "Connecting to ndownloader.figshare.com (ndownloader.figshare.com)|54.229.182.84|:443... connected.\n",
      "HTTP request sent, awaiting response... 200 OK\n",
      "Length: 2837740885 (2.6G) [application/zip]\n",
      "Saving to: ‘/local/data/artemis/workspace/gloege/DSI-FFN/data/CESM_member_002.zip’\n",
      "\n",
      "100%[====================================>] 2,837,740,885 9.40MB/s   in 5m 46s \n",
      "\n",
      "2018-11-15 11:57:58 (7.83 MB/s) - ‘/local/data/artemis/workspace/gloege/DSI-FFN/data/CESM_member_002.zip’ saved [2837740885/2837740885]\n",
      "\n"
     ]
    }
   ],
   "source": [
    "# Download the zipped data via wget\n",
    "# This takes about a couple minutes to download\n",
    "!wget $DOWNLOAD_URL -O $OUTPUT_ZIP"
   ]
  },
  {
   "cell_type": "markdown",
   "metadata": {},
   "source": [
    "# 3. Peak inside the downloaded zip file"
   ]
  },
  {
   "cell_type": "code",
   "execution_count": 36,
   "metadata": {},
   "outputs": [
    {
     "name": "stdout",
     "output_type": "stream",
     "text": [
      "Archive:  /local/data/artemis/workspace/gloege/DSI-FFN/data/CESM_member_001.zip\n",
      "  Length      Date    Time    Name\n",
      "---------  ---------- -----   ----\n",
      "545733240  11-15-2018 11:47   Chl_2D_mon_CESM001_1x1_198201-201701.nc\n",
      "545733191  11-15-2018 11:47   MLD_2D_mon_CESM001_1x1_198201-201701.nc\n",
      "654807046  11-15-2018 11:47   pCO2_2D_mon_CESM001_1x1_198201-201701.nc\n",
      "545733216  11-15-2018 11:47   SSS_2D_mon_CESM001_1x1_198201-201701.nc\n",
      "545733208  11-15-2018 11:47   SST_2D_mon_CESM001_1x1_198201-201701.nc\n",
      "   103769  11-15-2018 11:47   XCO2_1D_mon_CESM001_native_198201-201701.nc\n",
      "---------                     -------\n",
      "2837843670                     6 files\n"
     ]
    }
   ],
   "source": [
    "# Take a look at the contents of the zip (this does not unzip anything, it's just to peek inside)\n",
    "!unzip -l $OUTPUT_ZIP"
   ]
  },
  {
   "cell_type": "markdown",
   "metadata": {},
   "source": [
    "# 4. Unzip just SST"
   ]
  },
  {
   "cell_type": "code",
   "execution_count": 37,
   "metadata": {},
   "outputs": [
    {
     "name": "stdout",
     "output_type": "stream",
     "text": [
      "Archive:  /local/data/artemis/workspace/gloege/DSI-FFN/data/CESM_member_001.zip\n",
      " extracting: /local/data/artemis/workspace/gloege/DSI-FFN/data/SST_2D_mon_CESM001_1x1_198201-201701.nc  \n"
     ]
    }
   ],
   "source": [
    "# Note: OUTPUT_ZIP has the full path. I just want to the directory. So I use the dirname command\n",
    "!unzip -j $OUTPUT_ZIP SST_2D_mon_CESM001_1x1_198201-201701.nc -d $(dirname $OUTPUT_ZIP)"
   ]
  },
  {
   "cell_type": "markdown",
   "metadata": {},
   "source": [
    "# 5. Open the netcdf via xarray"
   ]
  },
  {
   "cell_type": "code",
   "execution_count": 38,
   "metadata": {},
   "outputs": [],
   "source": [
    "import xarray as xr\n",
    "ds = xr.open_dataset('/local/data/artemis/workspace/gloege/DSI-FFN/data/SST_2D_mon_CESM001_1x1_198201-201701.nc')"
   ]
  },
  {
   "cell_type": "code",
   "execution_count": 39,
   "metadata": {},
   "outputs": [
    {
     "data": {
      "text/plain": [
       "<xarray.Dataset>\n",
       "Dimensions:     (bnds: 2, time: 421, xlon: 360, ylat: 180)\n",
       "Coordinates:\n",
       "  * xlon        (xlon) float64 0.5 1.5 2.5 3.5 4.5 5.5 6.5 7.5 8.5 9.5 10.5 ...\n",
       "  * ylat        (ylat) float64 -89.5 -88.5 -87.5 -86.5 -85.5 -84.5 -83.5 ...\n",
       "  * time        (time) datetime64[ns] 1982-01-16T12:00:00 1982-02-15 ...\n",
       "Dimensions without coordinates: bnds\n",
       "Data variables:\n",
       "    SST_socat   (time, ylat, xlon) float64 ...\n",
       "    xlon_bnds   (xlon, bnds) float64 ...\n",
       "    ylat_bnds   (ylat, bnds) float64 ...\n",
       "    time_bnds   (time, bnds) float64 ...\n",
       "    SST         (time, ylat, xlon) float32 ...\n",
       "    socat_mask  (time, ylat, xlon) float64 ...\n",
       "    tmnth       (time) datetime64[ns] ...\n",
       "Attributes:\n",
       "    CDI:                        Climate Data Interface version 1.7.2 (http://...\n",
       "    source:                     CCSM POP2, the CCSM Ocean Component\n",
       "    Conventions:                CF-1.0; http://www.cgd.ucar.edu/cms/eaton/net...\n",
       "    title:                      b.e11.B20TRC5CNBDRD.f09_g16.001\n",
       "    contents:                   Diagnostic and Prognostic Variables\n",
       "    revision:                   $Id: tavg.F90 41939 2012-11-14 16:37:23Z mlev...\n",
       "    calendar:                   All years have exactly  365 days.\n",
       "    start_time:                 This dataset was created on 2013-05-24 at 14:...\n",
       "    cell_methods:               cell_methods = time: mean ==> the variable va...\n",
       "    nsteps_total:               750\n",
       "    tavg_sum:                   2592000.0\n",
       "    tavg_sum_qflux:             2592000.0\n",
       "    nco_openmp_thread_number:   1\n",
       "    CDO:                        Climate Data Operators version 1.7.2 (http://...\n",
       "    history:                    Wed Apr  4 09:56:32 2018: ncap2 -s SST_socat=...\n",
       "    NCO:                        4.6.9\n",
       "    history_of_appended_files:  Wed Apr  4 09:56:32 2018: Appended file /glad..."
      ]
     },
     "execution_count": 39,
     "metadata": {},
     "output_type": "execute_result"
    }
   ],
   "source": [
    "ds"
   ]
  },
  {
   "cell_type": "markdown",
   "metadata": {},
   "source": [
    "# 6. Unzip everything"
   ]
  },
  {
   "cell_type": "code",
   "execution_count": 40,
   "metadata": {},
   "outputs": [
    {
     "name": "stdout",
     "output_type": "stream",
     "text": [
      "Archive:  /local/data/artemis/workspace/gloege/DSI-FFN/data/CESM_member_001.zip\n",
      " extracting: Chl_2D_mon_CESM001_1x1_198201-201701.nc  \n",
      " extracting: MLD_2D_mon_CESM001_1x1_198201-201701.nc  \n",
      " extracting: pCO2_2D_mon_CESM001_1x1_198201-201701.nc  \n",
      " extracting: SSS_2D_mon_CESM001_1x1_198201-201701.nc  \n",
      " extracting: SST_2D_mon_CESM001_1x1_198201-201701.nc  \n",
      " extracting: XCO2_1D_mon_CESM001_native_198201-201701.nc  \n"
     ]
    }
   ],
   "source": [
    "# Unzip all the data \n",
    "!unzip $OUTPUT_ZIP "
   ]
  },
  {
   "cell_type": "code",
   "execution_count": null,
   "metadata": {},
   "outputs": [],
   "source": []
  }
 ],
 "metadata": {
  "kernelspec": {
   "display_name": "Python3 (dev,luke)",
   "language": "python",
   "name": "dev"
  },
  "language_info": {
   "codemirror_mode": {
    "name": "ipython",
    "version": 3
   },
   "file_extension": ".py",
   "mimetype": "text/x-python",
   "name": "python",
   "nbconvert_exporter": "python",
   "pygments_lexer": "ipython3",
   "version": "3.6.5"
  }
 },
 "nbformat": 4,
 "nbformat_minor": 2
}
