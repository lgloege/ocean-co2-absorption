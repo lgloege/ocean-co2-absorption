{
 "cells": [
  {
   "cell_type": "markdown",
   "metadata": {},
   "source": [
    "# Keras neural networks\n",
    "\n",
    "This is just a template to get you started creating a neural network with keras. This does absolutely nothing right now. \n",
    "\n",
    "When you start giving the model data, `tensorflow.data` API may be of use? https://www.tensorflow.org/guide/datasets\n"
   ]
  },
  {
   "cell_type": "code",
   "execution_count": 1,
   "metadata": {
    "collapsed": true
   },
   "outputs": [],
   "source": [
    "### Base imports\n",
    "import xarray as xr\n",
    "import tensorflow as tf\n",
    "\n",
    "### Keras imports\n",
    "from tensorflow import keras\n",
    "from tensorflow.keras.models import Sequential\n",
    "from tensorflow.keras.layers import Input\n",
    "from tensorflow.keras.layers import InputLayer\n",
    "from tensorflow.keras.layers import Dense\n",
    "from tensorflow.keras.layers import Activation\n",
    "from tensorflow.keras.layers import Flatten\n",
    "from tensorflow.keras.layers import Reshape\n",
    "from tensorflow.keras.layers import Dropout\n",
    "from tensorflow.keras import initializers\n",
    "\n",
    "### sklearn imports\n",
    "import sklearn as sk\n",
    "from sklearn.model_selection import train_test_split\n",
    "from sklearn.preprocessing import scale\n",
    "from sklearn.preprocessing import robust_scale\n",
    "from sklearn.preprocessing import normalize\n",
    "from sklearn.preprocessing import minmax_scale"
   ]
  },
  {
   "cell_type": "code",
   "execution_count": 2,
   "metadata": {},
   "outputs": [
    {
     "name": "stdout",
     "output_type": "stream",
     "text": [
      "xarray version  0.10.9\n",
      "sklearn version 0.20.0\n",
      "tensorflow version  1.10.0\n",
      "keras version  2.1.6-tf\n"
     ]
    }
   ],
   "source": [
    "print('xarray version ',xr.__version__)\n",
    "print('sklearn version',sk.__version__)\n",
    "print('tensorflow version ',tf.__version__)\n",
    "print('keras version ',keras.__version__)"
   ]
  },
  {
   "cell_type": "markdown",
   "metadata": {},
   "source": [
    "# Neural network\n",
    "\n",
    "- inputs = 5\n",
    "- hidden layer with 10 neurons\n",
    "- single output neuron"
   ]
  },
  {
   "cell_type": "code",
   "execution_count": 3,
   "metadata": {},
   "outputs": [
    {
     "name": "stdout",
     "output_type": "stream",
     "text": [
      "_________________________________________________________________\n",
      "Layer (type)                 Output Shape              Param #   \n",
      "=================================================================\n",
      "hidden_layer1 (Dense)        (None, 10)                60        \n",
      "_________________________________________________________________\n",
      "output_layer (Dense)         (None, 1)                 11        \n",
      "=================================================================\n",
      "Total params: 71\n",
      "Trainable params: 71\n",
      "Non-trainable params: 0\n",
      "_________________________________________________________________\n"
     ]
    }
   ],
   "source": [
    "### Gets the number of input features (SST, SSS, MLD, Chl, xco2)\n",
    "n_features = 5\n",
    "\n",
    "### Define sequential class\n",
    "model = Sequential()\n",
    "activation = 'relu'\n",
    "kernel_initializer = initializers.he_uniform()\n",
    "bias_initializer = initializers.he_uniform()\n",
    "\n",
    "### Hidden Layer 1\n",
    "model.add(Dense(10, input_shape=(n_features,), \n",
    "                activation = 'relu', \n",
    "                kernel_initializer = kernel_initializer,\n",
    "                bias_initializer = bias_initializer,\n",
    "                name = 'hidden_layer1'))\n",
    "### Output layer\n",
    "model.add(Dense(1, activation='linear', name='output_layer'))\n",
    "\n",
    "### Show model architecture\n",
    "model.summary()"
   ]
  },
  {
   "cell_type": "code",
   "execution_count": null,
   "metadata": {
    "collapsed": true
   },
   "outputs": [],
   "source": [
    "initializers.glorot_uniform"
   ]
  }
 ],
 "metadata": {
  "kernelspec": {
   "display_name": "keras",
   "language": "python",
   "name": "keras"
  },
  "language_info": {
   "codemirror_mode": {
    "name": "ipython",
    "version": 3
   },
   "file_extension": ".py",
   "mimetype": "text/x-python",
   "name": "python",
   "nbconvert_exporter": "python",
   "pygments_lexer": "ipython3",
   "version": "3.6.6"
  }
 },
 "nbformat": 4,
 "nbformat_minor": 2
}
