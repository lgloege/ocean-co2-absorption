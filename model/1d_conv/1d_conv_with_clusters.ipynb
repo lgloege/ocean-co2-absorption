{
 "cells": [
  {
   "cell_type": "code",
   "execution_count": 1,
   "metadata": {},
   "outputs": [
    {
     "name": "stderr",
     "output_type": "stream",
     "text": [
      "/home/lg2958/anaconda3/lib/python3.6/site-packages/h5py/__init__.py:36: FutureWarning: Conversion of the second argument of issubdtype from `float` to `np.floating` is deprecated. In future, it will be treated as `np.float64 == np.dtype(float).type`.\n",
      "  from ._conv import register_converters as _register_converters\n"
     ]
    }
   ],
   "source": [
    "import os\n",
    "import numpy as np\n",
    "import xarray as xr\n",
    "import pandas as pd\n",
    "\n",
    "from tensorflow import keras\n",
    "import tensorflow.keras.backend as K\n",
    "\n",
    "import matplotlib.pyplot as plt"
   ]
  },
  {
   "cell_type": "markdown",
   "metadata": {},
   "source": [
    "The data is monthly from Jan 1982 to Jan 2017, in total 421 months. We use data in the first 360 months to train the 1D convolution model, and use the last 360 months to validate the model. Since the first few months in the last 360 months is included in the training set, when computing the loss, we only consider the remaining 61 months which never appear during the training process."
   ]
  },
  {
   "cell_type": "code",
   "execution_count": 9,
   "metadata": {},
   "outputs": [],
   "source": [
    "def rmse(y_true, y_pred):\n",
    "    return K.sqrt(K.mean(K.square(y_pred[-61:] - y_true[-61:]), axis=-1))"
   ]
  },
  {
   "cell_type": "code",
   "execution_count": 4,
   "metadata": {},
   "outputs": [],
   "source": [
    "DATA_DIR = '/home/lg2958/capstone/data'\n",
    "\n",
    "dataset_names = {\n",
    "    'pCO2': 'pCO2_2D_mon_CESM001_1x1_198201-201701.nc',\n",
    "    'XCO2': 'XCO2_1D_mon_CESM001_native_198201-201701.nc',\n",
    "    'SST': 'SST_2D_mon_CESM001_1x1_198201-201701.nc',\n",
    "    'SSS': 'SSS_2D_mon_CESM001_1x1_198201-201701.nc',\n",
    "    'MLD': 'MLD_2D_mon_CESM001_1x1_198201-201701.nc',\n",
    "    'Chl': 'Chl_2D_mon_CESM001_1x1_198201-201701.nc'\n",
    "}\n",
    "\n",
    "ds = {}\n",
    "for dataset in dataset_names.keys():\n",
    "    filename = os.path.join(DATA_DIR, dataset_names[dataset])\n",
    "    ds[dataset] = xr.open_dataset(filename)"
   ]
  },
  {
   "cell_type": "code",
   "execution_count": 5,
   "metadata": {},
   "outputs": [],
   "source": [
    "merged_dataset = xr.merge([ds[name][name] for name in ds.keys()])\n",
    "df = merged_dataset.to_dataframe().reset_index()"
   ]
  },
  {
   "cell_type": "code",
   "execution_count": 9,
   "metadata": {},
   "outputs": [],
   "source": [
    "SOM_DIR = '/home/lg2958/ocean-co2-absorption/notebooks/SOM/'\n",
    "df_SOM = []\n",
    "for i in range(1, 13):\n",
    "    df_SOM.append(pd.read_csv(os.path.join(SOM_DIR, 'SOM_Month_{}.csv'.format(i))))"
   ]
  },
  {
   "cell_type": "code",
   "execution_count": 12,
   "metadata": {},
   "outputs": [],
   "source": [
    "df.dropna(subset=['xlon', 'ylat','pCO2', 'XCO2', 'SST', 'SSS', 'MLD', 'Chl'], inplace=True)\n",
    "df.drop(columns=['TLONG', 'TLAT'], inplace=True)"
   ]
  },
  {
   "cell_type": "markdown",
   "metadata": {},
   "source": [
    "Use k=15 clusters."
   ]
  },
  {
   "cell_type": "code",
   "execution_count": 27,
   "metadata": {},
   "outputs": [],
   "source": [
    "df['month'] = -1\n",
    "for month in range(1, 13):\n",
    "    df_som = df_SOM[month - 1]\n",
    "    df_som['month'] = month\n",
    "    df.loc[df.time.dt.month == month, 'month'] = month"
   ]
  },
  {
   "cell_type": "code",
   "execution_count": 30,
   "metadata": {},
   "outputs": [],
   "source": [
    "df_SOM_combined = pd.concat(df_SOM)[['month', 'ylat', 'xlon', 'k=15']]"
   ]
  },
  {
   "cell_type": "code",
   "execution_count": 33,
   "metadata": {
    "scrolled": true
   },
   "outputs": [
    {
     "name": "stdout",
     "output_type": "stream",
     "text": [
      "(492420, 4)\n"
     ]
    },
    {
     "data": {
      "text/html": [
       "<div>\n",
       "<style scoped>\n",
       "    .dataframe tbody tr th:only-of-type {\n",
       "        vertical-align: middle;\n",
       "    }\n",
       "\n",
       "    .dataframe tbody tr th {\n",
       "        vertical-align: top;\n",
       "    }\n",
       "\n",
       "    .dataframe thead th {\n",
       "        text-align: right;\n",
       "    }\n",
       "</style>\n",
       "<table border=\"1\" class=\"dataframe\">\n",
       "  <thead>\n",
       "    <tr style=\"text-align: right;\">\n",
       "      <th></th>\n",
       "      <th>month</th>\n",
       "      <th>ylat</th>\n",
       "      <th>xlon</th>\n",
       "      <th>k=15</th>\n",
       "    </tr>\n",
       "  </thead>\n",
       "  <tbody>\n",
       "    <tr>\n",
       "      <th>0</th>\n",
       "      <td>1</td>\n",
       "      <td>-77.5</td>\n",
       "      <td>179.5</td>\n",
       "      <td>10</td>\n",
       "    </tr>\n",
       "    <tr>\n",
       "      <th>1</th>\n",
       "      <td>1</td>\n",
       "      <td>-77.5</td>\n",
       "      <td>180.5</td>\n",
       "      <td>10</td>\n",
       "    </tr>\n",
       "    <tr>\n",
       "      <th>2</th>\n",
       "      <td>1</td>\n",
       "      <td>-77.5</td>\n",
       "      <td>181.5</td>\n",
       "      <td>10</td>\n",
       "    </tr>\n",
       "    <tr>\n",
       "      <th>3</th>\n",
       "      <td>1</td>\n",
       "      <td>-77.5</td>\n",
       "      <td>182.5</td>\n",
       "      <td>10</td>\n",
       "    </tr>\n",
       "    <tr>\n",
       "      <th>4</th>\n",
       "      <td>1</td>\n",
       "      <td>-77.5</td>\n",
       "      <td>183.5</td>\n",
       "      <td>10</td>\n",
       "    </tr>\n",
       "  </tbody>\n",
       "</table>\n",
       "</div>"
      ],
      "text/plain": [
       "   month  ylat   xlon  k=15\n",
       "0      1 -77.5  179.5    10\n",
       "1      1 -77.5  180.5    10\n",
       "2      1 -77.5  181.5    10\n",
       "3      1 -77.5  182.5    10\n",
       "4      1 -77.5  183.5    10"
      ]
     },
     "execution_count": 33,
     "metadata": {},
     "output_type": "execute_result"
    }
   ],
   "source": [
    "print(df_SOM_combined.shape)\n",
    "df_SOM_combined.head()"
   ]
  },
  {
   "cell_type": "code",
   "execution_count": 48,
   "metadata": {
    "scrolled": true
   },
   "outputs": [],
   "source": [
    "df_combined = \\\n",
    "    df.merge(df_SOM_combined, left_on=['month', 'ylat', 'xlon'], right_on=['month', 'ylat', 'xlon'], how='left')"
   ]
  },
  {
   "cell_type": "code",
   "execution_count": 50,
   "metadata": {},
   "outputs": [],
   "source": [
    "df_combined.loc[df_combined['k=15'].isnull(), 'k=15'] = -1"
   ]
  },
  {
   "cell_type": "code",
   "execution_count": 51,
   "metadata": {},
   "outputs": [],
   "source": [
    "df_combined['k=15'] = df_combined['k=15'].astype(int)"
   ]
  },
  {
   "cell_type": "code",
   "execution_count": null,
   "metadata": {},
   "outputs": [],
   "source": [
    "df_cluster = pd.concat([df_combined, pd.get_dummies(df_combined['k=15'], dtype=float)], axis=1)"
   ]
  },
  {
   "cell_type": "code",
   "execution_count": 53,
   "metadata": {},
   "outputs": [],
   "source": [
    "df_cluster['s0'] = np.sin(df_cluster.ylat)\n",
    "df_cluster['s1'] = np.sin(df_cluster.xlon) * np.cos(df_cluster.ylat)\n",
    "df_cluster['s2'] = -np.cos(df_cluster.xlon) * np.cos(df_cluster.ylat)"
   ]
  },
  {
   "cell_type": "code",
   "execution_count": 56,
   "metadata": {},
   "outputs": [
    {
     "data": {
      "text/html": [
       "<div>\n",
       "<style scoped>\n",
       "    .dataframe tbody tr th:only-of-type {\n",
       "        vertical-align: middle;\n",
       "    }\n",
       "\n",
       "    .dataframe tbody tr th {\n",
       "        vertical-align: top;\n",
       "    }\n",
       "\n",
       "    .dataframe thead th {\n",
       "        text-align: right;\n",
       "    }\n",
       "</style>\n",
       "<table border=\"1\" class=\"dataframe\">\n",
       "  <thead>\n",
       "    <tr style=\"text-align: right;\">\n",
       "      <th></th>\n",
       "      <th>time</th>\n",
       "      <th>xlon</th>\n",
       "      <th>ylat</th>\n",
       "      <th>pCO2</th>\n",
       "      <th>XCO2</th>\n",
       "      <th>SST</th>\n",
       "      <th>SSS</th>\n",
       "      <th>MLD</th>\n",
       "      <th>Chl</th>\n",
       "      <th>month</th>\n",
       "      <th>...</th>\n",
       "      <th>8</th>\n",
       "      <th>9</th>\n",
       "      <th>10</th>\n",
       "      <th>11</th>\n",
       "      <th>12</th>\n",
       "      <th>13</th>\n",
       "      <th>14</th>\n",
       "      <th>s0</th>\n",
       "      <th>s1</th>\n",
       "      <th>s2</th>\n",
       "    </tr>\n",
       "  </thead>\n",
       "  <tbody>\n",
       "    <tr>\n",
       "      <th>0</th>\n",
       "      <td>1982-01-16 12:00:00</td>\n",
       "      <td>0.5</td>\n",
       "      <td>-69.5</td>\n",
       "      <td>256.390077</td>\n",
       "      <td>340.848541</td>\n",
       "      <td>-1.552322</td>\n",
       "      <td>33.641834</td>\n",
       "      <td>12.729663</td>\n",
       "      <td>1.128493</td>\n",
       "      <td>1</td>\n",
       "      <td>...</td>\n",
       "      <td>0.0</td>\n",
       "      <td>0.0</td>\n",
       "      <td>0.0</td>\n",
       "      <td>0.0</td>\n",
       "      <td>0.0</td>\n",
       "      <td>0.0</td>\n",
       "      <td>1.0</td>\n",
       "      <td>-0.375524</td>\n",
       "      <td>0.444338</td>\n",
       "      <td>-0.813355</td>\n",
       "    </tr>\n",
       "    <tr>\n",
       "      <th>1</th>\n",
       "      <td>1982-01-16 12:00:00</td>\n",
       "      <td>0.5</td>\n",
       "      <td>-68.5</td>\n",
       "      <td>262.338616</td>\n",
       "      <td>340.848541</td>\n",
       "      <td>-1.626047</td>\n",
       "      <td>33.667816</td>\n",
       "      <td>19.951666</td>\n",
       "      <td>0.900315</td>\n",
       "      <td>1</td>\n",
       "      <td>...</td>\n",
       "      <td>0.0</td>\n",
       "      <td>0.0</td>\n",
       "      <td>0.0</td>\n",
       "      <td>0.0</td>\n",
       "      <td>0.0</td>\n",
       "      <td>0.0</td>\n",
       "      <td>1.0</td>\n",
       "      <td>0.576990</td>\n",
       "      <td>0.391571</td>\n",
       "      <td>-0.716767</td>\n",
       "    </tr>\n",
       "    <tr>\n",
       "      <th>2</th>\n",
       "      <td>1982-01-16 12:00:00</td>\n",
       "      <td>0.5</td>\n",
       "      <td>-67.5</td>\n",
       "      <td>261.956626</td>\n",
       "      <td>340.848541</td>\n",
       "      <td>-1.607591</td>\n",
       "      <td>33.572289</td>\n",
       "      <td>19.510101</td>\n",
       "      <td>0.635458</td>\n",
       "      <td>1</td>\n",
       "      <td>...</td>\n",
       "      <td>0.0</td>\n",
       "      <td>0.0</td>\n",
       "      <td>0.0</td>\n",
       "      <td>0.0</td>\n",
       "      <td>0.0</td>\n",
       "      <td>0.0</td>\n",
       "      <td>1.0</td>\n",
       "      <td>0.999021</td>\n",
       "      <td>-0.021204</td>\n",
       "      <td>0.038813</td>\n",
       "    </tr>\n",
       "    <tr>\n",
       "      <th>3</th>\n",
       "      <td>1982-01-16 12:00:00</td>\n",
       "      <td>0.5</td>\n",
       "      <td>-66.5</td>\n",
       "      <td>262.739347</td>\n",
       "      <td>340.848541</td>\n",
       "      <td>-1.496069</td>\n",
       "      <td>33.424641</td>\n",
       "      <td>20.714338</td>\n",
       "      <td>0.420227</td>\n",
       "      <td>1</td>\n",
       "      <td>...</td>\n",
       "      <td>0.0</td>\n",
       "      <td>0.0</td>\n",
       "      <td>0.0</td>\n",
       "      <td>0.0</td>\n",
       "      <td>0.0</td>\n",
       "      <td>0.0</td>\n",
       "      <td>1.0</td>\n",
       "      <td>0.502557</td>\n",
       "      <td>-0.414484</td>\n",
       "      <td>0.758709</td>\n",
       "    </tr>\n",
       "    <tr>\n",
       "      <th>4</th>\n",
       "      <td>1982-01-16 12:00:00</td>\n",
       "      <td>0.5</td>\n",
       "      <td>-65.5</td>\n",
       "      <td>266.288585</td>\n",
       "      <td>340.848541</td>\n",
       "      <td>-1.207762</td>\n",
       "      <td>33.317802</td>\n",
       "      <td>20.579535</td>\n",
       "      <td>0.380468</td>\n",
       "      <td>1</td>\n",
       "      <td>...</td>\n",
       "      <td>0.0</td>\n",
       "      <td>0.0</td>\n",
       "      <td>0.0</td>\n",
       "      <td>0.0</td>\n",
       "      <td>0.0</td>\n",
       "      <td>0.0</td>\n",
       "      <td>1.0</td>\n",
       "      <td>-0.455956</td>\n",
       "      <td>-0.426690</td>\n",
       "      <td>0.781051</td>\n",
       "    </tr>\n",
       "  </tbody>\n",
       "</table>\n",
       "<p>5 rows × 30 columns</p>\n",
       "</div>"
      ],
      "text/plain": [
       "                 time  xlon  ylat        pCO2        XCO2       SST  \\\n",
       "0 1982-01-16 12:00:00   0.5 -69.5  256.390077  340.848541 -1.552322   \n",
       "1 1982-01-16 12:00:00   0.5 -68.5  262.338616  340.848541 -1.626047   \n",
       "2 1982-01-16 12:00:00   0.5 -67.5  261.956626  340.848541 -1.607591   \n",
       "3 1982-01-16 12:00:00   0.5 -66.5  262.739347  340.848541 -1.496069   \n",
       "4 1982-01-16 12:00:00   0.5 -65.5  266.288585  340.848541 -1.207762   \n",
       "\n",
       "         SSS        MLD       Chl  month    ...       8    9   10   11   12  \\\n",
       "0  33.641834  12.729663  1.128493      1    ...     0.0  0.0  0.0  0.0  0.0   \n",
       "1  33.667816  19.951666  0.900315      1    ...     0.0  0.0  0.0  0.0  0.0   \n",
       "2  33.572289  19.510101  0.635458      1    ...     0.0  0.0  0.0  0.0  0.0   \n",
       "3  33.424641  20.714338  0.420227      1    ...     0.0  0.0  0.0  0.0  0.0   \n",
       "4  33.317802  20.579535  0.380468      1    ...     0.0  0.0  0.0  0.0  0.0   \n",
       "\n",
       "    13   14        s0        s1        s2  \n",
       "0  0.0  1.0 -0.375524  0.444338 -0.813355  \n",
       "1  0.0  1.0  0.576990  0.391571 -0.716767  \n",
       "2  0.0  1.0  0.999021 -0.021204  0.038813  \n",
       "3  0.0  1.0  0.502557 -0.414484  0.758709  \n",
       "4  0.0  1.0 -0.455956 -0.426690  0.781051  \n",
       "\n",
       "[5 rows x 30 columns]"
      ]
     },
     "execution_count": 56,
     "metadata": {},
     "output_type": "execute_result"
    }
   ],
   "source": [
    "df_cluster.head()"
   ]
  },
  {
   "cell_type": "code",
   "execution_count": 57,
   "metadata": {},
   "outputs": [],
   "source": [
    "df_cluster.to_csv('data_with_cluster.csv', index=False)"
   ]
  },
  {
   "cell_type": "markdown",
   "metadata": {},
   "source": [
    "* Restart kernel otherwise there might be memory error."
   ]
  },
  {
   "cell_type": "code",
   "execution_count": 4,
   "metadata": {},
   "outputs": [],
   "source": [
    "df = pd.read_csv('data_with_cluster.csv').drop(columns=['month'])"
   ]
  },
  {
   "cell_type": "code",
   "execution_count": 5,
   "metadata": {
    "scrolled": true
   },
   "outputs": [
    {
     "name": "stdout",
     "output_type": "stream",
     "text": [
      "(14785200, 29)\n",
      "(14785200, 29)\n"
     ]
    }
   ],
   "source": [
    "df_train = df[df.time < '2012'].copy()\n",
    "df_val = df[-df_train.shape[0]:].copy()\n",
    "print(df_train.shape)\n",
    "print(df_val.shape)"
   ]
  },
  {
   "cell_type": "code",
   "execution_count": 6,
   "metadata": {
    "scrolled": true
   },
   "outputs": [],
   "source": [
    "df_train.sort_values(by=['xlon', 'ylat', 'time'], inplace=True)\n",
    "df_val.sort_values(by=['xlon', 'ylat', 'time'], inplace=True)"
   ]
  },
  {
   "cell_type": "code",
   "execution_count": 10,
   "metadata": {},
   "outputs": [],
   "source": [
    "df_train.drop(columns=['time', 'xlon', 'ylat', 'k=15'], inplace=True)\n",
    "df_val.drop(columns=['time', 'xlon', 'ylat', 'k=15'], inplace=True)"
   ]
  },
  {
   "cell_type": "code",
   "execution_count": 14,
   "metadata": {},
   "outputs": [],
   "source": [
    "y_train = df_train.pop('pCO2').values\n",
    "X_train = df_train.values\n",
    "y_val = df_val.pop('pCO2').values\n",
    "X_val = df_val.values"
   ]
  },
  {
   "cell_type": "code",
   "execution_count": 22,
   "metadata": {},
   "outputs": [],
   "source": [
    "np.save('y_train', y_train)\n",
    "np.save('X_train', X_train)\n",
    "np.save('y_val', y_val)\n",
    "np.save('X_val', X_val)"
   ]
  },
  {
   "cell_type": "markdown",
   "metadata": {},
   "source": [
    "* Restart kernel otherwise there might be memory error."
   ]
  },
  {
   "cell_type": "code",
   "execution_count": 3,
   "metadata": {},
   "outputs": [],
   "source": [
    "y_train = np.load('y_train.npy')\n",
    "X_train = np.load('X_train.npy')\n",
    "y_val = np.load('y_val.npy')\n",
    "X_val = np.load('X_val.npy')"
   ]
  },
  {
   "cell_type": "code",
   "execution_count": 4,
   "metadata": {},
   "outputs": [],
   "source": [
    "num_grids = 41070\n",
    "X_train = np.array(np.array_split(X_train, num_grids))\n",
    "y_train = np.array(np.array_split(y_train, num_grids))\n",
    "X_val = np.array(np.array_split(X_val, num_grids))\n",
    "y_val = np.array(np.array_split(y_val, num_grids))"
   ]
  },
  {
   "cell_type": "code",
   "execution_count": 6,
   "metadata": {},
   "outputs": [],
   "source": [
    "model = keras.Sequential()\n",
    "model.add(keras.layers.Conv1D(64, 3, activation='relu', input_shape=(360, 24)))\n",
    "model.add(keras.layers.Conv1D(64, 3, activation='relu'))\n",
    "model.add(keras.layers.MaxPooling1D(3))\n",
    "model.add(keras.layers.Conv1D(128, 3, activation='relu'))\n",
    "model.add(keras.layers.Conv1D(128, 3, activation='relu'))\n",
    "model.add(keras.layers.GlobalAveragePooling1D())\n",
    "model.add(keras.layers.Dropout(0.5))\n",
    "model.add(keras.layers.Dense(360))"
   ]
  },
  {
   "cell_type": "code",
   "execution_count": 7,
   "metadata": {},
   "outputs": [
    {
     "name": "stdout",
     "output_type": "stream",
     "text": [
      "_________________________________________________________________\n",
      "Layer (type)                 Output Shape              Param #   \n",
      "=================================================================\n",
      "conv1d (Conv1D)              (None, 358, 64)           4672      \n",
      "_________________________________________________________________\n",
      "conv1d_1 (Conv1D)            (None, 356, 64)           12352     \n",
      "_________________________________________________________________\n",
      "max_pooling1d (MaxPooling1D) (None, 118, 64)           0         \n",
      "_________________________________________________________________\n",
      "conv1d_2 (Conv1D)            (None, 116, 128)          24704     \n",
      "_________________________________________________________________\n",
      "conv1d_3 (Conv1D)            (None, 114, 128)          49280     \n",
      "_________________________________________________________________\n",
      "global_average_pooling1d (Gl (None, 128)               0         \n",
      "_________________________________________________________________\n",
      "dropout (Dropout)            (None, 128)               0         \n",
      "_________________________________________________________________\n",
      "dense (Dense)                (None, 360)               46440     \n",
      "=================================================================\n",
      "Total params: 137,448\n",
      "Trainable params: 137,448\n",
      "Non-trainable params: 0\n",
      "_________________________________________________________________\n"
     ]
    }
   ],
   "source": [
    "model.summary()"
   ]
  },
  {
   "cell_type": "code",
   "execution_count": 10,
   "metadata": {},
   "outputs": [],
   "source": [
    "model.compile(optimizer='adam', loss='mean_squared_error', metrics=['mse', rmse])"
   ]
  },
  {
   "cell_type": "code",
   "execution_count": 11,
   "metadata": {},
   "outputs": [
    {
     "name": "stdout",
     "output_type": "stream",
     "text": [
      "Train on 41070 samples, validate on 41070 samples\n",
      "Epoch 1/20\n",
      "41070/41070 [==============================] - 253s 6ms/step - loss: 4149.9149 - mean_squared_error: 4149.9149 - rmse: 55.2440 - val_loss: 1723.5931 - val_mean_squared_error: 1723.5931 - val_rmse: 35.8030\n",
      "Epoch 2/20\n",
      "41070/41070 [==============================] - 224s 5ms/step - loss: 3367.2741 - mean_squared_error: 3367.2741 - rmse: 50.0770 - val_loss: 2368.2022 - val_mean_squared_error: 2368.2022 - val_rmse: 44.7322\n",
      "Epoch 3/20\n",
      "41070/41070 [==============================] - 223s 5ms/step - loss: 2786.7764 - mean_squared_error: 2786.7764 - rmse: 45.7852 - val_loss: 1503.2673 - val_mean_squared_error: 1503.2673 - val_rmse: 33.9141\n",
      "Epoch 4/20\n",
      "41070/41070 [==============================] - 225s 5ms/step - loss: 2415.3769 - mean_squared_error: 2415.3769 - rmse: 42.6271 - val_loss: 1082.7558 - val_mean_squared_error: 1082.7558 - val_rmse: 27.2540\n",
      "Epoch 5/20\n",
      "41070/41070 [==============================] - 224s 5ms/step - loss: 2067.2346 - mean_squared_error: 2067.2346 - rmse: 39.3888 - val_loss: 1303.6529 - val_mean_squared_error: 1303.6529 - val_rmse: 31.6128\n",
      "Epoch 6/20\n",
      "41070/41070 [==============================] - 223s 5ms/step - loss: 1903.9798 - mean_squared_error: 1903.9798 - rmse: 37.9746 - val_loss: 1496.0842 - val_mean_squared_error: 1496.0842 - val_rmse: 34.2939\n",
      "Epoch 7/20\n",
      "41070/41070 [==============================] - 224s 5ms/step - loss: 1763.2470 - mean_squared_error: 1763.2470 - rmse: 36.6052 - val_loss: 1107.0943 - val_mean_squared_error: 1107.0943 - val_rmse: 27.6089\n",
      "Epoch 8/20\n",
      "41070/41070 [==============================] - 225s 5ms/step - loss: 1706.8199 - mean_squared_error: 1706.8199 - rmse: 36.0700 - val_loss: 1464.3932 - val_mean_squared_error: 1464.3932 - val_rmse: 34.0776\n",
      "Epoch 9/20\n",
      "41070/41070 [==============================] - 225s 5ms/step - loss: 1678.3925 - mean_squared_error: 1678.3925 - rmse: 35.8237 - val_loss: 1421.8208 - val_mean_squared_error: 1421.8208 - val_rmse: 33.3487\n",
      "Epoch 10/20\n",
      "41070/41070 [==============================] - 228s 6ms/step - loss: 1636.9276 - mean_squared_error: 1636.9276 - rmse: 35.3938 - val_loss: 1370.3603 - val_mean_squared_error: 1370.3603 - val_rmse: 32.4710\n",
      "Epoch 11/20\n",
      "41070/41070 [==============================] - 225s 5ms/step - loss: 1583.2583 - mean_squared_error: 1583.2583 - rmse: 34.8764 - val_loss: 1226.8035 - val_mean_squared_error: 1226.8035 - val_rmse: 29.3366\n",
      "Epoch 12/20\n",
      "41070/41070 [==============================] - 225s 5ms/step - loss: 1562.6951 - mean_squared_error: 1562.6951 - rmse: 34.6170 - val_loss: 1540.1026 - val_mean_squared_error: 1540.1026 - val_rmse: 32.7352\n",
      "Epoch 13/20\n",
      "41070/41070 [==============================] - 227s 6ms/step - loss: 1519.4178 - mean_squared_error: 1519.4178 - rmse: 34.1183 - val_loss: 1481.4362 - val_mean_squared_error: 1481.4362 - val_rmse: 33.7914\n",
      "Epoch 14/20\n",
      "41070/41070 [==============================] - 224s 5ms/step - loss: 1440.1214 - mean_squared_error: 1440.1214 - rmse: 33.2789 - val_loss: 1227.4661 - val_mean_squared_error: 1227.4661 - val_rmse: 29.8316\n",
      "Epoch 15/20\n",
      "41070/41070 [==============================] - 223s 5ms/step - loss: 1428.7971 - mean_squared_error: 1428.7971 - rmse: 33.1360 - val_loss: 1258.3639 - val_mean_squared_error: 1258.3639 - val_rmse: 30.1378\n",
      "Epoch 16/20\n",
      "41070/41070 [==============================] - 224s 5ms/step - loss: 1408.2892 - mean_squared_error: 1408.2892 - rmse: 32.9385 - val_loss: 1121.9215 - val_mean_squared_error: 1121.9215 - val_rmse: 27.6235\n",
      "Epoch 17/20\n",
      "41070/41070 [==============================] - 222s 5ms/step - loss: 1363.4357 - mean_squared_error: 1363.4357 - rmse: 32.4550 - val_loss: 1131.7725 - val_mean_squared_error: 1131.7725 - val_rmse: 27.9522\n",
      "Epoch 18/20\n",
      "41070/41070 [==============================] - 224s 5ms/step - loss: 1354.7840 - mean_squared_error: 1354.7840 - rmse: 32.3432 - val_loss: 1510.6849 - val_mean_squared_error: 1510.6849 - val_rmse: 33.7403\n",
      "Epoch 19/20\n",
      "41070/41070 [==============================] - 222s 5ms/step - loss: 1335.4032 - mean_squared_error: 1335.4032 - rmse: 32.0801 - val_loss: 1297.8129 - val_mean_squared_error: 1297.8129 - val_rmse: 30.6977\n",
      "Epoch 20/20\n",
      "41070/41070 [==============================] - 224s 5ms/step - loss: 1327.2920 - mean_squared_error: 1327.2920 - rmse: 32.0221 - val_loss: 1217.1385 - val_mean_squared_error: 1217.1385 - val_rmse: 29.0179\n"
     ]
    }
   ],
   "source": [
    "history = model.fit(X_train, y_train, epochs=20, batch_size=1, validation_data=(X_val, y_val))"
   ]
  },
  {
   "cell_type": "code",
   "execution_count": 12,
   "metadata": {},
   "outputs": [
    {
     "data": {
      "image/png": "[encoded data removed]",
      "text/plain": [
       "<Figure size 720x504 with 1 Axes>"
      ]
     },
     "metadata": {},
     "output_type": "display_data"
    }
   ],
   "source": [
    "epochs = np.arange(1, 21)\n",
    "train_mse = history.history['mean_squared_error']\n",
    "val_rmse = history.history['val_rmse']\n",
    "\n",
    "plt.figure(figsize=(10, 7))\n",
    "plt.plot(epochs, np.sqrt(train_mse), 'bo', label='Training RMSE')\n",
    "plt.plot(epochs, val_rmse, 'b', label='Validation RMSE')\n",
    "plt.title('Training and validation RMSE')\n",
    "plt.legend()\n",
    "\n",
    "plt.savefig('RMSE_with_clusters.png', dpi=300)\n",
    "plt.show()"
   ]
  },
  {
   "cell_type": "code",
   "execution_count": null,
   "metadata": {},
   "outputs": [],
   "source": []
  }
 ],
 "metadata": {
  "kernelspec": {
   "display_name": "Python 3",
   "language": "python",
   "name": "python3"
  },
  "language_info": {
   "codemirror_mode": {
    "name": "ipython",
    "version": 3
   },
   "file_extension": ".py",
   "mimetype": "text/x-python",
   "name": "python",
   "nbconvert_exporter": "python",
   "pygments_lexer": "ipython3",
   "version": "3.6.5"
  }
 },
 "nbformat": 4,
 "nbformat_minor": 2
}
