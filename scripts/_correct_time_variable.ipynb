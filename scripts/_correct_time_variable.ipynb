{
 "cells": [
  {
   "cell_type": "markdown",
   "metadata": {},
   "source": [
    "# process inputs\n",
    "\n",
    "The time variable got messed up along the way. It is off by one month. For example, January 1989 reads as February 1989. This replaces the time variable with `tmnth` to correct the error\n",
    "\n",
    "L. Gloege Oct. 2018"
   ]
  },
  {
   "cell_type": "code",
   "execution_count": 14,
   "metadata": {},
   "outputs": [],
   "source": [
    "%matplotlib inline\n",
    "import os\n",
    "import xarray as xr\n",
    "import numpy as np\n",
    "import cmocean as cm\n",
    "import matplotlib as mpl\n",
    "import matplotlib.pyplot as plt\n",
    "import cartopy.crs as ccrs\n",
    "import cartopy.feature as cfeature"
   ]
  },
  {
   "cell_type": "markdown",
   "metadata": {},
   "source": [
    "## Define data directory"
   ]
  },
  {
   "cell_type": "code",
   "execution_count": 15,
   "metadata": {
    "collapsed": true
   },
   "outputs": [],
   "source": [
    "data_dir = '/Users/gloege/Documents/Projects/ocean-co2-absorption/data/'"
   ]
  },
  {
   "cell_type": "markdown",
   "metadata": {},
   "source": [
    "## Loop over files and replace time dimensions"
   ]
  },
  {
   "cell_type": "code",
   "execution_count": 21,
   "metadata": {},
   "outputs": [
    {
     "name": "stdout",
     "output_type": "stream",
     "text": [
      "pCO2_2D_mon_CESM001_1x1_198201-201701.nc\n",
      "MLD_2D_mon_CESM001_1x1_198201-201701.nc\n",
      "SST_2D_mon_CESM001_1x1_198201-201701.nc\n",
      "U10_2D_mon_CESM001_1x1_198201-201701.nc\n",
      "pATM_2D_mon_CESM001_1x1_198201-201701.nc\n",
      "FG-CO2_2D_mon_CESM001_1x1_198201-201701.nc\n",
      "Chl_2D_mon_CESM001_1x1_198201-201701.nc\n",
      "iceFrac_2D_mon_CESM001_1x1_198201-201701.nc\n",
      "SSS_2D_mon_CESM001_1x1_198201-201701.nc\n"
     ]
    }
   ],
   "source": [
    "for fl in os.listdir(f'{data_dir}/member_001'):\n",
    "    if (fl != 'XCO2_1D_mon_CESM001_native_198201-201701.nc'):\n",
    "        print(fl)\n",
    "        #fl = 'SST_2D_mon_CESM001_1x1_198201-201701.nc'\n",
    "        ds = xr.open_dataset(f'{data_dir}member_001/{fl}')\n",
    "        ds['time'] = ds['tmnth']\n",
    "        ds.to_netcdf(f'{data_dir}raw/member_001/{fl}')"
   ]
  },
  {
   "cell_type": "markdown",
   "metadata": {},
   "source": [
    "## xCO2 did not have tmnth variable"
   ]
  },
  {
   "cell_type": "code",
   "execution_count": 27,
   "metadata": {},
   "outputs": [],
   "source": [
    "ds_sst = xr.open_dataset(f'{data_dir}member_001/SST_2D_mon_CESM001_1x1_198201-201701.nc')\n",
    "ds_xco2 = xr.open_dataset(f'{data_dir}member_001/XCO2_1D_mon_CESM001_native_198201-201701.nc')\n",
    "ds_xco2['tmnth'] = ds_sst['tmnth']\n",
    "ds_xco2['time'] = ds_xco2['tmnth']\n",
    "ds_xco2.to_netcdf(f'{data_dir}raw/member_001/XCO2_1D_mon_CESM001_native_198201-201701.nc')"
   ]
  }
 ],
 "metadata": {
  "kernelspec": {
   "display_name": "cartopy",
   "language": "python",
   "name": "cartopy"
  },
  "language_info": {
   "codemirror_mode": {
    "name": "ipython",
    "version": 3
   },
   "file_extension": ".py",
   "mimetype": "text/x-python",
   "name": "python",
   "nbconvert_exporter": "python",
   "pygments_lexer": "ipython3",
   "version": "3.6.6"
  }
 },
 "nbformat": 4,
 "nbformat_minor": 2
}
